{
 "cells": [
  {
   "cell_type": "code",
   "execution_count": 870,
   "metadata": {},
   "outputs": [],
   "source": [
    "import matplotlib.pyplot as plt\n",
    "import numpy as np\n",
    "import pandas as pd\n",
    "%matplotlib inline\n",
    "from matplotlib import rc, font_manager\n",
    "ticks_font = font_manager.FontProperties(family='serif', style='normal',\n",
    "                                         size=24, weight='normal', stretch='normal')\n",
    "import scipy.integrate as integrate\n",
    "import scipy.optimize as optimize\n",
    "from scipy import interpolate"
   ]
  },
  {
   "cell_type": "code",
   "execution_count": 560,
   "metadata": {},
   "outputs": [],
   "source": [
    "# Mo\n",
    "inputdata = {\n",
    "    \"E_f_v\" :2.96 ,\n",
    "    \"E_f_si\" : 7.419 ,\n",
    "    \"a_0\" : 3.14,\n",
    "    \"E_w\" : 0.146,\n",
    "    \"G\": 51,\n",
    "    \"nu\": 0.3,\n",
    "    \"rho\" : 4e13\n",
    "}\n",
    "experiment_conditions = {\n",
    "    \"T\" : 300,\n",
    "    \"strain_r\" : 0.001 \n",
    "}"
   ]
  },
  {
   "cell_type": "code",
   "execution_count": 561,
   "metadata": {},
   "outputs": [
    {
     "data": {
      "text/plain": [
       "4.0"
      ]
     },
     "execution_count": 561,
     "metadata": {},
     "output_type": "execute_result"
    }
   ],
   "source": [
    "4e13/10**13"
   ]
  },
  {
   "cell_type": "code",
   "execution_count": 562,
   "metadata": {},
   "outputs": [],
   "source": [
    "class Suzuki_model_RWASM:\n",
    "    \n",
    "    def __init__(self,\n",
    "                inputdata,\n",
    "                composition,\n",
    "                experiment_conditions):\n",
    "        \n",
    "        # conditions\n",
    "        self.strain_r = experiment_conditions['strain_r']\n",
    "        self.T = experiment_conditions['T']\n",
    "        # constants\n",
    "        self.boltzmann_J = 1.380649e-23\n",
    "        self.boltzmann_eV = 8.617333262145e-5\n",
    "        self.kT = self.boltzmann_J * self.T\n",
    "        self.J2eV = self.boltzmann_eV/self.boltzmann_J\n",
    "        self.eV2J = 1/self.J2eV\n",
    "        self.Debye = 5 * 10**(12) # Debye frequency /s\n",
    "        self.rho = inputdata['rho']\n",
    "        \n",
    "        # properties\n",
    "        self.E_f_v = inputdata['E_f_v'] * self.eV2J #J\n",
    "        self.E_f_si = inputdata['E_f_si'] * self.eV2J # J\n",
    "        self.a_0 = inputdata['a_0'] * 10**(-10) # unit: m\n",
    "        self.E_w = inputdata['E_w'] * self.eV2J # J\n",
    "        self.c = composition\n",
    "        self.G = inputdata['G'] * 10**9 # Pa\n",
    "        self.nu = 0.3\n",
    "        \n",
    "        self.b = self.a_0 * np.sqrt(3) / 2\n",
    "        self.a_p = self.a_0 * np.sqrt(2/3)\n",
    "        self.E_vac = 0.707 * self.E_f_v  /self.b + self.G * self.b**2 / (np.pi*(1-self.nu)) * np.log(1.5)\n",
    "        self.E_int = 0.707 * self.E_f_si /self.b + self.G * self.b**2 / (np.pi*(1-self.nu)) * np.log(1.5)\n",
    "        self.lambda_k = self.b * 10\n",
    "        \n",
    "        \n",
    "        \n",
    "    def L(self,kappa_i):\n",
    "        f = lambda x: np.exp(-x**2/2)/np.sqrt(2*np.pi)\n",
    "        y = integrate.quad(f,kappa_i,np.inf)\n",
    "        return self.b/(3*y[0]*self.c) \n",
    "    \n",
    "\n",
    "    \n",
    "    \n",
    "    def tau_y_optimize(self,x):\n",
    "        \n",
    "        self.tau_j = lambda kappa_i: (self.E_int + self.E_vac)/(4*self.b*self.L(kappa_i))\n",
    "        \n",
    "        self.Delta_V = lambda x: 3 * x[1]**2 * self.E_w**2 * self.c / (2*x[0]**2*self.a_p*self.b**2) + \\\n",
    "                                     x[0]**2 * self.a_p**3 * self.b**4 * self.lambda_k**2 / (6*x[1]**2 * self.E_w**2 * self.c)\n",
    "        \n",
    "        self.S = lambda x: 18 * x[1]**2 * self.E_w**2 * self.c *self.kT /(self.a_p**3 * self.b**4 * self.lambda_k**2) * \\\n",
    "                 np.log( (5*np.pi*self.kT)**2 * self.Debye * self.a_p * self.b /((self.G*self.b*self.Delta_V(x))**2 * self.strain_r) )\n",
    "        \n",
    "        self.R = lambda kappa_i: 27 * kappa_i**4 * self.E_w**4 * self.c**2 / (self.a_p**4 * self.b**6 * self.lambda_k**2)\n",
    "        \n",
    "        # x[0] = tau_k\n",
    "        # x[1] = kappa_i\n",
    "        #self.tau_k_opt_func = lambda x: x[0]**4 + x[0]*self.S(x) - self.R(x[1]) \n",
    "        \n",
    "        self.tau_y_funcs = lambda x: (self.tau_j(x[1]) + x[0], x[0]**4 + x[0]*self.S(x) - self.R(x[1]))\n",
    "        \n",
    "        \n",
    "        self.res = optimize.root(self.tau_y_funcs, x)\n",
    "        \n",
    "        self.tau_k_value = self.res.x[0]\n",
    "        self.tau_y_value = (self.res.x[0]) + self.tau_j(self.res.x[1])\n",
    "        self.tau_j_value = self.tau_j(self.res.x[1])\n",
    "        self.L_value = self.L(self.res.x[1])"
   ]
  },
  {
   "cell_type": "code",
   "execution_count": 563,
   "metadata": {
    "scrolled": true
   },
   "outputs": [
    {
     "name": "stdout",
     "output_type": "stream",
     "text": [
      "2.339177885640048e-20\n",
      "3.785740003883886e-09\n",
      "1.9283333367329973e-09\n",
      "2.5637992641130596e-10\n",
      "2.7193197678831374e-09\n"
     ]
    }
   ],
   "source": [
    "model = Suzuki_model_RWASM(inputdata,0.05,experiment_conditions)\n",
    "print(model.E_w)\n",
    "print(model.E_int)\n",
    "print(model.E_vac)\n",
    "print(model.a_p)\n",
    "print(model.lambda_k)\n",
    "\n",
    "model_results = []\n",
    "tau_k_list = []\n",
    "tau_j_list = []\n",
    "tau_y_list = []\n",
    "optimized_kappa = []\n",
    "optimized_L = []\n",
    "kappa_i_list = np.linspace(0.001,15,2000)\n",
    "for kappa_i in kappa_i_list:\n",
    "    x = np.array([5000000,kappa_i])\n",
    "    model.tau_y_optimize(x)\n",
    "    model_results.append(model.res)\n",
    "    optimized_L.append(model.L_value)\n",
    "    optimized_kappa.append(model.res.x[1])\n",
    "    tau_k_list.append(model.tau_k_value/1e6)\n",
    "    tau_j_list.append(model.tau_j_value/1e6)\n",
    "    tau_y_list.append(model.tau_y_value/1e6)\n",
    "\n",
    "\n"
   ]
  },
  {
   "cell_type": "code",
   "execution_count": 564,
   "metadata": {},
   "outputs": [
    {
     "data": {
      "text/plain": [
       "<matplotlib.lines.Line2D at 0x13471b990>"
      ]
     },
     "execution_count": 564,
     "metadata": {},
     "output_type": "execute_result"
    },
    {
     "data": {
      "image/png": "[encoded data removed]",
      "text/plain": [
       "<Figure size 432x288 with 1 Axes>"
      ]
     },
     "metadata": {
      "needs_background": "light"
     },
     "output_type": "display_data"
    }
   ],
   "source": [
    "plt.scatter(optimized_kappa,tau_y_list)\n",
    "plt.ylim(0,1000)\n",
    "plt.axhline(144)"
   ]
  },
  {
   "cell_type": "code",
   "execution_count": 565,
   "metadata": {},
   "outputs": [
    {
     "data": {
      "text/plain": [
       "(0, 1000)"
      ]
     },
     "execution_count": 565,
     "metadata": {},
     "output_type": "execute_result"
    },
    {
     "data": {
      "image/png": "[encoded data removed]",
      "text/plain": [
       "<Figure size 432x288 with 1 Axes>"
      ]
     },
     "metadata": {
      "needs_background": "light"
     },
     "output_type": "display_data"
    }
   ],
   "source": [
    "plt.scatter(np.array(optimized_L)*1e10,tau_y_list)\n",
    "plt.ylim(0,1000)\n",
    "plt.xlim(0,1000)"
   ]
  },
  {
   "cell_type": "code",
   "execution_count": 566,
   "metadata": {},
   "outputs": [
    {
     "data": {
      "text/plain": [
       "<matplotlib.collections.PathCollection at 0x1347b7990>"
      ]
     },
     "execution_count": 566,
     "metadata": {},
     "output_type": "execute_result"
    },
    {
     "data": {
      "image/png": "[encoded data removed]",
      "text/plain": [
       "<Figure size 432x288 with 1 Axes>"
      ]
     },
     "metadata": {
      "needs_background": "light"
     },
     "output_type": "display_data"
    }
   ],
   "source": [
    "plt.scatter(optimized_kappa,np.array(optimized_L)*1e10)"
   ]
  },
  {
   "cell_type": "code",
   "execution_count": 552,
   "metadata": {},
   "outputs": [
    {
     "data": {
      "text/plain": [
       "<matplotlib.collections.PathCollection at 0x133d8d910>"
      ]
     },
     "execution_count": 552,
     "metadata": {},
     "output_type": "execute_result"
    },
    {
     "data": {
      "image/png": "[encoded data removed]",
      "text/plain": [
       "<Figure size 432x288 with 1 Axes>"
      ]
     },
     "metadata": {
      "needs_background": "light"
     },
     "output_type": "display_data"
    }
   ],
   "source": [
    "plt.scatter(optimized_kappa,tau_j_list)"
   ]
  },
  {
   "cell_type": "code",
   "execution_count": 559,
   "metadata": {},
   "outputs": [],
   "source": [
    "# Nb\n",
    "inputdata2 = {\n",
    "    \"E_f_v\" :2.99 ,\n",
    "    \"E_f_si\" : 5.254 ,\n",
    "    \"a_0\" : 3.3,\n",
    "    \"E_w\" : 0.07,\n",
    "    \"G\": 51,\n",
    "    \"nu\": 0.3,\n",
    "    \"rho\" : 4e13\n",
    "}\n",
    "experiment_conditions = {\n",
    "    \"T\" : 300,\n",
    "    \"strain_r\" : 0.001 \n",
    "}"
   ]
  },
  {
   "cell_type": "code",
   "execution_count": 575,
   "metadata": {},
   "outputs": [
    {
     "name": "stdout",
     "output_type": "stream",
     "text": [
      "1.1215236438000231e-20\n",
      "2.8504599574078905e-09\n",
      "1.953110388574753e-09\n",
      "2.694438717061496e-10\n",
      "2.8578838324886473e-09\n"
     ]
    }
   ],
   "source": [
    "\n",
    "model2 = Suzuki_model_RWASM(inputdata2,0.9,experiment_conditions)\n",
    "print(model2.E_w)\n",
    "print(model2.E_int)\n",
    "print(model2.E_vac)\n",
    "print(model2.a_p)\n",
    "print(model2.lambda_k)\n",
    "\n",
    "model_results2 = []\n",
    "tau_k_list2 = []\n",
    "tau_j_list2 = []\n",
    "tau_y_list2 = []\n",
    "optimized_kappa2 = []\n",
    "optimized_L2 = []\n",
    "kappa_i_list2 = np.linspace(0.001,15,2000)\n",
    "for kappa_i in kappa_i_list2:\n",
    "    x = np.array([5000000,kappa_i])\n",
    "    model2.tau_y_optimize(x)\n",
    "    model_results2.append(model2.res)\n",
    "    optimized_L2.append(model2.L_value)\n",
    "    optimized_kappa2.append(model2.res.x[1])\n",
    "    tau_k_list2.append(model2.tau_k_value/1e6)\n",
    "    tau_j_list2.append(model2.tau_j_value/1e6)\n",
    "    tau_y_list2.append(model2.tau_y_value/1e6)\n",
    "\n",
    "\n",
    "plt.scatter(optimized_kappa2,tau_y_list2)\n",
    "plt.ylim(0,1000)\n",
    "plt.axhline(620)\n"
   ]
  },
  {
   "cell_type": "code",
   "execution_count": 580,
   "metadata": {},
   "outputs": [
    {
     "data": {
      "text/plain": [
       "<matplotlib.lines.Line2D at 0x1351610d0>"
      ]
     },
     "execution_count": 580,
     "metadata": {},
     "output_type": "execute_result"
    },
    {
     "data": {
      "image/png": "[encoded data removed]",
      "text/plain": [
       "<Figure size 432x288 with 1 Axes>"
      ]
     },
     "metadata": {
      "needs_background": "light"
     },
     "output_type": "display_data"
    }
   ],
   "source": [
    "plt.scatter(optimized_kappa2,tau_y_list2)\n",
    "plt.ylim(0,1000)\n",
    "plt.axhline(620)"
   ]
  },
  {
   "cell_type": "code",
   "execution_count": null,
   "metadata": {},
   "outputs": [],
   "source": []
  },
  {
   "cell_type": "code",
   "execution_count": 586,
   "metadata": {},
   "outputs": [],
   "source": [
    "def tau_Nb(para):\n",
    "    (theta_i,q) = para\n",
    "    return (theta_i*0.95**q-650, theta_i*0.90**q-625)\n"
   ]
  },
  {
   "cell_type": "code",
   "execution_count": 593,
   "metadata": {},
   "outputs": [
    {
     "data": {
      "text/plain": [
       "    fjac: array([[-0.72105266, -0.69288027],\n",
       "       [ 0.69288027, -0.72105266]])\n",
       "     fun: array([-1.75077730e-11, -2.78532752e-11])\n",
       " message: 'The solution converged.'\n",
       "    nfev: 8\n",
       "     qtf: array([2.83245929e-07, 7.05717035e-08])\n",
       "       r: array([-1.33491592, 69.71361662, 24.39217258])\n",
       "  status: 1\n",
       " success: True\n",
       "       x: array([674.64110386,   0.72540649])"
      ]
     },
     "execution_count": 593,
     "metadata": {},
     "output_type": "execute_result"
    }
   ],
   "source": [
    "optimize.root(tau_Nb,[700,1])"
   ]
  },
  {
   "cell_type": "code",
   "execution_count": 594,
   "metadata": {},
   "outputs": [
    {
     "data": {
      "text/plain": [
       "    fjac: array([[-0.45183103, -0.89210354],\n",
       "       [ 0.89210354, -0.45183103]])\n",
       "     fun: array([-1.36708422e-11, -1.50066626e-11])\n",
       " message: 'The solution converged.'\n",
       "    nfev: 18\n",
       "     qtf: array([-2.25937990e-08,  6.04265705e-09])\n",
       "       r: array([-1.22385098e-01,  7.57166345e+02, -9.22836582e+01])\n",
       "  status: 1\n",
       " success: True\n",
       "       x: array([2.49190774e+03, 9.49373927e-01])"
      ]
     },
     "execution_count": 594,
     "metadata": {},
     "output_type": "execute_result"
    }
   ],
   "source": [
    "def tau_Mo(para):\n",
    "    (theta_i,q) = para\n",
    "    return (theta_i*0.05**q-145, theta_i*0.1**q-280)\n",
    "\n",
    "optimize.root(tau_Mo,[600,1])"
   ]
  },
  {
   "cell_type": "code",
   "execution_count": 596,
   "metadata": {},
   "outputs": [
    {
     "data": {
      "text/plain": [
       "720.1945181252473"
      ]
     },
     "execution_count": 596,
     "metadata": {},
     "output_type": "execute_result"
    }
   ],
   "source": [
    "q = 0.9\n",
    "(145*(1/q) + 650**(1/q))**q"
   ]
  },
  {
   "cell_type": "code",
   "execution_count": 961,
   "metadata": {},
   "outputs": [],
   "source": [
    "# Ti\n",
    "inputdataTi = {\n",
    "    \"E_f_v\" :2.99 ,\n",
    "    \"E_f_si\" : 5.254 ,\n",
    "    \"a_0\" : 3.31,\n",
    "    \"E_w\" : -0.028,\n",
    "    \"G\": 32,\n",
    "    \"nu\": 0.35,\n",
    "    \"rho\" : 4e13\n",
    "}\n",
    "experiment_conditions = {\n",
    "    \"T\" : 300,\n",
    "    \"strain_r\" : 0.001 \n",
    "}\n",
    "\n",
    "# Nb\n",
    "inputdataNb = {\n",
    "    \"E_f_v\" :2.99 ,\n",
    "    \"E_f_si\" : 5.254 ,\n",
    "    \"a_0\" : 3.3,\n",
    "    \"E_w\" : 0.054,\n",
    "    \"G\": 32,\n",
    "    \"nu\": 0.35,\n",
    "    \"rho\" : 4e13\n",
    "}\n",
    "experiment_conditions = {\n",
    "    \"T\" : 300,\n",
    "    \"strain_r\" : 0.001 \n",
    "}\n",
    "\n",
    "# Zr\n",
    "inputdataZr = {\n",
    "    \"E_f_v\" :2.99 ,\n",
    "    \"E_f_si\" : 5.254 ,\n",
    "    \"a_0\" : 3.58,\n",
    "    \"E_w\" : -0.053,\n",
    "    \"G\": 32,\n",
    "    \"nu\": 0.35,\n",
    "    \"rho\" : 4e13\n",
    "}\n",
    "experiment_conditions = {\n",
    "    \"T\" : 300,\n",
    "    \"strain_r\" : 0.001 \n",
    "}\n",
    "\n",
    "\n"
   ]
  },
  {
   "cell_type": "code",
   "execution_count": 962,
   "metadata": {},
   "outputs": [],
   "source": [
    "class Suzuki_model_RWASM_NbTiZr:\n",
    "    \n",
    "    def __init__(self,\n",
    "                inputdata,\n",
    "                composition,\n",
    "                experiment_conditions):\n",
    "        \n",
    "        # conditions\n",
    "        self.strain_r = experiment_conditions['strain_r']\n",
    "        self.T = experiment_conditions['T']\n",
    "        # constants\n",
    "        self.boltzmann_J = 1.380649e-23\n",
    "        self.boltzmann_eV = 8.617333262145e-5\n",
    "        self.kT = self.boltzmann_J * self.T\n",
    "        self.J2eV = self.boltzmann_eV/self.boltzmann_J\n",
    "        self.eV2J = 1/self.J2eV\n",
    "        self.Debye = 5 * 10**(12) # Debye frequency /s\n",
    "        self.rho = inputdata['rho']\n",
    "        \n",
    "        # properties\n",
    "        self.E_f_v = inputdata['E_f_v'] * self.eV2J #J\n",
    "        self.E_f_si = inputdata['E_f_si'] * self.eV2J # J\n",
    "        self.a_0 = 3.397*1e-10#inputdata['a_0'] * 10**(-10) # unit: m\n",
    "        self.E_w = 0.05 * self.eV2J#inputdata['E_w'] * self.eV2J # J\n",
    "        self.c = composition\n",
    "        self.G = inputdata['G'] * 10**9 # Pa\n",
    "        self.nu = 0.3\n",
    "        \n",
    "        self.b = self.a_0 * np.sqrt(3) / 2\n",
    "        self.a_p = self.a_0 * np.sqrt(2/3)\n",
    "        #self.E_vac = 0.6 * self.eV2J / 10**(-10) #\n",
    "        #self.E_int = 0.9 * self.eV2J / 10**(-10) #\n",
    "        self.E_vac = 0.707 * self.E_f_v  /self.b + self.G * self.b**2 / (np.pi*(1-self.nu)) * np.log(1.5)\n",
    "        self.E_int = 0.707 * self.E_f_si /self.b + self.G * self.b**2 / (np.pi*(1-self.nu)) * np.log(1.5)\n",
    "        self.lambda_k = self.b * 10\n",
    "        \n",
    "        \n",
    "        \n",
    "    def L(self,kappa_i):\n",
    "        f = lambda x: np.exp(-x**2/2)/np.sqrt(2*np.pi)\n",
    "        y = integrate.quad(f,kappa_i,np.inf)\n",
    "        return self.b/(3*y[0]*self.c) \n",
    "    \n",
    "    def tau_y_optimize(self,x):\n",
    "        \n",
    "        self.tau_j = lambda kappa_i: (self.E_int + self.E_vac)/(4*self.b*self.L(kappa_i))\n",
    "        \n",
    "        self.Delta_V = lambda x: 3 * x[1]**2 * self.E_w**2 * self.c / (2*x[0]**2*self.a_p*self.b**2) + \\\n",
    "                                     x[0]**2 * self.a_p**3 * self.b**4 * self.lambda_k**2 / (6*x[1]**2 * self.E_w**2 * self.c)\n",
    "        \n",
    "        self.S = lambda x: 18 * x[1]**2 * self.E_w**2 * self.c *self.kT /(self.a_p**3 * self.b**4 * self.lambda_k**2) * \\\n",
    "                 np.log( (5*np.pi*self.kT)**2 * self.Debye * self.a_p * self.b /((self.G*self.b*self.Delta_V(x))**2 * self.strain_r) )\n",
    "        \n",
    "        self.R = lambda kappa_i: 27 * kappa_i**4 * self.E_w**4 * self.c**2 / (self.a_p**4 * self.b**6 * self.lambda_k**2)\n",
    "        \n",
    "        # x[0] = tau_k\n",
    "        # x[1] = kappa_i\n",
    "        #self.tau_k_opt_func = lambda x: x[0]**4 + x[0]*self.S(x) - self.R(x[1]) \n",
    "        \n",
    "        self.tau_y_funcs = lambda x: (self.tau_j(x[1]) + x[0], x[0]**4 + x[0]*self.S(x) - self.R(x[1]))\n",
    "        \n",
    "        \n",
    "        self.res = optimize.root(self.tau_y_funcs, x)\n",
    "        \n",
    "        self.tau_k_value = self.res.x[0]\n",
    "        self.tau_y_value = (self.res.x[0]) + self.tau_j(self.res.x[1])\n",
    "        self.tau_j_value = self.tau_j(self.res.x[1])\n",
    "        self.L_value = self.L(self.res.x[1])\n",
    "        \n",
    "        "
   ]
  },
  {
   "cell_type": "code",
   "execution_count": 965,
   "metadata": {},
   "outputs": [
    {
     "data": {
      "text/plain": [
       "{'T': 300, 'strain_r': 0.001}"
      ]
     },
     "execution_count": 965,
     "metadata": {},
     "output_type": "execute_result"
    }
   ],
   "source": [
    "experiment_conditions['T'] = 300\n",
    "experiment_conditions"
   ]
  },
  {
   "cell_type": "code",
   "execution_count": 966,
   "metadata": {},
   "outputs": [
    {
     "name": "stdout",
     "output_type": "stream",
     "text": [
      "8.010883170000164e-21\n",
      "1.4419589706000296e-09\n",
      "9.613059804000197e-10\n",
      "2.773638885411485e-10\n",
      "2.9418882966557377e-09\n",
      "8.010883170000164e-21\n",
      "1.4419589706000296e-09\n",
      "9.613059804000197e-10\n",
      "2.773638885411485e-10\n",
      "2.9418882966557377e-09\n",
      "8.010883170000164e-21\n",
      "1.4419589706000296e-09\n",
      "9.613059804000197e-10\n",
      "2.773638885411485e-10\n",
      "2.9418882966557377e-09\n"
     ]
    },
    {
     "data": {
      "image/png": "[encoded data removed]",
      "text/plain": [
       "<Figure size 432x288 with 1 Axes>"
      ]
     },
     "metadata": {
      "needs_background": "light"
     },
     "output_type": "display_data"
    }
   ],
   "source": [
    "\n",
    "modelNb = Suzuki_model_RWASM_NbTiZr(inputdataNb,1,experiment_conditions)\n",
    "print(modelNb.E_w)\n",
    "print(modelNb.E_int)\n",
    "print(modelNb.E_vac)\n",
    "print(modelNb.a_p)\n",
    "print(modelNb.lambda_k)\n",
    "\n",
    "model_resultsNb = []\n",
    "tau_k_listNb = []\n",
    "tau_j_listNb = []\n",
    "tau_y_listNb = []\n",
    "optimized_kappaNb = []\n",
    "optimized_LNb = []\n",
    "kappa_i_listNb = np.linspace(1,5,200)\n",
    "for kappa_i in kappa_i_listNb:\n",
    "    x = np.array([5000000,kappa_i])\n",
    "    modelNb.tau_y_optimize(x)\n",
    "    model_resultsNb.append(modelNb.res)\n",
    "    optimized_LNb.append(modelNb.L_value)\n",
    "    optimized_kappaNb.append(modelNb.res.x[1])\n",
    "    tau_k_listNb.append(modelNb.tau_k_value/1e6)\n",
    "    tau_j_listNb.append(modelNb.tau_j_value/1e6)\n",
    "    tau_y_listNb.append(modelNb.tau_y_value/1e6)\n",
    "\n",
    "\n",
    "plt.scatter(optimized_kappaNb,tau_y_listNb)\n",
    "plt.ylim(0,1000)\n",
    "plt.axhline(400)\n",
    "\n",
    "\n",
    "modelTi = Suzuki_model_RWASM_NbTiZr(inputdataTi,1,experiment_conditions)\n",
    "print(modelTi.E_w)\n",
    "print(modelTi.E_int)\n",
    "print(modelTi.E_vac)\n",
    "print(modelTi.a_p)\n",
    "print(modelTi.lambda_k)\n",
    "\n",
    "model_resultsTi = []\n",
    "tau_k_listTi = []\n",
    "tau_j_listTi = []\n",
    "tau_y_listTi = []\n",
    "optimized_kappaTi = []\n",
    "optimized_LTi = []\n",
    "kappa_i_listTi = np.linspace(1,5,200)\n",
    "for kappa_i in kappa_i_listTi:\n",
    "    x = np.array([5000000,kappa_i])\n",
    "    modelTi.tau_y_optimize(x)\n",
    "    model_resultsTi.append(modelTi.res)\n",
    "    optimized_LTi.append(modelTi.L_value)\n",
    "    optimized_kappaTi.append(modelTi.res.x[1])\n",
    "    tau_k_listTi.append(modelTi.tau_k_value/1e6)\n",
    "    tau_j_listTi.append(modelTi.tau_j_value/1e6)\n",
    "    tau_y_listTi.append(modelTi.tau_y_value/1e6)\n",
    "\n",
    "\n",
    "plt.scatter(optimized_kappaTi,tau_y_listTi)\n",
    "plt.ylim(0,1000)\n",
    "plt.axhline(400)\n",
    "\n",
    "\n",
    "\n",
    "modelZr = Suzuki_model_RWASM_NbTiZr(inputdataZr,1,experiment_conditions)\n",
    "print(modelZr.E_w)\n",
    "print(modelZr.E_int)\n",
    "print(modelZr.E_vac)\n",
    "print(modelZr.a_p)\n",
    "print(modelZr.lambda_k)\n",
    "\n",
    "model_resultsZr = []\n",
    "tau_k_listZr = []\n",
    "tau_j_listZr = []\n",
    "tau_y_listZr = []\n",
    "optimized_kappaZr = []\n",
    "optimized_LZr = []\n",
    "kappa_i_listZr = np.linspace(1,5,200)\n",
    "for kappa_i in kappa_i_listZr:\n",
    "    x = np.array([5000000,kappa_i])\n",
    "    modelZr.tau_y_optimize(x)\n",
    "    model_resultsZr.append(modelZr.res)\n",
    "    optimized_LZr.append(modelZr.L_value)\n",
    "    optimized_kappaZr.append(modelZr.res.x[1])\n",
    "    tau_k_listZr.append(modelZr.tau_k_value/1e6)\n",
    "    tau_j_listZr.append(modelZr.tau_j_value/1e6)\n",
    "    tau_y_listZr.append(modelZr.tau_y_value/1e6)\n",
    "\n",
    "\n"
   ]
  },
  {
   "cell_type": "code",
   "execution_count": 967,
   "metadata": {},
   "outputs": [
    {
     "data": {
      "text/plain": [
       "341.14240379775055"
      ]
     },
     "execution_count": 967,
     "metadata": {},
     "output_type": "execute_result"
    },
    {
     "data": {
      "image/png": "[encoded data removed]",
      "text/plain": [
       "<Figure size 432x288 with 1 Axes>"
      ]
     },
     "metadata": {
      "needs_background": "light"
     },
     "output_type": "display_data"
    }
   ],
   "source": [
    "new_coords_x, new_coords_y  = zip(*sorted(zip(optimized_kappaZr, tau_y_listZr)))\n",
    "\n",
    "x_array = np.linspace(0,4,200)\n",
    "plt.plot(new_coords_x,new_coords_y,color='r')\n",
    "plt.ylim(0,500)\n",
    "plt.axhline(min(new_coords_y))\n",
    "min(new_coords_y)"
   ]
  },
  {
   "cell_type": "code",
   "execution_count": 971,
   "metadata": {},
   "outputs": [
    {
     "data": {
      "text/plain": [
       "0.6931471805599453"
      ]
     },
     "execution_count": 971,
     "metadata": {},
     "output_type": "execute_result"
    }
   ],
   "source": [
    "np.log(2)"
   ]
  },
  {
   "cell_type": "code",
   "execution_count": 968,
   "metadata": {},
   "outputs": [
    {
     "data": {
      "text/plain": [
       "(0, 500)"
      ]
     },
     "execution_count": 968,
     "metadata": {},
     "output_type": "execute_result"
    },
    {
     "data": {
      "image/png": "[encoded data removed]",
      "text/plain": [
       "<Figure size 432x288 with 1 Axes>"
      ]
     },
     "metadata": {
      "needs_background": "light"
     },
     "output_type": "display_data"
    }
   ],
   "source": [
    "new_x = new_coords_x[next(i for i,v in enumerate(new_coords_x) if v > 1):]\n",
    "new_y = new_coords_y[next(i for i,v in enumerate(new_coords_x) if v > 1):]\n",
    "polyfit = np.polyfit(new_x,new_y,5)\n",
    "npfit = np.poly1d(polyfit)\n",
    "\n",
    "fit = interpolate.interp1d(new_x,new_y)\n",
    "x_array = np.arange(min(new_x),max(new_x),0.001)\n",
    "\n",
    "plt.scatter(new_x,new_y)\n",
    "plt.plot(x_array,npfit(x_array))\n",
    "plt.plot(x_array,fit(x_array))\n",
    "plt.ylim(0,500)\n"
   ]
  },
  {
   "cell_type": "code",
   "execution_count": 973,
   "metadata": {},
   "outputs": [
    {
     "name": "stdout",
     "output_type": "stream",
     "text": [
      "2.6675525112756935\n",
      "Optimization terminated successfully    (Exit mode 0)\n",
      "            Current function value: [341.39207031]\n",
      "            Iterations: 4\n",
      "            Function evaluations: 10\n",
      "            Gradient evaluations: 4\n"
     ]
    }
   ],
   "source": [
    "guess_kappa = (min(new_x)+max(new_x))/2\n",
    "print(guess_kappa)\n",
    "res = optimize.fmin_slsqp(npfit,guess_kappa,bounds=([(min(new_x),max(new_x))]))"
   ]
  },
  {
   "cell_type": "code",
   "execution_count": 978,
   "metadata": {},
   "outputs": [
    {
     "data": {
      "text/plain": [
       "341.3920703070853"
      ]
     },
     "execution_count": 978,
     "metadata": {},
     "output_type": "execute_result"
    }
   ],
   "source": [
    "npfit(res[0])"
   ]
  },
  {
   "cell_type": "code",
   "execution_count": null,
   "metadata": {},
   "outputs": [],
   "source": []
  },
  {
   "cell_type": "code",
   "execution_count": 933,
   "metadata": {},
   "outputs": [
    {
     "data": {
      "text/plain": [
       "<matplotlib.lines.Line2D at 0x141feab50>"
      ]
     },
     "execution_count": 933,
     "metadata": {},
     "output_type": "execute_result"
    },
    {
     "data": {
      "image/png": "[encoded data removed]",
      "text/plain": [
       "<Figure size 432x288 with 1 Axes>"
      ]
     },
     "metadata": {
      "needs_background": "light"
     },
     "output_type": "display_data"
    }
   ],
   "source": [
    "plt.scatter(optimized_kappaNb,tau_y_listNb,color='r')\n",
    "#plt.ylim(0,200)\n",
    "plt.axhline(134)\n",
    "\n",
    "plt.scatter(optimized_kappaZr,tau_y_listZr,color='b')\n",
    "#plt.ylim(0,200)\n",
    "plt.axhline(44)\n",
    "\n",
    "plt.scatter(optimized_kappaTi,tau_y_listTi,color='k')\n",
    "plt.ylim(0,500)\n",
    "plt.axhline(36)\n",
    "\n",
    "plt.axvline(3)\n",
    "plt.axvline(2.5)"
   ]
  },
  {
   "cell_type": "code",
   "execution_count": 827,
   "metadata": {},
   "outputs": [
    {
     "name": "stdout",
     "output_type": "stream",
     "text": [
      "1039.5\n",
      "569.25\n",
      "456.5\n",
      "393.25\n",
      "341.0\n"
     ]
    }
   ],
   "source": [
    "# universal 0.05 eV E_w\n",
    "q = 1\n",
    "# 300K\n",
    "print((134**(1/q) + (110)**(1/q) + (134)**(1/q))**q * 2.75)\n",
    "# 673 \n",
    "print(((74)**(1/q) + (59)**(1/q) + (74)**(1/q))**q * 2.75)\n",
    "# 873\n",
    "print(((59)**(1/q) + (48)**(1/q) + (59)**(1/q))**q * 2.75)\n",
    "# 1073 \n",
    "print(((51)**(1/q) + (41)**(1/q) + (51)**(1/q))**q * 2.75)\n",
    "# 1273 \n",
    "print(((44)**(1/q) + (36)**(1/q) + (44)**(1/q))**q * 2.75)"
   ]
  },
  {
   "cell_type": "code",
   "execution_count": 937,
   "metadata": {},
   "outputs": [
    {
     "data": {
      "text/plain": [
       "<matplotlib.lines.Line2D at 0x1422e2a90>"
      ]
     },
     "execution_count": 937,
     "metadata": {},
     "output_type": "execute_result"
    },
    {
     "data": {
      "image/png": "[encoded data removed]",
      "text/plain": [
       "<Figure size 432x288 with 1 Axes>"
      ]
     },
     "metadata": {
      "needs_background": "light"
     },
     "output_type": "display_data"
    }
   ],
   "source": [
    "plt.scatter(optimized_kappaNb,tau_j_listNb)\n",
    "#plt.ylim(0,200)\n",
    "plt.axhline(50)\n",
    "\n",
    "plt.scatter(optimized_kappaZr,tau_j_listZr)\n",
    "#plt.ylim(0,200)\n",
    "plt.axhline(39)\n",
    "\n",
    "plt.scatter(optimized_kappaTi,tau_j_listTi)\n",
    "plt.ylim(0,200)\n",
    "plt.axhline(60)\n",
    "\n",
    "plt.axvline(3)\n",
    "plt.axvline(2.74440486)"
   ]
  },
  {
   "cell_type": "code",
   "execution_count": null,
   "metadata": {},
   "outputs": [],
   "source": []
  },
  {
   "cell_type": "code",
   "execution_count": 922,
   "metadata": {},
   "outputs": [
    {
     "name": "stdout",
     "output_type": "stream",
     "text": [
      "859.6776709328013\n",
      "459.8891621187227\n",
      "376.32692528169827\n",
      "318.87625984499516\n",
      "279.62142012882214\n"
     ]
    }
   ],
   "source": [
    "# different E_w for Ti, Nb, and Zr\n",
    "q = 0.95\n",
    "# 300K\n",
    "print((153**(1/q) + (120)**(1/q) + (56)**(1/q))**q * 2.75)\n",
    "# 673 \n",
    "print(((82)**(1/q) + (64)**(1/q) + (30)**(1/q))**q * 2.75)\n",
    "# 873\n",
    "print(((67)**(1/q) + (53)**(1/q) + (24)**(1/q))**q * 2.75)\n",
    "# 1073 \n",
    "print(((57)**(1/q) + (45)**(1/q) + (20)**(1/q))**q * 2.75)\n",
    "# 1273 \n",
    "print(((50)**(1/q) + (39)**(1/q) + (18)**(1/q))**q * 2.75)"
   ]
  },
  {
   "cell_type": "code",
   "execution_count": null,
   "metadata": {},
   "outputs": [],
   "source": []
  },
  {
   "cell_type": "code",
   "execution_count": 957,
   "metadata": {},
   "outputs": [],
   "source": []
  },
  {
   "cell_type": "code",
   "execution_count": null,
   "metadata": {},
   "outputs": [],
   "source": []
  },
  {
   "cell_type": "code",
   "execution_count": null,
   "metadata": {},
   "outputs": [],
   "source": []
  },
  {
   "cell_type": "code",
   "execution_count": 960,
   "metadata": {},
   "outputs": [
    {
     "data": {
      "text/plain": [
       "<matplotlib.legend.Legend at 0x142e6ae90>"
      ]
     },
     "execution_count": 960,
     "metadata": {},
     "output_type": "execute_result"
    },
    {
     "data": {
      "image/png": "[encoded data removed]",
      "text/plain": [
       "<Figure size 432x288 with 1 Axes>"
      ]
     },
     "metadata": {
      "needs_background": "light"
     },
     "output_type": "display_data"
    }
   ],
   "source": [
    "paper_data = [\n",
    "1032.146606445312,\n",
    "622.820007324219,\n",
    "513.924377441406,\n",
    "434.880462646484,\n",
    "169.899871826172,\n",
    "]\n",
    "predicted_data1 = [860,460,376,319,280]\n",
    "predicted_data2 = [904.75,484.0,396.0,335.5,294.25]\n",
    "predicted_data3 = [1039.5,569.25,456.5,393.25,341.0]\n",
    "predicted_data4 = np.array([350,191,156,132, 116])*3.067\n",
    "plt.plot([300,673,873,1073,1273],predicted_data1,'-o',label='q=0.95, different E_w')\n",
    "plt.plot([300,673,873,1073,1273],predicted_data2,'-o',label='q=1')\n",
    "plt.plot([300,673,873,1073,1273],predicted_data3,'-o',label='q=1, universal E_w')\n",
    "plt.plot([300,673,873,1073,1273],predicted_data4,'-s',label='universal E_w')\n",
    "\n",
    "\n",
    "\n",
    "plt.plot([300,673,873,1073,1273],paper_data,'-s',label='paper')\n",
    "plt.legend()"
   ]
  },
  {
   "cell_type": "code",
   "execution_count": null,
   "metadata": {},
   "outputs": [],
   "source": []
  },
  {
   "cell_type": "code",
   "execution_count": 714,
   "metadata": {},
   "outputs": [],
   "source": [
    "class Suzuki_model_RWASM_NbTiZr_high_T:\n",
    "    \n",
    "    def __init__(self,\n",
    "                inputdata,\n",
    "                composition,\n",
    "                experiment_conditions):\n",
    "        \n",
    "        # conditions\n",
    "        self.strain_r = experiment_conditions['strain_r']\n",
    "        self.T = experiment_conditions['T']\n",
    "        # constants\n",
    "        self.boltzmann_J = 1.380649e-23\n",
    "        self.boltzmann_eV = 8.617333262145e-5\n",
    "        self.kT = self.boltzmann_J * self.T\n",
    "        self.J2eV = self.boltzmann_eV/self.boltzmann_J\n",
    "        self.eV2J = 1/self.J2eV\n",
    "        self.Debye = 5 * 10**(12) # Debye frequency /s\n",
    "        self.rho = inputdata['rho']\n",
    "        \n",
    "        # properties\n",
    "        self.E_f_v = inputdata['E_f_v'] * self.eV2J #J\n",
    "        self.E_f_si = inputdata['E_f_si'] * self.eV2J # J\n",
    "        self.a_0 = inputdata['a_0'] * 10**(-10) # unit: m\n",
    "        self.E_w = inputdata['E_w'] * self.eV2J # J\n",
    "        self.c = composition\n",
    "        self.G = inputdata['G'] * 10**9 # Pa\n",
    "        self.nu = 0.3\n",
    "        \n",
    "        self.b = self.a_0 * np.sqrt(3) / 2\n",
    "        self.a_p = self.a_0 * np.sqrt(2/3)\n",
    "        self.E_vac = 0.6 * self.eV2J / 10**(-10) #0.707 * self.E_f_v  /self.b + self.G * self.b**2 / (np.pi*(1-self.nu)) * np.log(1.5)\n",
    "        self.E_int = 0.9 * self.eV2J / 10**(-10) #0.707 * self.E_f_si /self.b + self.G * self.b**2 / (np.pi*(1-self.nu)) * np.log(1.5)\n",
    "        self.lambda_k = self.b * 10\n",
    "        \n",
    "        self.Tl = 1961\n",
    "        self.Q = 19.12 * self.boltzmann_J * self.Tl\n",
    "        self.D = 14 * self.Debye * self.b **2 * np.exp(-self.Q/self.kT)\n",
    "        \n",
    "        \n",
    "    def L(self,kappa_i):\n",
    "        f = lambda x: np.exp(-x**2/2)/np.sqrt(2*np.pi)\n",
    "        y = integrate.quad(f,kappa_i,np.inf)\n",
    "        return self.b/(3*y[0]*self.c) \n",
    "    \n",
    "\n",
    "    \n",
    "    \n",
    "    def tau_y_optimize(self,x):\n",
    "        \n",
    "        self.tau_j = lambda kappa_i: (self.kT / (b**2 *2 * self.L(kappa_i))) * \\\n",
    "                                     np.log(self.strain_r/(2.598*np.pi*self.rho*self.D) + (1+(self.strain_r/(2.598*np.pi*self.rho*self.D))**2)**(0.5))\n",
    "        \n",
    "        self.Delta_V = lambda x: 3 * x[1]**2 * self.E_w**2 * self.c / (2*x[0]**2*self.a_p*self.b**2) + \\\n",
    "                                     x[0]**2 * self.a_p**3 * self.b**4 * self.lambda_k**2 / (6*x[1]**2 * self.E_w**2 * self.c)\n",
    "        \n",
    "        self.S = lambda x: 18 * x[1]**2 * self.E_w**2 * self.c *self.kT /(self.a_p**3 * self.b**4 * self.lambda_k**2) * \\\n",
    "                 np.log( (5*np.pi*self.kT)**2 * self.Debye * self.a_p * self.b /((self.G*self.b*self.Delta_V(x))**2 * self.strain_r) )\n",
    "        \n",
    "        self.R = lambda kappa_i: 27 * kappa_i**4 * self.E_w**4 * self.c**2 / (self.a_p**4 * self.b**6 * self.lambda_k**2)\n",
    "        \n",
    "        # x[0] = tau_k\n",
    "        # x[1] = kappa_i\n",
    "        #self.tau_k_opt_func = lambda x: x[0]**4 + x[0]*self.S(x) - self.R(x[1]) \n",
    "        \n",
    "        self.tau_y_funcs = lambda x: (self.tau_j(x[1]) + x[0], x[0]**4 + x[0]*self.S(x) - self.R(x[1]))\n",
    "        \n",
    "        \n",
    "        self.res = optimize.root(self.tau_y_funcs, x)\n",
    "        \n",
    "        self.tau_k_value = self.res.x[0]\n",
    "        self.tau_y_value = (self.res.x[0]) + self.tau_j(self.res.x[1])\n",
    "        self.tau_j_value = self.tau_j(self.res.x[1])\n",
    "        self.L_value = self.L(self.res.x[1])"
   ]
  },
  {
   "cell_type": "code",
   "execution_count": 715,
   "metadata": {},
   "outputs": [
    {
     "name": "stdout",
     "output_type": "stream",
     "text": [
      "8.651753823600177e-21\n",
      "1.4419589706000296e-09\n",
      "9.613059804000197e-10\n",
      "2.694438717061496e-10\n",
      "2.8578838324886473e-09\n"
     ]
    }
   ],
   "source": [
    "\n",
    "modelNb = Suzuki_model_RWASM_NbTiZr_high_T(inputdataNb,0.33,experiment_conditions)\n",
    "print(modelNb.E_w)\n",
    "print(modelNb.E_int)\n",
    "print(modelNb.E_vac)\n",
    "print(modelNb.a_p)\n",
    "print(modelNb.lambda_k)\n",
    "\n",
    "model_resultsNb = []\n",
    "tau_k_listNb = []\n",
    "tau_j_listNb = []\n",
    "tau_y_listNb = []\n",
    "optimized_kappaNb = []\n",
    "optimized_LNb = []\n",
    "kappa_i_listNb = np.linspace(0.001,15,2000)\n",
    "for kappa_i in kappa_i_listNb:\n",
    "    x = np.array([5000000,kappa_i])\n",
    "    modelNb.tau_y_optimize(x)\n",
    "    model_resultsNb.append(modelNb.res)\n",
    "    optimized_LNb.append(modelNb.L_value)\n",
    "    optimized_kappaNb.append(modelNb.res.x[1])\n",
    "    tau_k_listNb.append(modelNb.tau_k_value/1e6)\n",
    "    tau_j_listNb.append(modelNb.tau_j_value/1e6)\n",
    "    tau_y_listNb.append(modelNb.tau_y_value/1e6)\n",
    "\n",
    "\n"
   ]
  },
  {
   "cell_type": "code",
   "execution_count": 716,
   "metadata": {},
   "outputs": [
    {
     "name": "stdout",
     "output_type": "stream",
     "text": [
      "-4.486094575200092e-21\n",
      "1.4419589706000296e-09\n",
      "9.613059804000197e-10\n",
      "2.7026036828707733e-10\n",
      "2.8665440865264917e-09\n"
     ]
    },
    {
     "name": "stderr",
     "output_type": "stream",
     "text": [
      " /opt/anaconda3/lib/python3.7/site-packages/ipykernel_launcher.py:43: RuntimeWarning:divide by zero encountered in double_scalars\n"
     ]
    }
   ],
   "source": [
    "\n",
    "modelTi = Suzuki_model_RWASM_NbTiZr_high_T(inputdataTi,0.33,experiment_conditions)\n",
    "print(modelTi.E_w)\n",
    "print(modelTi.E_int)\n",
    "print(modelTi.E_vac)\n",
    "print(modelTi.a_p)\n",
    "print(modelTi.lambda_k)\n",
    "\n",
    "model_resultsTi = []\n",
    "tau_k_listTi = []\n",
    "tau_j_listTi = []\n",
    "tau_y_listTi = []\n",
    "optimized_kappaTi = []\n",
    "optimized_LTi = []\n",
    "kappa_i_listTi = np.linspace(0.001,15,2000)\n",
    "for kappa_i in kappa_i_listTi:\n",
    "    x = np.array([5000000,kappa_i])\n",
    "    modelTi.tau_y_optimize(x)\n",
    "    model_resultsTi.append(modelTi.res)\n",
    "    optimized_LTi.append(modelTi.L_value)\n",
    "    optimized_kappaTi.append(modelTi.res.x[1])\n",
    "    tau_k_listTi.append(modelTi.tau_k_value/1e6)\n",
    "    tau_j_listTi.append(modelTi.tau_j_value/1e6)\n",
    "    tau_y_listTi.append(modelTi.tau_y_value/1e6)\n",
    "\n",
    "\n",
    "\n"
   ]
  },
  {
   "cell_type": "code",
   "execution_count": 717,
   "metadata": {},
   "outputs": [
    {
     "name": "stdout",
     "output_type": "stream",
     "text": [
      "-8.491536160200174e-21\n",
      "1.4419589706000296e-09\n",
      "9.613059804000197e-10\n",
      "2.923057759721259e-10\n",
      "3.10037094554829e-09\n"
     ]
    }
   ],
   "source": [
    "\n",
    "modelZr = Suzuki_model_RWASM_NbTiZr_high_T(inputdataZr,0.33,experiment_conditions)\n",
    "print(modelZr.E_w)\n",
    "print(modelZr.E_int)\n",
    "print(modelZr.E_vac)\n",
    "print(modelZr.a_p)\n",
    "print(modelZr.lambda_k)\n",
    "\n",
    "model_resultsZr = []\n",
    "tau_k_listZr = []\n",
    "tau_j_listZr = []\n",
    "tau_y_listZr = []\n",
    "optimized_kappaZr = []\n",
    "optimized_LZr = []\n",
    "kappa_i_listZr = np.linspace(0.001,15,2000)\n",
    "for kappa_i in kappa_i_listZr:\n",
    "    x = np.array([5000000,kappa_i])\n",
    "    modelZr.tau_y_optimize(x)\n",
    "    model_resultsZr.append(modelZr.res)\n",
    "    optimized_LZr.append(modelZr.L_value)\n",
    "    optimized_kappaZr.append(modelZr.res.x[1])\n",
    "    tau_k_listZr.append(modelZr.tau_k_value/1e6)\n",
    "    tau_j_listZr.append(modelZr.tau_j_value/1e6)\n",
    "    tau_y_listZr.append(modelZr.tau_y_value/1e6)\n",
    "\n",
    "\n"
   ]
  },
  {
   "cell_type": "code",
   "execution_count": 720,
   "metadata": {},
   "outputs": [
    {
     "data": {
      "text/plain": [
       "<matplotlib.lines.Line2D at 0x135e83890>"
      ]
     },
     "execution_count": 720,
     "metadata": {},
     "output_type": "execute_result"
    },
    {
     "data": {
      "image/png": "[encoded data removed]",
      "text/plain": [
       "<Figure size 432x288 with 1 Axes>"
      ]
     },
     "metadata": {
      "needs_background": "light"
     },
     "output_type": "display_data"
    }
   ],
   "source": [
    "plt.scatter(optimized_kappaNb,tau_y_listNb)\n",
    "#plt.ylim(0,200)\n",
    "plt.axhline(50)\n",
    "\n",
    "plt.scatter(optimized_kappaZr,tau_y_listZr)\n",
    "#plt.ylim(0,200)\n",
    "plt.axhline(39)\n",
    "\n",
    "plt.scatter(optimized_kappaTi,tau_y_listTi)\n",
    "#plt.ylim(0,100)\n",
    "plt.axhline(18)"
   ]
  },
  {
   "cell_type": "code",
   "execution_count": 722,
   "metadata": {},
   "outputs": [
    {
     "data": {
      "text/plain": [
       "(1.757566177e-20, 5.176649541368001e-19, 3.69615099727667e-05)"
      ]
     },
     "execution_count": 722,
     "metadata": {},
     "output_type": "execute_result"
    }
   ],
   "source": [
    "modelNb.kT, modelNb.Q, modelNb.rho*modelNb.D"
   ]
  },
  {
   "cell_type": "code",
   "execution_count": null,
   "metadata": {},
   "outputs": [],
   "source": []
  }
 ],
 "metadata": {
  "kernelspec": {
   "display_name": "Python 3",
   "language": "python",
   "name": "python3"
  },
  "language_info": {
   "codemirror_mode": {
    "name": "ipython",
    "version": 3
   },
   "file_extension": ".py",
   "mimetype": "text/x-python",
   "name": "python",
   "nbconvert_exporter": "python",
   "pygments_lexer": "ipython3",
   "version": "3.7.4"
  }
 },
 "nbformat": 4,
 "nbformat_minor": 2
}
