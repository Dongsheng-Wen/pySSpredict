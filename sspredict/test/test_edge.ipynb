{
 "cells": [
  {
   "cell_type": "code",
   "execution_count": 1,
   "metadata": {},
   "outputs": [],
   "source": [
    "import numpy as np\n",
    "import matplotlib.pyplot as plt"
   ]
  },
  {
   "cell_type": "markdown",
   "metadata": {},
   "source": [
    "# BCC and FCC "
   ]
  },
  {
   "cell_type": "code",
   "execution_count": 12,
   "metadata": {},
   "outputs": [],
   "source": [
    "def average_quantities(E_list,V_list,S_list,Comp_list):\n",
    "    average_E_list=np.empty(len(Comp_list))\n",
    "    average_S_list=np.empty(len(Comp_list))\n",
    "    average_V_list=np.empty(len(Comp_list))\n",
    "    average_b_list=np.empty(len(Comp_list))\n",
    "    average_nu_list=np.empty(len(Comp_list))\n",
    "    delta_Vn_list=np.empty([len(Comp_list),len(E_list)])\n",
    "    for i in range(len(Comp_list)):\n",
    "        c = Comp_list[i]\n",
    "        #print(c)\n",
    "        avg_E = np.dot(E_list,c)\n",
    "        avg_S = np.dot(S_list,c)\n",
    "        avg_nu = avg_E/(2*avg_S)-1\n",
    "        avg_V = np.dot(V_list,c)\n",
    "        delta_Vn = V_list-avg_V\n",
    "        avg_b = (4*avg_V)**(1/3)/(2**0.5)\n",
    "        average_E_list[i]=(avg_E)\n",
    "        average_S_list[i]=(avg_S)\n",
    "        average_V_list[i]=(avg_V)\n",
    "        average_b_list[i]=(avg_b)\n",
    "        average_nu_list[i]=(avg_nu)\n",
    "        delta_Vn_list[i,:]=(delta_Vn)\n",
    "    return average_E_list,average_S_list,average_V_list,average_b_list,average_nu_list,delta_Vn_list\n",
    "\n",
    "def curtin_BCC(average_S_list,average_V_list,average_b_list,average_nu_list,delta_Vn_list,Comp_list,T,ep):\n",
    "    kc = 1.38064852*10**(-23) #J/K\n",
    "    J2eV=6.2415093433*10**18\n",
    "    ep0 = 10**4   \n",
    "    aver_S = average_S_list\n",
    "    aver_b = average_b_list\n",
    "    \n",
    "    sum_cndVn_b6_list = np.empty(len(Comp_list))\n",
    "    \n",
    "    dEb_list=np.empty(len(Comp_list))\n",
    "    Ty0_list=np.empty(len(Comp_list))\n",
    "    delta_ss_list=np.empty(len(Comp_list))\n",
    "    for i in range(len(Comp_list)):\n",
    "        c = Comp_list[i]\n",
    "        #print(delta_Vn_list[i,:])\n",
    "        #print(delta_Vn_list[i,:]**2)\n",
    "        sum_cndVn_b6 = np.dot(c,delta_Vn_list[i,:]**2)/average_b_list[i]**6\n",
    "        #print(sum_cndVn_b6)\n",
    "        sum_cndVn_b6_list[i]=sum_cndVn_b6\n",
    "        q_nu = ((1 + average_nu_list)/(1 - average_nu_list))\n",
    "        dEb = 2.00  *  0.123**(1/3) * aver_S * aver_b**3   * q_nu**(2/3) * sum_cndVn_b6**(1/3)\n",
    "        Ty0 = 0.040 * 0.123**(-1/3)  *   aver_S    *        q_nu**(4/3) * sum_cndVn_b6**(2/3)\n",
    "        Ty_T = Ty0  * (1 - ((kc*T)/(dEb) * np.log(ep0/ep))**(2/3) )\n",
    "        if Ty_T<=Ty0/2:\n",
    "            Ty_T = Ty0  * np.exp(-1/0.55* kc*T/dEb*np.log(ep0/ep))\n",
    "        delta_ss = 3.06*Ty_T\n",
    "        dEb_list[i]=dEb\n",
    "        Ty0_list[i]=Ty0\n",
    "        delta_ss_list[i]=delta_ss\n",
    "    return dEb_list, Ty0_list, delta_ss_list\n",
    "\n",
    "def curtin_BCC_old(average_S_list,average_V_list,average_b_list,average_nu_list,delta_Vn_list,Comp_list,T,ep):\n",
    "    kc = 1.38064852*10**(-23) #J/K\n",
    "    J2eV=6.2415093433*10**18\n",
    "    ep0 = 10**4   \n",
    "    aver_S = average_S_list\n",
    "    aver_b = average_b_list\n",
    "    \n",
    "    sum_cndVn_b6_list = np.empty(len(Comp_list))\n",
    "    \n",
    "    dEb_list=np.empty(len(Comp_list))\n",
    "    Ty0_list=np.empty(len(Comp_list))\n",
    "    delta_ss_list=np.empty(len(Comp_list))\n",
    "    for i in range(len(Comp_list)):\n",
    "        c = Comp_list[i]\n",
    "        #print(delta_Vn_list[i,:])\n",
    "        #print(delta_Vn_list[i,:]**2)\n",
    "        sum_cndVn_b6 = np.dot(c,delta_Vn_list[i,:]**2)/average_b_list[i]**6\n",
    "        #print(sum_cndVn_b6)\n",
    "        sum_cndVn_b6_list[i]=sum_cndVn_b6\n",
    "        q_nu = ((1 + average_nu_list)/(1 - average_nu_list))\n",
    "        dEb = 2.00  *  0.123**(1/3) * aver_S * aver_b**3   * q_nu**(2/3) * sum_cndVn_b6**(1/3)\n",
    "        Ty0 = 0.040 * 0.123**(-1/3)  *   aver_S    *        q_nu**(4/3) * sum_cndVn_b6**(2/3)\n",
    "        Ty_T = Ty0  * (1 - ((kc*T)/(dEb) * np.log(ep0/ep))**(2/3) )\n",
    "        \n",
    "        delta_ss = 3.06*Ty_T\n",
    "        dEb_list[i]=dEb\n",
    "        Ty0_list[i]=Ty0\n",
    "        delta_ss_list[i]=delta_ss\n",
    "    return dEb_list, Ty0_list, delta_ss_list"
   ]
  },
  {
   "cell_type": "code",
   "execution_count": 3,
   "metadata": {},
   "outputs": [],
   "source": [
    "# Mo-Ta-Nb\n",
    "V_list=np.array([15.941,18.345,18.355])*1e-30\n",
    "E_list=np.array([326.78,170.02,69.389])*1e9\n",
    "S_list=np.array([126.4,62.8,24.2])*1e9\n",
    "Comp_list = np.array([[0.75,0.,0.25]])\n",
    "ep = 1e-3\n",
    "T = 1573"
   ]
  },
  {
   "cell_type": "code",
   "execution_count": 4,
   "metadata": {},
   "outputs": [],
   "source": [
    "average_E_list,average_S_list,average_V_list,average_b_list,average_nu_list,delta_Vn_list= average_quantities(E_list,V_list,S_list,Comp_list)"
   ]
  },
  {
   "cell_type": "code",
   "execution_count": 10,
   "metadata": {},
   "outputs": [
    {
     "name": "stdout",
     "output_type": "stream",
     "text": [
      "0.001995898788797323\n",
      "0.001995898788797323\n"
     ]
    }
   ],
   "source": [
    "dEb_list, Ty0_list, delta_ss_list=curtin_BCC(average_S_list,average_V_list,average_b_list,average_nu_list,delta_Vn_list,Comp_list,T,ep)\n",
    "dEb_list2, Ty0_list2, delta_ss_list2=curtin_BCC_old(average_S_list,average_V_list,average_b_list,average_nu_list,delta_Vn_list,Comp_list,T,ep)\n",
    "\n"
   ]
  },
  {
   "cell_type": "code",
   "execution_count": 11,
   "metadata": {},
   "outputs": [],
   "source": [
    "T_list = np.linspace(0,1600,170)\n"
   ]
  },
  {
   "cell_type": "code",
   "execution_count": 15,
   "metadata": {},
   "outputs": [],
   "source": [
    "dEb_list_comp0 = np.empty(len(T_list))\n",
    "Ty0_list_comp0 = np.empty(len(T_list))\n",
    "delta_ss_list_comp0 = np.empty(len(T_list))\n",
    "dEb_list_comp0_old = np.empty(len(T_list))\n",
    "Ty0_list_comp0_old = np.empty(len(T_list))\n",
    "delta_ss_list_comp0_old = np.empty(len(T_list))\n",
    "for i in range(len(T_list)):\n",
    "    T = T_list[i]\n",
    "    dEb_list, Ty0_list, delta_ss_list=curtin_BCC(average_S_list,average_V_list,average_b_list,average_nu_list,delta_Vn_list,Comp_list,T,ep)\n",
    "    dEb_list_comp0[i]=(dEb_list[0])\n",
    "    Ty0_list_comp0[i]=(Ty0_list[0])\n",
    "    delta_ss_list_comp0[i]=(delta_ss_list[0]/1e6)\n",
    "    \n",
    "    dEb_list2, Ty0_list2, delta_ss_list2=curtin_BCC_old(average_S_list,average_V_list,average_b_list,average_nu_list,delta_Vn_list,Comp_list,T,ep)\n",
    "    dEb_list_comp0_old[i]=(dEb_list2[0])\n",
    "    Ty0_list_comp0_old[i]=(Ty0_list2[0])\n",
    "    delta_ss_list_comp0_old[i]=(delta_ss_list2[0]/1e6)"
   ]
  },
  {
   "cell_type": "code",
   "execution_count": 16,
   "metadata": {},
   "outputs": [
    {
     "data": {
      "text/plain": [
       "[<matplotlib.lines.Line2D at 0x11a57b250>]"
      ]
     },
     "execution_count": 16,
     "metadata": {},
     "output_type": "execute_result"
    },
    {
     "data": {
      "image/png": "[encoded data removed]",
      "text/plain": [
       "<Figure size 432x288 with 1 Axes>"
      ]
     },
     "metadata": {
      "needs_background": "light"
     },
     "output_type": "display_data"
    }
   ],
   "source": [
    "plt.plot(T_list,delta_ss_list_comp0)\n",
    "plt.plot(T_list,delta_ss_list_comp0_old)"
   ]
  },
  {
   "cell_type": "code",
   "execution_count": 19,
   "metadata": {},
   "outputs": [
    {
     "data": {
      "text/plain": [
       "[<matplotlib.lines.Line2D at 0x11aaaa510>]"
      ]
     },
     "execution_count": 19,
     "metadata": {},
     "output_type": "execute_result"
    },
    {
     "data": {
      "image/png": "[encoded data removed]",
      "text/plain": [
       "<Figure size 432x288 with 1 Axes>"
      ]
     },
     "metadata": {
      "needs_background": "light"
     },
     "output_type": "display_data"
    }
   ],
   "source": [
    "Comp_list = np.array([[0.1,0.00,0.9]])\n",
    "average_E_list,average_S_list,average_V_list,average_b_list,average_nu_list,delta_Vn_list= average_quantities(E_list,V_list,S_list,Comp_list)\n",
    "\n",
    "dEb_list, Ty0_list, delta_ss_list=curtin_BCC(average_S_list,average_V_list,average_b_list,average_nu_list,delta_Vn_list,Comp_list,T,ep)\n",
    "T_list = np.linspace(0,1600,170)\n",
    "\n",
    "dEb_list_comp0 = np.empty(len(T_list))\n",
    "Ty0_list_comp0 = np.empty(len(T_list))\n",
    "delta_ss_list_comp0 = np.empty(len(T_list))\n",
    "dEb_list_comp0_old = np.empty(len(T_list))\n",
    "Ty0_list_comp0_old = np.empty(len(T_list))\n",
    "delta_ss_list_comp0_old = np.empty(len(T_list))\n",
    "for i in range(len(T_list)):\n",
    "    T = T_list[i]\n",
    "    dEb_list, Ty0_list, delta_ss_list=curtin_BCC(average_S_list,average_V_list,average_b_list,average_nu_list,delta_Vn_list,Comp_list,T,ep)\n",
    "    dEb_list_comp0[i]=(dEb_list[0])\n",
    "    Ty0_list_comp0[i]=(Ty0_list[0])\n",
    "    delta_ss_list_comp0[i]=(delta_ss_list[0]/1e6)\n",
    "    \n",
    "    dEb_list2, Ty0_list2, delta_ss_list2=curtin_BCC_old(average_S_list,average_V_list,average_b_list,average_nu_list,delta_Vn_list,Comp_list,T,ep)\n",
    "    dEb_list_comp0_old[i]=(dEb_list2[0])\n",
    "    Ty0_list_comp0_old[i]=(Ty0_list2[0])\n",
    "    delta_ss_list_comp0_old[i]=(delta_ss_list2[0]/1e6)\n",
    "plt.plot(T_list,delta_ss_list_comp0)\n",
    "plt.plot(T_list,delta_ss_list_comp0_old)"
   ]
  },
  {
   "cell_type": "code",
   "execution_count": null,
   "metadata": {},
   "outputs": [],
   "source": []
  },
  {
   "cell_type": "code",
   "execution_count": null,
   "metadata": {},
   "outputs": [],
   "source": []
  },
  {
   "cell_type": "code",
   "execution_count": null,
   "metadata": {},
   "outputs": [],
   "source": []
  }
 ],
 "metadata": {
  "kernelspec": {
   "display_name": "Python 3",
   "language": "python",
   "name": "python3"
  },
  "language_info": {
   "codemirror_mode": {
    "name": "ipython",
    "version": 3
   },
   "file_extension": ".py",
   "mimetype": "text/x-python",
   "name": "python",
   "nbconvert_exporter": "python",
   "pygments_lexer": "ipython3",
   "version": "3.7.4"
  }
 },
 "nbformat": 4,
 "nbformat_minor": 2
}
