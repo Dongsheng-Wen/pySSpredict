{
 "cells": [
  {
   "cell_type": "code",
   "execution_count": 2,
   "metadata": {},
   "outputs": [],
   "source": [
    "import matplotlib.pyplot as plt\n",
    "import matplotlib as mpl\n",
    "import numpy as np\n",
    "import pandas as pd\n",
    "%matplotlib inline\n",
    "from matplotlib import rc, font_manager\n",
    "ticks_font = font_manager.FontProperties(family='serif', style='normal',\n",
    "                                         size=24, weight='normal', stretch='normal')\n",
    "import ternary\n",
    "import copy\n",
    "import math"
   ]
  },
  {
   "cell_type": "code",
   "execution_count": null,
   "metadata": {},
   "outputs": [],
   "source": []
  },
  {
   "cell_type": "code",
   "execution_count": 3,
   "metadata": {},
   "outputs": [],
   "source": [
    "import os\n",
    "import json\n",
    "class read_inputjson_BCC_screw_single_calculation: \n",
    "    def __init__(self,fh):\n",
    "        if os.path.isfile(fh):\n",
    "            self.file = fh\n",
    "            self.data = json.load(open(fh))\n",
    "        else:\n",
    "            print('input file not in current directory')\n",
    "            quit()\n",
    "        \n",
    "        self.model = self.data[\"model\"]\n",
    "        self.name = self.data[\"material\"]\n",
    "        # properties\n",
    "        self.properties = self.data['properties']\n",
    "        # adjustable scalers\n",
    "        self.adjustable_scalers = self.data['adjustables']\n",
    "        # exp conditions\n",
    "        self.conditions = self.data['conditions']\n",
    "        # output file\n",
    "        try: \n",
    "            self.savefilename = self.data['savefile']\n",
    "        except:\n",
    "            self.savefilename = self.data[\"material\"] + '_out'\n",
    "        "
   ]
  },
  {
   "cell_type": "code",
   "execution_count": 16,
   "metadata": {},
   "outputs": [],
   "source": [
    "\n",
    "\n",
    "class ss_model_M_C_screw:\n",
    "    # BCC screw dislocation model: Maresca-Curtin 2019: https://doi.org/10.1016/j.actamat.2019.10.007\n",
    "\n",
    "\n",
    "    def __init__(self,\n",
    "                 inputdata\n",
    "                ):\n",
    "\n",
    "        # adjustable scalers\n",
    "        self.kink_width = inputdata.adjustable_scalers['kink_width']  \n",
    "        self.Delta_V_p_scaler = inputdata.adjustable_scalers['Delta_V_p_scaler']  \n",
    "        self.Delta_E_p_scaler = inputdata.adjustable_scalers['Delta_E_p_scaler'] \n",
    "        \n",
    "        # some constants\n",
    "        self.boltzmann_J = 1.38064852*10**(-23) #J/K\n",
    "        self.boltzmann_eV = 8.617333262145e-5 #eV\n",
    "        self.J2eV = 6.2415093433*10**18 # covert J to eV \n",
    "        self.eV2J = 1/self.J2eV\n",
    "        \n",
    "        # properties\n",
    "        self.a = inputdata.properties['a'] * 10**(-10)             #m    # lattice constant\n",
    "        self.a_p = self.a*np.sqrt(2/3)  # Peierls spacing\n",
    "        self.b = self.a*np.sqrt(3)/2\n",
    "        \n",
    "        self.E_k = inputdata.properties['E_k'] * self.eV2J             # J   # kink formation energy\n",
    "        self.Delta_E_p = self.Delta_E_p_scaler * inputdata.properties['Delta_E_p'] * self.eV2J  # J   # screw-solute interaction\n",
    "        self.Delta_V_p = self.Delta_V_p_scaler * inputdata.properties['Delta_V_p'] * self.eV2J /self.b# J/b   # Peierls barrier\n",
    "        \n",
    "        self.E_si = inputdata.properties['E_si']   * self.eV2J         #J   # formation energy of self-interstitial\n",
    "        self.E_v = inputdata.properties['E_v']     * self.eV2J         #J   # formation energy of vacancy \n",
    "        \n",
    "    \n",
    "        # exp conditions\n",
    "        self.T = np.arange(inputdata.conditions['temperature']['min'],\n",
    "                           inputdata.conditions['temperature']['max']+inputdata.conditions['temperature']['inc'],\n",
    "                           inputdata.conditions['temperature']['inc'])\n",
    "        self.strain_r = inputdata.conditions['strain_r']  # strain rate\n",
    "        self.strain_r_0 = 10**4                     # reference strain rate 10^4 /s\n",
    "        \n",
    "\n",
    "        self.Delta_H =  self.boltzmann_J * self.T * np.log(self.strain_r_0/self.strain_r)               #activation enthalpy\n",
    "        self.w_k = self.kink_width * self.b                # kink width \n",
    "        self.xi_c = (1.083*self.E_k/self.Delta_E_p)**2*self.b                # characteristic length of dislocation segment \n",
    "        self.xi_si = self.xi_c * 15\n",
    "        self.xi_v = self.xi_c * 7.5 \n",
    "    def M_C_screw_model(self):\n",
    "        \n",
    "        # cross-kink\n",
    "        # self-interstitial\n",
    "        self.tau_xk_0_si = np.pi * self.E_si / (self.a_p * self.b * self.xi_si )\n",
    "        self.tau_xk_si = self.tau_xk_0_si * (1-(self.Delta_H/self.E_si)**(2/3))\n",
    "        # vacancy\n",
    "        self.tau_xk_0_v = np.pi * self.E_v / (self.a_p * self.b * self.xi_v )\n",
    "        self.tau_xk_v = self.tau_xk_0_v * (1-(self.Delta_H/self.E_v)**(2/3))\n",
    "        # select the larger value from si or vacancy strengthening\n",
    "        self.tau_xk_T = np.array([self.tau_xk_si[i] if self.tau_xk_si[i]>=self.tau_xk_v[i] else \n",
    "                                  self.tau_xk_v[i] for i in range(len(self.T)) ])\n",
    "        \n",
    "        \n",
    "        # kink glide\n",
    "        self.tau_b = 1.08 * self.E_k / (self.a_p * self.b * self.xi_c)\n",
    "        self.tau_k_0 = 6.3 * self.Delta_E_p / (self.a_p * self.b**2 * np.sqrt(self.w_k/self.b)) + self.tau_b\n",
    "        self.Delta_E_k_0 = 1.37 * np.sqrt(self.w_k/self.b) * self.Delta_E_p \n",
    "        self.tau_k_low_T = self.tau_b + \\\n",
    "                           (self.tau_k_0 - self.tau_b) / \\\n",
    "                           (np.exp(0.89*self.Delta_H/self.Delta_E_k_0 + \\\n",
    "                                   0.5*(self.Delta_H/self.Delta_E_k_0)**(1/4) + 0.6)-1)\n",
    "        \n",
    "        self.tau_k_high_T = self.tau_b - \\\n",
    "                            (self.tau_k_0 - self.tau_b) * self.w_k / (5.75 * self.xi_c) * \\\n",
    "                            (self.Delta_H/self.Delta_E_k_0 - np.log(5.75*self.xi_c/self.w_k+1))\n",
    "        \n",
    "        self.tau_k_T = np.array([self.tau_k_low_T[i] if (self.tau_k_low_T[i]-self.tau_b)/(self.tau_k_0 - self.tau_b)>= \n",
    "                                 (1/(5.75 * self.xi_c/self.w_k + 1)) else \n",
    "                                 self.tau_k_high_T[i] for i in range(len(self.T))])\n",
    "        \n",
    "        # Peierls\n",
    "        self.Delta_E_b_p =  (10*self.Delta_V_p*self.xi_c + 0.7 * self.E_k)**3/\\\n",
    "                            (20*self.Delta_V_p*self.xi_c + 0.7 * self.E_k)**2\n",
    "        self.tau_p_0 = np.pi*self.Delta_V_p/(self.b*self.a_p ) + \\\n",
    "                       0.44 * self.E_k / (self.b*self.a_p * self.xi_c) * \\\n",
    "                      ( 1 - 5* self.Delta_V_p*self.xi_c/(20*self.Delta_V_p*self.xi_c+0.7*self.E_k))\n",
    "        \n",
    "        self.tau_p_T = self.tau_p_0 * (1-(self.Delta_H/self.Delta_E_b_p)**(2/3))\n",
    "        \n",
    "        # min of Peierls and kink glide\n",
    "        self.min_tau_k_tau_p_T = np.minimum(self.tau_p_T,self.tau_k_T)\n",
    "        \n",
    "        # total strength\n",
    "        self.tau_tot_T = np.maximum(self.min_tau_k_tau_p_T,np.zeros(len(self.T))) + self.tau_xk_T\n",
    "    def calculate(self):\n",
    "        self.M_C_screw_model()\n",
    "    def writedata(self):\n",
    "        self.calc_data = pd.DataFrame(data={})\n",
    "        self.calc_data['T'] = self.T\n",
    "        self.calc_data['tau_y'] = np.round(self.tau_tot_T/1e6,2)\n",
    "        \n"
   ]
  },
  {
   "cell_type": "code",
   "execution_count": 24,
   "metadata": {},
   "outputs": [],
   "source": [
    "inputdata = read_inputjson_BCC_screw_single_calculation('../sample_input_NbMo_BCC_screw.json')\n",
    "model = ss_model_M_C_screw(inputdata)\n",
    "model.calculate()\n",
    "plt.plot(model.T, model.tau_tot_T/1e6,label='total')\n",
    "plt.grid()\n",
    "plt.legend()"
   ]
  },
  {
   "cell_type": "code",
   "execution_count": 28,
   "metadata": {},
   "outputs": [
    {
     "data": {
      "text/plain": [
       "{'material': 'Nb95Mo5',\n",
       " 'model': 'BCC_screw_Maresca-Curtin-2019',\n",
       " 'properties': {'a': 3.289,\n",
       "  'E_k': 0.6342,\n",
       "  'E_v': 2.989,\n",
       "  'E_si': 5.361,\n",
       "  'Delta_E_p': 0.0488,\n",
       "  'Delta_V_p': 0.02},\n",
       " 'conditions': {'temperature': {'max': 500, 'min': 0, 'inc': 10},\n",
       "  'strain_r': 0.001},\n",
       " 'adjustables': {'kink_width': 10,\n",
       "  'Delta_V_p_scaler': 1,\n",
       "  'Delta_E_p_scaler': 1},\n",
       " 'savefile': 'Nb95Mo5_out'}"
      ]
     },
     "execution_count": 28,
     "metadata": {},
     "output_type": "execute_result"
    }
   ],
   "source": [
    "inputdata.data"
   ]
  },
  {
   "cell_type": "code",
   "execution_count": null,
   "metadata": {},
   "outputs": [],
   "source": []
  },
  {
   "cell_type": "code",
   "execution_count": 25,
   "metadata": {},
   "outputs": [
    {
     "data": {
      "text/plain": [
       "<matplotlib.legend.Legend at 0x1151e70d0>"
      ]
     },
     "execution_count": 25,
     "metadata": {},
     "output_type": "execute_result"
    },
    {
     "data": {
      "image/png": "[encoded data removed]",
      "text/plain": [
       "<Figure size 432x288 with 1 Axes>"
      ]
     },
     "metadata": {
      "needs_background": "light"
     },
     "output_type": "display_data"
    }
   ],
   "source": []
  },
  {
   "cell_type": "code",
   "execution_count": 20,
   "metadata": {},
   "outputs": [
    {
     "data": {
      "text/plain": [
       "1.1580366386116793e-11"
      ]
     },
     "execution_count": 20,
     "metadata": {},
     "output_type": "execute_result"
    }
   ],
   "source": [
    "model.Delta_V_p"
   ]
  },
  {
   "cell_type": "code",
   "execution_count": 21,
   "metadata": {},
   "outputs": [],
   "source": [
    "inputdata_TiNbZr = read_inputjson_BCC_screw_single_calculation('../sample_input_TiNbZr_BCC_screw.json')"
   ]
  },
  {
   "cell_type": "code",
   "execution_count": 22,
   "metadata": {},
   "outputs": [
    {
     "data": {
      "text/plain": [
       "<matplotlib.legend.Legend at 0x115094e50>"
      ]
     },
     "execution_count": 22,
     "metadata": {},
     "output_type": "execute_result"
    },
    {
     "data": {
      "image/png": "[encoded data removed]",
      "text/plain": [
       "<Figure size 432x288 with 1 Axes>"
      ]
     },
     "metadata": {
      "needs_background": "light"
     },
     "output_type": "display_data"
    }
   ],
   "source": [
    "model_TiNbZr = ss_model_M_C_screw(inputdata_TiNbZr)\n",
    "model_TiNbZr.calculate()\n",
    "plt.plot(model_TiNbZr.T, model_TiNbZr.tau_tot_T/1e6*3.07,label='total')\n",
    "plt.plot(model_TiNbZr.T, model_TiNbZr.tau_k_T/1e6*3.07,label='k')\n",
    "plt.plot(model_TiNbZr.T, model_TiNbZr.tau_p_T/1e6*3.07,label='p')\n",
    "plt.plot(model_TiNbZr.T, model_TiNbZr.tau_xk_T/1e6*3.07,label='xk')\n",
    "plt.ylim(0,1600)\n",
    "plt.grid()\n",
    "plt.legend()"
   ]
  },
  {
   "cell_type": "code",
   "execution_count": null,
   "metadata": {},
   "outputs": [],
   "source": []
  },
  {
   "cell_type": "code",
   "execution_count": 15,
   "metadata": {},
   "outputs": [],
   "source": [
    "inputdata_NbW = read_inputjson_BCC_screw_single_calculation('../sample_input_NbW_BCC_screw.json')"
   ]
  },
  {
   "cell_type": "code",
   "execution_count": 23,
   "metadata": {},
   "outputs": [
    {
     "data": {
      "text/plain": [
       "<matplotlib.legend.Legend at 0x114e91bd0>"
      ]
     },
     "execution_count": 23,
     "metadata": {},
     "output_type": "execute_result"
    },
    {
     "data": {
      "image/png": "[encoded data removed]",
      "text/plain": [
       "<Figure size 432x288 with 1 Axes>"
      ]
     },
     "metadata": {
      "needs_background": "light"
     },
     "output_type": "display_data"
    }
   ],
   "source": [
    "model_NbW = ss_model_M_C_screw(inputdata_NbW)\n",
    "model_NbW.calculate()\n",
    "plt.plot(model_NbW.T, model_NbW.tau_tot_T/1e6,label='total')\n",
    "plt.grid()\n",
    "plt.legend()"
   ]
  },
  {
   "cell_type": "code",
   "execution_count": 273,
   "metadata": {},
   "outputs": [],
   "source": [
    "a_Fe = 2.866 * 10**(-10)\n",
    "a_Fe = a_Fe*np.sqrt(2/3)  # Peierls spacing\n",
    "b_Fe = a_Fe*np.sqrt(3)/2\n",
    "Delta_V_p_Fe = 0.010977778 * model.eV2J "
   ]
  },
  {
   "cell_type": "code",
   "execution_count": 222,
   "metadata": {},
   "outputs": [
    {
     "data": {
      "text/plain": [
       "383.29265731555734"
      ]
     },
     "execution_count": 222,
     "metadata": {},
     "output_type": "execute_result"
    }
   ],
   "source": [
    "np.pi*Delta_V_p_Fe/b_Fe/(b_Fe*a_Fe)/10**6"
   ]
  },
  {
   "cell_type": "code",
   "execution_count": null,
   "metadata": {},
   "outputs": [],
   "source": []
  },
  {
   "cell_type": "code",
   "execution_count": null,
   "metadata": {},
   "outputs": [],
   "source": []
  },
  {
   "cell_type": "code",
   "execution_count": null,
   "metadata": {},
   "outputs": [],
   "source": []
  }
 ],
 "metadata": {
  "kernelspec": {
   "display_name": "Python 3",
   "language": "python",
   "name": "python3"
  },
  "language_info": {
   "codemirror_mode": {
    "name": "ipython",
    "version": 3
   },
   "file_extension": ".py",
   "mimetype": "text/x-python",
   "name": "python",
   "nbconvert_exporter": "python",
   "pygments_lexer": "ipython3",
   "version": "3.7.4"
  }
 },
 "nbformat": 4,
 "nbformat_minor": 2
}
