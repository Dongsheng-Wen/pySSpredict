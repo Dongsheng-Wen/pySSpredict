{
 "cells": [
  {
   "cell_type": "code",
   "execution_count": 1,
   "metadata": {},
   "outputs": [],
   "source": [
    "import matplotlib.pyplot as plt\n",
    "import numpy as np\n",
    "import pandas as pd\n",
    "%matplotlib inline\n",
    "from matplotlib import rc, font_manager\n",
    "ticks_font = font_manager.FontProperties(family='serif', style='normal',\n",
    "                                         size=24, weight='normal', stretch='normal')\n",
    "from scipy import optimize\n",
    "import scipy \n",
    "from sympy import *"
   ]
  },
  {
   "cell_type": "code",
   "execution_count": 2,
   "metadata": {},
   "outputs": [],
   "source": [
    "def f1(x):\n",
    "    return x[0]**2 + x[1]**2 - 25 , x[0] + x[1] - 7 "
   ]
  },
  {
   "cell_type": "code",
   "execution_count": 3,
   "metadata": {},
   "outputs": [
    {
     "data": {
      "text/plain": [
       "    fjac: array([[ 0.88610944,  0.46347606],\n",
       "       [-0.46347606,  0.88610944]])\n",
       "     fun: array([-7.10542736e-15,  0.00000000e+00])\n",
       " message: 'The solution converged.'\n",
       "    nfev: 12\n",
       "     qtf: array([ 2.14263335e-11, -1.12059573e-11])\n",
       "       r: array([2.15760872, 0.38538953, 0.9269523 ])\n",
       "  status: 1\n",
       " success: True\n",
       "       x: array([4., 3.])"
      ]
     },
     "execution_count": 3,
     "metadata": {},
     "output_type": "execute_result"
    }
   ],
   "source": [
    "optimize.root(f1,[0,1])"
   ]
  },
  {
   "cell_type": "code",
   "execution_count": 4,
   "metadata": {},
   "outputs": [],
   "source": [
    "J2eV = 8.617333262145e-5/1.380649e-23\n",
    "G = 38*1e9\n",
    "nu = 0.4\n",
    "h_b_ratio = np.linspace(1,2,100)\n",
    "b = 2.86*1e-10"
   ]
  },
  {
   "cell_type": "code",
   "execution_count": null,
   "metadata": {},
   "outputs": [],
   "source": []
  },
  {
   "cell_type": "code",
   "execution_count": 5,
   "metadata": {},
   "outputs": [],
   "source": [
    "E_elastic = G*b**2/(np.pi*(1-nu))*np.log(h_b_ratio)*J2eV * b"
   ]
  },
  {
   "cell_type": "code",
   "execution_count": 6,
   "metadata": {},
   "outputs": [
    {
     "data": {
      "text/plain": [
       "[<matplotlib.lines.Line2D at 0x1202476d0>]"
      ]
     },
     "execution_count": 6,
     "metadata": {},
     "output_type": "execute_result"
    },
    {
     "data": {
      "image/png": "[encoded data removed]",
      "text/plain": [
       "<Figure size 432x288 with 1 Axes>"
      ]
     },
     "metadata": {
      "needs_background": "light"
     },
     "output_type": "display_data"
    }
   ],
   "source": [
    "plt.plot(h_b_ratio,E_elastic)"
   ]
  },
  {
   "cell_type": "code",
   "execution_count": 7,
   "metadata": {},
   "outputs": [
    {
     "name": "stdout",
     "output_type": "stream",
     "text": [
      "0.05913459224514869\n",
      "0.04633465225940517\n",
      "-0.007280000000000001\n"
     ]
    }
   ],
   "source": [
    "c = np.array([0.32,0.33,0.34,0.0054])\n",
    "E_wi = np.array([0.054,-0.028,-0.053,0.5])\n",
    "print(sum(E_wi**2 * c)**(0.5))\n",
    "print(sum(E_wi[:3]**2 * c[:3])**(0.5))\n",
    "print(sum(E_wi * c))"
   ]
  },
  {
   "cell_type": "code",
   "execution_count": 8,
   "metadata": {},
   "outputs": [
    {
     "data": {
      "text/plain": [
       "0.3171498068736603"
      ]
     },
     "execution_count": 8,
     "metadata": {},
     "output_type": "execute_result"
    }
   ],
   "source": [
    "(0.27**2+0.15**2+0.072**2)**(0.5)"
   ]
  },
  {
   "cell_type": "code",
   "execution_count": 9,
   "metadata": {},
   "outputs": [],
   "source": [
    "from pymatgen.ext.matproj import MPRester"
   ]
  },
  {
   "cell_type": "code",
   "execution_count": 10,
   "metadata": {},
   "outputs": [],
   "source": [
    "APIKEY = 'HuPNnxxJK15d89zT9R6h'"
   ]
  },
  {
   "cell_type": "code",
   "execution_count": 11,
   "metadata": {},
   "outputs": [],
   "source": [
    "import numpy as np"
   ]
  },
  {
   "cell_type": "code",
   "execution_count": 12,
   "metadata": {},
   "outputs": [],
   "source": [
    "class MP_property_getter:\n",
    "    # grab atomic volume, structure, and elastic constants from materials\n",
    "    def __init__(self,apikey):\n",
    "        self.mp = MPRester(apikey)\n",
    "        \n",
    "    def get_properties(self,\n",
    "                       element,\n",
    "                       structure,\n",
    "                       criteria=None,\n",
    "                       properties=None,\n",
    "                       elasticity='Voigt'):\n",
    "        # pretty_formula: \n",
    "        # criteria: query criteria\n",
    "        # properties: \n",
    "        # elasticity: get shear modulus, default grabs Voigt notation\n",
    "        #               other notations: Reuss, VRH\n",
    "        if structure.lower()=='fcc':\n",
    "            spacegroup_symbol = 'Fm-3m'\n",
    "        elif structure.lower()=='bcc':\n",
    "            spacegroup_symbol = 'Im-3m'\n",
    "        mpcriteria = {\"pretty_formula\":element,\"spacegroup.symbol\":spacegroup_symbol}\n",
    "        if criteria is not None:\n",
    "            mpcriteria.update(criteria)\n",
    "        if elasticity == 'Voigt':\n",
    "            ela_tag = 'Voigt'\n",
    "        elif elasticity == 'VRH':\n",
    "            ela_tag = 'Voigt'\n",
    "        elif elasticity == 'Reuss':\n",
    "            ela_tag = 'Reuss'\n",
    "        \n",
    "        mpproperties = ['pretty_formula',\n",
    "                        'elasticity.G_{}'.format(ela_tag),'elasticity.poisson_ratio',\n",
    "                        'elasticity.elastic_anisotropy','spacegroup.symbol','volume',\n",
    "                        'elasticity.elastic_tensor',\n",
    "                        'nsites','material_id']\n",
    "        if properties is not None:\n",
    "            for prop in properties:\n",
    "                mpproperties.append(prop)\n",
    "        self.query_res = self.mp.query(criteria=mpcriteria,\n",
    "                      properties=mpproperties)\n",
    "        Cij = self.query_res[0]['elasticity.elastic_tensor']\n",
    "        zener_ratio = 2*Cij[3][3]/(Cij[0][0]-Cij[0][1])\n",
    "        self.element_i = {}\n",
    "        self.element_i[element] = {\"structure\":structure,\n",
    "                                   \"Vn\":np.round(self.query_res[0]['volume']/self.query_res[0]['nsites'],3),\n",
    "                                   \"G\":self.query_res[0]['elasticity.G_{}'.format(ela_tag)],\n",
    "                                   \"nu\":self.query_res[0]['elasticity.poisson_ratio'],\n",
    "                                   \"anisotropy\":np.round(zener_ratio,3),\n",
    "                                   \"spacegroup\":self.query_res[0]['spacegroup.symbol'],\n",
    "                                   \"source\":self.query_res[0]['material_id']\n",
    "                                   }"
   ]
  },
  {
   "cell_type": "code",
   "execution_count": 13,
   "metadata": {},
   "outputs": [],
   "source": [
    "mp_getter = MP_property_getter(APIKEY)"
   ]
  },
  {
   "cell_type": "code",
   "execution_count": null,
   "metadata": {},
   "outputs": [],
   "source": []
  },
  {
   "cell_type": "code",
   "execution_count": 14,
   "metadata": {},
   "outputs": [],
   "source": [
    "mp_getter.get_properties('Al','fcc',properties=['elasticity.compliance_tensor'])"
   ]
  },
  {
   "cell_type": "code",
   "execution_count": 15,
   "metadata": {},
   "outputs": [
    {
     "data": {
      "text/plain": [
       "{'Al': {'structure': 'fcc',\n",
       "  'Vn': 16.472,\n",
       "  'G': 25.0,\n",
       "  'nu': 0.37,\n",
       "  'anisotropy': 2.065,\n",
       "  'spacegroup': 'Fm-3m',\n",
       "  'source': 'mp-134'}}"
      ]
     },
     "execution_count": 15,
     "metadata": {},
     "output_type": "execute_result"
    }
   ],
   "source": [
    "mp_getter.element_i"
   ]
  },
  {
   "cell_type": "code",
   "execution_count": 16,
   "metadata": {},
   "outputs": [
    {
     "data": {
      "text/plain": [
       "[[104.0, 73.0, 73.0, 0.0, 0.0, 0.0],\n",
       " [73.0, 104.0, 73.0, 0.0, 0.0, 0.0],\n",
       " [73.0, 73.0, 104.0, 0.0, 0.0, 0.0],\n",
       " [0.0, 0.0, 0.0, 32.0, 0.0, 0.0],\n",
       " [0.0, 0.0, 0.0, 0.0, 32.0, 0.0],\n",
       " [0.0, 0.0, 0.0, 0.0, 0.0, 32.0]]"
      ]
     },
     "execution_count": 16,
     "metadata": {},
     "output_type": "execute_result"
    }
   ],
   "source": [
    "mp_getter.query_res[0]['elasticity.elastic_tensor']"
   ]
  },
  {
   "cell_type": "code",
   "execution_count": 17,
   "metadata": {},
   "outputs": [
    {
     "data": {
      "text/plain": [
       "array([[23. , -9.5, -9.5, -0. ,  0. ,  0. ],\n",
       "       [-9.5, 23. , -9.5,  0. , -0. ,  0. ],\n",
       "       [-9.5, -9.5, 23. , -0. ,  0. , -0. ],\n",
       "       [-0. ,  0. , -0. , 31.2, -0. ,  0. ],\n",
       "       [ 0. , -0. ,  0. , -0. , 31.2, -0. ],\n",
       "       [ 0. ,  0. , -0. ,  0. , -0. , 31.2]])"
      ]
     },
     "execution_count": 17,
     "metadata": {},
     "output_type": "execute_result"
    }
   ],
   "source": [
    "np.array(mp_getter.query_res[0]['elasticity.compliance_tensor'])"
   ]
  },
  {
   "cell_type": "code",
   "execution_count": 18,
   "metadata": {},
   "outputs": [
    {
     "data": {
      "text/plain": [
       "array([[ 0.02283871, -0.00941935, -0.00941935,  0.        ,  0.        ,\n",
       "         0.        ],\n",
       "       [-0.00941935,  0.02283871, -0.00941935,  0.        ,  0.        ,\n",
       "         0.        ],\n",
       "       [-0.00941935, -0.00941935,  0.02283871,  0.        ,  0.        ,\n",
       "         0.        ],\n",
       "       [ 0.        ,  0.        ,  0.        ,  0.03125   ,  0.        ,\n",
       "         0.        ],\n",
       "       [ 0.        ,  0.        ,  0.        ,  0.        ,  0.03125   ,\n",
       "         0.        ],\n",
       "       [ 0.        ,  0.        ,  0.        ,  0.        ,  0.        ,\n",
       "         0.03125   ]])"
      ]
     },
     "execution_count": 18,
     "metadata": {},
     "output_type": "execute_result"
    }
   ],
   "source": [
    "np.linalg.inv(np.array(mp_getter.query_res[0]['elasticity.elastic_tensor']))"
   ]
  },
  {
   "cell_type": "code",
   "execution_count": 19,
   "metadata": {},
   "outputs": [],
   "source": [
    "C_pq = np.array([[265.0, 158.0, 158.0, 0.0, 0.0, 0.0],\n",
    " [158.0, 265.0, 158.0, 0.0, 0.0, 0.0],\n",
    " [158.0, 158.0, 265.0, 0.0, 0.0, 0.0],\n",
    " [0.0, 0.0, 0.0, 69.0, 0.0, 0.0],\n",
    " [0.0, 0.0, 0.0, 0.0, 69.0, 0.0],\n",
    " [0.0, 0.0, 0.0, 0.0, 0.0, 69.0]])"
   ]
  },
  {
   "cell_type": "code",
   "execution_count": 1803,
   "metadata": {},
   "outputs": [
    {
     "data": {
      "text/plain": [
       "70.52877936550934"
      ]
     },
     "execution_count": 1803,
     "metadata": {},
     "output_type": "execute_result"
    }
   ],
   "source": [
    "ck_normal = np.array([1,1,1])\n",
    "sl_normal = np.array([1,1,2])\n",
    "unit_vector_1 = ck_normal / np.linalg.norm(ck_normal)\n",
    "unit_vector_2 = sl_normal / np.linalg.norm(sl_normal)\n",
    "dot_product = np.dot(unit_vector_1, unit_vector_2)\n",
    "angle = np.arccos(dot_product)\n",
    "90-np.degrees(angle)"
   ]
  },
  {
   "cell_type": "code",
   "execution_count": null,
   "metadata": {},
   "outputs": [],
   "source": []
  },
  {
   "cell_type": "code",
   "execution_count": 1472,
   "metadata": {},
   "outputs": [
    {
     "data": {
      "text/plain": [
       "[[104.0, 73.0, 73.0, 0.0, 0.0, 0.0],\n",
       " [73.0, 104.0, 73.0, 0.0, 0.0, 0.0],\n",
       " [73.0, 73.0, 104.0, 0.0, 0.0, 0.0],\n",
       " [0.0, 0.0, 0.0, 32.0, 0.0, 0.0],\n",
       " [0.0, 0.0, 0.0, 0.0, 32.0, 0.0],\n",
       " [0.0, 0.0, 0.0, 0.0, 0.0, 32.0]]"
      ]
     },
     "execution_count": 1472,
     "metadata": {},
     "output_type": "execute_result"
    }
   ],
   "source": [
    "C_ij = mp_getter.query_res[0]['elasticity.elastic_tensor']\n",
    "C_ij"
   ]
  },
  {
   "cell_type": "code",
   "execution_count": 1918,
   "metadata": {},
   "outputs": [],
   "source": [
    "\n",
    "\n",
    "\n",
    "ck_normal = np.array([1,1,1])\n",
    "ck_front = np.array([-1,1,0])\n",
    "sp_normal =  np.array([1,1,-1])\n",
    "sl_dir = np.array([1,1,2])"
   ]
  },
  {
   "cell_type": "code",
   "execution_count": 2155,
   "metadata": {},
   "outputs": [],
   "source": [
    "class Model_Ductility:\n",
    "    \n",
    "    def __init__(self):\n",
    "        self.C_pq = None # stiffness matrix\n",
    "        self.ck_normal = None # crack plane normal\n",
    "        self.ck_front = None # orientation of the crack front\n",
    "        self.sp_normal = None # slip plane normal\n",
    "        self.sl_dir = None # slip direction \n",
    "    def set_stiffness_matrix(self,C_pq):\n",
    "        self.C_pq = np.array(C_pq)\n",
    "    def set_stiffness_matrix_cubic(self,C11_C12_C44):\n",
    "        C11 = C11_C12_C44[0]\n",
    "        C12 = C11_C12_C44[1]\n",
    "        C44 = C11_C12_C44[2]\n",
    "        self.C_pq = np.array([[C11,C12,C12,0,0,0],[C12,C11,C12,0,0,0],[C12,C12,C11,0,0,0],\n",
    "                              [0,0,0,C44,0,0],[0,0,0,0,C44,0],[0,0,0,0,0,C44]])\n",
    "        \n",
    "    def set_crack_plane(self,crack_plane_normal):\n",
    "        self.ck_normal = crack_plane_normal / np.linalg.norm(crack_plane_normal)\n",
    "    def set_crack_front(self,crack_front):\n",
    "        self.ck_front = crack_front / np.linalg.norm(crack_front)\n",
    "    def set_slip_plane(self,slip_plane_normal):\n",
    "        self.sp_normal = slip_plane_normal / np.linalg.norm(slip_plane_normal)\n",
    "    def set_slip_direction(self,slip_direction):\n",
    "        self.sl_dir = slip_direction / np.linalg.norm(slip_direction)\n",
    "    def set_euler_rotation(self,\n",
    "                       RD = np.array([-1,-1,2]),\n",
    "                       ND = np.array([1,1,1])):\n",
    "        # rotation matrix for crack coordinate and sample coordinate\n",
    "\n",
    "        # set the ND (normal direction) and RD (rolling direction) for crystal frame. \n",
    "        ND = ND;RD = RD # default are 111 and -112\n",
    "        \n",
    "        # compute rotation matrix\n",
    "        n = ND/np.linalg.norm(ND)\n",
    "        b = RD/np.linalg.norm(RD)\n",
    "        t = np.cross(n,b)/np.linalg.norm(np.cross(n,b))\n",
    "        Crystal_ij = np.array([b,t,n]).T\n",
    "        if np.abs(Crystal_ij[2][2]-1)<=1e-6:\n",
    "            Bunge_Phi = 0    \n",
    "            Bunge_psi1 = np.arctan(Crystal_ij[0][1]/Crystal_ij[0][0])/2\n",
    "            Bunge_psi2 = -Bunge_psi1\n",
    "        else:\n",
    "            Bunge_Phi = np.arccos(Crystal_ij[2][2])\n",
    "            Bunge_psi2 = np.arctan2((Crystal_ij[0][2]/np.sin(Bunge_Phi)),(Crystal_ij[1][2]/np.sin(Bunge_Phi)))\n",
    "            Bunge_psi1 = np.arctan2((Crystal_ij[2][0]/np.sin(Bunge_Phi)),(-Crystal_ij[2][1]/np.sin(Bunge_Phi)))\n",
    "        \n",
    "        self.euler_R = Crystal_ij\n",
    "        self.Bunge_angles = np.array([np.rad2deg(Bunge_Phi),np.rad2deg(Bunge_psi2),np.rad2deg(Bunge_psi1)])\n",
    "        \n",
    "    def stiffness_IEEE(self,rotate=False):\n",
    "        # IEEE standard\n",
    "        # stiffness tensor Cijkl from Cij \n",
    "        i = np.zeros(3)\n",
    "        C_ijkl = np.einsum('i,j,k,l->ijkl', i,i,i,i)\n",
    "        C_ijkl_rotate = np.einsum('i,j,k,l->ijkl', i,i,i,i)\n",
    "        for p in range(6):\n",
    "            for q in range(6):\n",
    "                if p <=2:\n",
    "                    i = p; j = p\n",
    "                elif p == 3:\n",
    "                    i = 1; j = 2 # 23 -> 4\n",
    "                elif p == 4:\n",
    "                    i = 2; j = 0 # 13 -> 5\n",
    "                elif p == 5: \n",
    "                    i = 0; j = 1 # 12 -> 6\n",
    "                if q <=2:\n",
    "                    k = q; l = q\n",
    "                elif q == 3:\n",
    "                    k = 1; l = 2\n",
    "                elif q == 4:\n",
    "                    k = 2; l = 0\n",
    "                elif q == 5: \n",
    "                    k = 0; l = 1\n",
    "                #print(p+1,q+1)\n",
    "                #print(i+1,j+1,k+1,l+1)\n",
    "                C_ijkl[i][j][k][l] = self.C_pq[p][q]; C_ijkl[j][i][k][l] = self.C_pq[p][q]\n",
    "                C_ijkl[i][j][l][k] = self.C_pq[p][q]; C_ijkl[j][i][l][k] = self.C_pq[p][q]\n",
    "        self.C_ijkl = C_ijkl\n",
    "        \n",
    "        if rotate: # rotate the stiffness tensor for crack coordinates # require rotation matrix\n",
    "            for i in range(3):\n",
    "                for j in range(3):\n",
    "                    for k in range(3):\n",
    "                        for l in range(3):\n",
    "                            for m in range(3):\n",
    "                                for n in range(3):\n",
    "                                    for o in range(3):\n",
    "                                        for p in range(3):\n",
    "                                            C_ijkl_rotate[i][j][k][l] += self.euler_R[i][m]* self.euler_R[j][n]* self.euler_R[k][o]* self.euler_R[l][p]*C_ijkl[m][n][o][p]\n",
    "        else:\n",
    "            C_ijkl_rotate = C_ijkl\n",
    "        self.C_ijkl_rotate = C_ijkl_rotate\n",
    "        self.C_ijkl = C_ijkl_rotate\n",
    "        self.C_ijkl_old = C_ijkl\n",
    "        return self.C_ijkl,self.C_ijkl_old\n",
    "\n",
    "    def compliance_tensor(self):\n",
    "        self.S_pq = np.linalg.inv(self.C_pq)\n",
    "        #print(S_pq)\n",
    "    def compliance_tensor_plane_strain(self):\n",
    "        # 6x6\n",
    "        self.compliance_tensor()\n",
    "        ii = np.zeros(6)\n",
    "        # plane strain compliance\n",
    "        S_pq_plane_strain = np.einsum('i,k->ik', ii,ii)\n",
    "        \n",
    "        for i in range(len(ii)):\n",
    "            for j in range(len(ii)):\n",
    "                S_pq_plane_strain[i][j] = self.S_pq[i][j] - self.S_pq[i][2]*self.S_pq[2][j]/self.S_pq[2][2]\n",
    "        self.S_pq_plane_strain = S_pq_plane_strain\n",
    "        \n",
    "    def appropriate_matrix(self,plane_strain=False):\n",
    "        # return the appropriate matrix Lambda_ij for the self.C_ijkl on the crack coordinate\n",
    "        # All Equations are in Stroh 1958\n",
    "        if plane_strain:\n",
    "            ii = np.zeros(2)\n",
    "            print('Plane strain condition.')\n",
    "        else:\n",
    "            ii = np.zeros(3)\n",
    "        # --------------------------------------------------------------------------------------\n",
    "        # first solve p\n",
    "        # p is a complex vector by defining a matrix of eta\n",
    "        eta = (np.einsum('i,k->ik', ii,ii)).astype('O') # 3x3 # 2x2 if plane strain = true\n",
    "        p = symbols('p')\n",
    "        # Eq.8\n",
    "        for i in range(len(ii)):\n",
    "            for k in range(len(ii)):\n",
    "                Ci1k1 = self.C_ijkl[i][0][k][0]\n",
    "                Ci1k2 = self.C_ijkl[i][0][k][1]\n",
    "                Ci2k1 = self.C_ijkl[i][1][k][0]\n",
    "                Ci2k2 = self.C_ijkl[i][1][k][1]\n",
    "                eta[i][k] = (Ci2k2*p**2 + (Ci1k2+Ci2k1)*p + Ci1k1)\n",
    "        eta = Matrix(eta)\n",
    "        all_roots = (solve(Eq(eta.det(),0)))\n",
    "        roots = [complex(root) for root in all_roots if np.imag(complex(root))>0] # Eq.8 solved\n",
    "        # choose the first three roots with positive imaginary parts\n",
    "        while len(roots)<len(ii):\n",
    "            roots.append(roots[-1])\n",
    "        p_roots = np.array(roots)\n",
    "        print('{} non complex conjugate roots found for p values: {}.'.format(len(p_roots),roots) )\n",
    "        # --------------------------------------------------------------------------------------\n",
    "        # Use the p roots to solve Eq.7 to get Ak, the coefficients for the analytic function f(z)\n",
    "        # Ak is a vector of A1 A2 and A3\n",
    "        A1,A2,A3=symbols('A1 A2 A3')\n",
    "        ETA = (np.einsum('a,i,k->aik', ii,ii,ii)).astype('complex') # 3x3 \n",
    "\n",
    "        # evaluate Ak for all the three sets of p roots, Eq.7\n",
    "        for a in range(len(p_roots)):\n",
    "            p_alpha = p_roots[a]\n",
    "            Ci1k1 = 0; Ci1k2 = 0\n",
    "            Ci2k1 = 0; Ci2k2 = 0\n",
    "            for i in range(len(ii)):\n",
    "                for k in range(len(ii)):\n",
    "                    Ci1k1 = self.C_ijkl[i][0][k][0]\n",
    "                    Ci1k2 = self.C_ijkl[i][0][k][1]\n",
    "                    Ci2k1 = self.C_ijkl[i][1][k][0]\n",
    "                    Ci2k2 = self.C_ijkl[i][1][k][1]\n",
    "\n",
    "                    ETA[a][i][k] = (Ci2k2*p_alpha**2 + (Ci1k2+Ci2k1)*p_alpha + Ci1k1)\n",
    "        #print(ETA)\n",
    "        Ak_roots_list = []\n",
    "        Ak_roots_all = []\n",
    "        if plane_strain:\n",
    "            for a in range(len(p_roots)):\n",
    "                eqs = []\n",
    "                eqs.append(Eq(ETA[a][0][0] * 1 + ETA[a][0][1] * A2,0))\n",
    "                eqs.append(Eq(ETA[a][1][0] * 1 + ETA[a][1][1] * A2,0))\n",
    "                # A1 is chosen to be 1 for solving A2 \n",
    "                Ak = [A2]\n",
    "                Ak_guess = np.array([1+1j]).astype('complex')\n",
    "                Ak_roots = nsolve(eqs,Ak,Ak_guess,dict=True)\n",
    "                Ak_roots[0][A1] = 1\n",
    "                Ak_roots[0][A3] = 0\n",
    "                Ak_roots_list.append(Ak_roots)\n",
    "                Ak_roots_all.append([Ak_roots[0][A1],Ak_roots[0][A2],Ak_roots[0][A3]])\n",
    "        else:\n",
    "            for a in range(len(p_roots)):\n",
    "                eqs_full = [] # full equations to solve Ak, \n",
    "                eqs.append(Eq(ETA[a][0][0] * A1 + ETA[a][0][1] * A2 + ETA[a][0][2] * A3,0))\n",
    "                eqs.append(Eq(ETA[a][1][0] * A1 + ETA[a][1][1] * A2 + ETA[a][1][2] * A3,0))\n",
    "                eqs.append(Eq(ETA[a][2][0] * A1 + ETA[a][2][1] * A2 + ETA[a][2][2] * A3,0))\n",
    "                \n",
    "                eqs = [] # reduced equations to solve Ak, A1 = 1 and solve A2 and A3\n",
    "                eqs.append(Eq(ETA[a][0][0] * 1 + ETA[a][0][1] * A2 + ETA[a][0][2] * A3,0))\n",
    "                eqs.append(Eq(ETA[a][1][0] * 1 + ETA[a][1][1] * A2 + ETA[a][1][2] * A3,0))\n",
    "                eqs.append(Eq(ETA[a][2][0] * 1 + ETA[a][2][1] * A2 + ETA[a][2][2] * A3,0))\n",
    "                \n",
    "                if True not in eqs:\n",
    "                    #print(eqs.index(True))\n",
    "                    Ak = [A2,A3]\n",
    "                    Ak_guess = np.array([1+1j,1+1j]).astype('complex')\n",
    "                    Ak_roots = nsolve(eqs,Ak,Ak_guess,dict=True)\n",
    "                    Ak_roots[0][A1] = 1\n",
    "                    Ak_roots_list.append(Ak_roots)\n",
    "                    Ak_roots_all.append([Ak_roots[0][A1],Ak_roots[0][A2],Ak_roots[0][A3]])\n",
    "                else:\n",
    "                    print('No Ak root found for this p root: {}. Plane strain mode maybe used.'.format(p_roots[a]))\n",
    "                    a_failed = a\n",
    "                    continue\n",
    "            # reorder the solution\n",
    "            if len(Ak_roots_all) < len(p_roots):\n",
    "                Ak_roots_all.append([0,0,1])\n",
    "                p_roots_new = np.append(np.delete(p_roots,a_failed),p_roots[a_failed])\n",
    "                p_roots = p_roots_new\n",
    "        Ak_roots_all = np.array(Ak_roots_all).astype('complex')\n",
    "\n",
    "        # calculate L_ia\n",
    "        A_ka = Ak_roots_all.T\n",
    "        # remind A_ka: k = 1,2,3. a = 1,2,3. \n",
    "        # --------------------------------------------------------------------------------------\n",
    "        # then to calculate L_ia, this is Eq.14 or Eq.15\n",
    "        L_ia1 = (np.einsum('i,k->ik', ii,ii)).astype('complex')\n",
    "        L_ia2 = (np.einsum('i,k->ik', ii,ii)).astype('complex')\n",
    "        for i in range(len(ii)):\n",
    "            for a in range(len(ii)):\n",
    "                for k in range(len(ii)):\n",
    "                    L_ia1[i][a] += (self.C_ijkl[i][1][k][0]+p_roots[a]*self.C_ijkl[i][1][k][1])*A_ka[k][a]\n",
    "                    L_ia2[i][a] += -(self.C_ijkl[i][0][k][1]+p_roots[a]**(-1)*self.C_ijkl[i][0][k][0])*A_ka[k][a] # just for checking the values\n",
    "\n",
    "        L_ia = L_ia1\n",
    "        # Now A_ka and L_ia obtained\n",
    "        # A_ka and L_ia should satisfy Eq.17\n",
    "        A_ka_conj = np.conjugate(A_ka)\n",
    "        L_ia_conj = np.conjugate(L_ia)\n",
    "\n",
    "        # --------------------------------------------------------------------------------------\n",
    "        # check some values for the obtained A_ka and L_ia. \n",
    "        # follow Eq.17\n",
    "        check_1 = np.round((A_ka_conj[0][0]*L_ia[0][0])*(np.conj(p_roots[0]) - p_roots[0])\n",
    "                          +(A_ka_conj[1][0]*L_ia[1][0])*(np.conj(p_roots[0]) - p_roots[0])\n",
    "                          -(A_ka[0][0]*L_ia_conj[0][0])*(-np.conj(p_roots[0]) + p_roots[0])\n",
    "                          -(A_ka[1][0]*L_ia_conj[1][0])*(-np.conj(p_roots[0]) + p_roots[0]),\n",
    "                          5)\n",
    "        check_2 = np.round((A_ka_conj[0][1]*L_ia[0][1])*(np.conj(p_roots[1]) - p_roots[1])\n",
    "                          +(A_ka_conj[1][1]*L_ia[1][1])*(np.conj(p_roots[1]) - p_roots[1])\n",
    "                          -(A_ka[0][1]*L_ia_conj[0][1])*(-np.conj(p_roots[1]) + p_roots[1])\n",
    "                          -(A_ka[1][1]*L_ia_conj[1][1])*(-np.conj(p_roots[1]) + p_roots[1]),\n",
    "                          5)\n",
    "        check_3 = np.round((A_ka_conj[0][1]*L_ia[0][0])*(np.conj(p_roots[1]) - p_roots[0])\n",
    "                          +(A_ka_conj[1][1]*L_ia[1][0])*(np.conj(p_roots[1]) - p_roots[0])\n",
    "                          -(A_ka[0][0]*L_ia_conj[0][1])*(-np.conj(p_roots[1]) + p_roots[0])\n",
    "                          -(A_ka[1][0]*L_ia_conj[1][1])*(-np.conj(p_roots[1]) + p_roots[0]),\n",
    "                          5)\n",
    "        check_4 = np.round((A_ka_conj[0][0]*L_ia[0][1])*(np.conj(p_roots[0]) - p_roots[1])\n",
    "                          +(A_ka_conj[1][0]*L_ia[1][1])*(np.conj(p_roots[0]) - p_roots[1])\n",
    "                          -(A_ka[0][1]*L_ia_conj[0][0])*(-np.conj(p_roots[0]) + p_roots[1])\n",
    "                          -(A_ka[1][1]*L_ia_conj[1][0])*(-np.conj(p_roots[0]) + p_roots[1]),\n",
    "                          5)\n",
    "        # values should be\n",
    "        print(check_1,check_2,check_3,check_4,'should be zero.')\n",
    "        # --------------------------------------------------------------------------------------\n",
    "        \n",
    "        \n",
    "        # L_ia verified, then calculate M_ai from L_ia, Eq.37\n",
    "        M11,M12,M13,M21,M22,M23,M31,M32,M33 = symbols('M11 M12 M13 M21 M22 M23 M31 M32 M33')\n",
    "        # full matrix to solve is M_ai_sym = Matrix([[M11,M12,M13],[M21,M22,M23],[M31,M32,M33]]) # too many unknowns, \n",
    "        M_ai_sym = Matrix([[M11,M12,0],[M21,M22,0],[0,0,M33]]) #so far works for plane strain. # let M13 M23 M32 M31 be 0, determine others # this is for plane strain!!!\n",
    "        delta_a_b =     M_ai_sym * L_ia\n",
    "        # kronecker delta \n",
    "        eqs1 = [Eq(delta_a_b[0,0],1),Eq(delta_a_b[0,1],0)]\n",
    "        eqs2 = [Eq(delta_a_b[1,0],0),Eq(delta_a_b[1,1],1)]\n",
    "        eqs3 = [Eq(delta_a_b[2,2],1)]\n",
    "        M1_roots = nsolve(eqs1,[M11,M12],[1+1j,1+1j],dict=True)\n",
    "        M2_roots = nsolve(eqs2,[M21,M22],[1+1j,1+1j],dict=True)\n",
    "        M3_roots = nsolve(eqs3,[M33],[1+1j],dict=True)\n",
    "\n",
    "        M11_val = complex(M1_roots[0][M11]);M12_val = complex(M1_roots[0][M12])\n",
    "        M21_val = complex(M2_roots[0][M21]);M22_val = complex(M2_roots[0][M22])\n",
    "        M33_val = complex(M3_roots[0][M33])\n",
    "\n",
    "        #print(M1_roots,M2_roots,M3_roots)\n",
    "        # Matrix M_ai \n",
    "        M_ai1 = np.array([[M11_val,M12_val,0],[M21_val,M22_val,0],[0,0,M33_val]])\n",
    "        M_ai = M_ai1   \n",
    "        M_ai_conj = np.conjugate(M_ai)\n",
    "        # M_ai determined. Then calculate B_ij from Eq.40.\n",
    "        B_ij = (np.einsum('i,k->ik', ii,ii)).astype('complex')\n",
    "        for i in range(len(ii)):\n",
    "            for j in range(len(ii)):\n",
    "                for a in range(len(ii)):\n",
    "                    B_ij[i][j] += np.complex(0,1)*(A_ka[i][a]*M_ai[a][j]-A_ka_conj[i][a]*M_ai_conj[a][j])/2\n",
    "        \n",
    "        # appropriate matrix\n",
    "        self.Lambda_ij1 = (np.real(0.5*(B_ij))) # plane strain\n",
    "        # second method to get appropriate matrix # this should work for both plane strain and more complex conditions\n",
    "        A = A_ka;B = L_ia; \n",
    "        self.Lambda_ij2 = (np.real(np.complex(0,1)*np.dot(A,np.linalg.inv(B))))*0.5\n",
    "        #print(self.Lambda_ij1,self.Lambda_ij1-self.Lambda_ij2)#, if plane strain, these two should converge\n",
    "        self.Lambda_ij = self.Lambda_ij2\n",
    "        self.A = A; self.B = B\n",
    "        new_A = [];new_B = []\n",
    "        for vector in B.T:\n",
    "            new_vector = vector/np.linalg.norm(vector)\n",
    "            new_B.append(new_vector)\n",
    "        for vector in A.T:\n",
    "            new_vector = vector/np.linalg.norm(vector)\n",
    "            new_A.append(new_vector)\n",
    "        self.new_A = np.array(new_A).T; self.new_B = np.array(new_B).T\n",
    "        #return self.Lambda_ij\n",
    "    \n",
    "    def angles_phi_theta(self):\n",
    "        # given crack plane, slip plane and slip direction, calculate angles\n",
    "        #       self.ck_normal, self.sp_normal, self.sl_dir\n",
    "        # theta: the angle between crack plane and slip plane\n",
    "        # phi: on slip plane, the angle between crack tip normal and slip direction\n",
    "        \n",
    "        self.theta = np.degrees(np.arccos(np.dot(self.ck_normal, self.sp_normal)))\n",
    "        # define crack opening direction \n",
    "        \n",
    "        ck_open_dir = np.cross(self.ck_normal,self.ck_front) # crack opening direction\n",
    "        \n",
    "        vec_x = (self.ck_normal * np.sin(np.deg2rad(self.theta)) + ck_open_dir * np.cos(np.deg2rad(self.theta)))\n",
    "        vec_x_norm = vec_x / np.linalg.norm(vec_x)\n",
    "        \n",
    "        self.psi = np.degrees(np.arccos(np.round(np.dot(vec_x_norm, self.sl_dir),5)))\n",
    "        #print(self.theta,self.psi)\n",
    "    \n",
    "    def rotation_matrix(self):\n",
    "        # rotation matrix for slip plane and crack plane\n",
    "        self.Rij = np.array([\n",
    "            [np.cos(np.deg2rad(self.theta)),np.sin(np.deg2rad(self.theta)),0],\n",
    "            [-np.sin(np.deg2rad(self.theta)),np.cos(np.deg2rad(self.theta)),0],\n",
    "            [0,0,1]])\n",
    "    def slip_phi(self):\n",
    "        self.s_i_phi = np.array([np.cos(np.deg2rad(self.psi)), 0, np.sin(np.deg2rad(self.psi))])\n",
    "\n",
    "        \n",
    "    def calc_o(self,theta_usr=None,psi_usr=None):\n",
    "        \n",
    "        # anisotropic elasticity property o(phi,theta)\n",
    "        self.angles_phi_theta() # get self.theta and self.psi from vectors\n",
    "        if theta_usr:\n",
    "            self.theta = theta_usr\n",
    "        if psi_usr:\n",
    "            self.psi = psi_usr\n",
    "        self.rotation_matrix() #self.Rij\n",
    "        #print(self.Rij)\n",
    "        self.slip_phi() # self.s_i_phi \n",
    "        #print(self.Lambda_ij)\n",
    "        Lambda_theta = np.dot(np.dot(self.Rij.T,(self.Lambda_ij)),self.Rij)\n",
    "        self.Lambda_theta = Lambda_theta\n",
    "        \n",
    "        #print(Lambda_theta)\n",
    "        self.anisotropic_o = np.dot(np.dot(self.s_i_phi,Lambda_theta),self.s_i_phi.T)\n",
    "    "
   ]
  },
  {
   "cell_type": "code",
   "execution_count": 2156,
   "metadata": {},
   "outputs": [],
   "source": [
    "C11_22_44_Al_1 = np.array([113.4,61.5,31.6])\n",
    "C11_22_44_Al_2 = np.array([118.0,62.2,36.7])\n",
    "C11_22_44_Au = np.array([183.2,158.7,45.3])\n",
    "C11_22_44_Ag = np.array([129.1,91.7,56.7])\n",
    "C11_22_44_Cu = np.array([169.9,122.6,76.2])\n",
    "C11_22_44_Pd = np.array([221.1,183.0,72.6])\n",
    "C11_22_44_Ni = np.array([247.9,147.8,124.8])\n",
    "C11_22_44_Cr_10 = np.array([301.3,171.5,156.7])\n",
    "C11_22_44_Cr_20 = np.array([276.6,165.6,148.7])\n",
    "C11_22_44_Cr_33 = np.array([246.6,158.1,138.5])\n",
    "C11_22_44_Cr_40 = np.array([232.6,154.7,133.7])\n",
    "C11_22_44_Cr_50 = np.array([213.1,150.8,127.6])\n",
    "C11_22_44_Cr_60 = np.array([205.5,150.3,124.6])\n",
    "C11_22_44_Cr_70 = np.array([204.5,152.8,124.6])\n",
    "C11_22_44_Cr_80 = np.array([211.2,159.0,127.9])\n",
    "C11_22_44_Cr_90 = np.array([225.6,168.9,134.9])\n",
    "C11_22_44_Cr_100 = np.array([247.3,182.5,145.5])"
   ]
  },
  {
   "cell_type": "code",
   "execution_count": null,
   "metadata": {},
   "outputs": [],
   "source": []
  },
  {
   "cell_type": "code",
   "execution_count": 2157,
   "metadata": {},
   "outputs": [
    {
     "name": "stdout",
     "output_type": "stream",
     "text": [
      "3 non complex conjugate roots found for p values: [(-0.14940473476908891+2.033832961734017j), (-0.03592497743690901+0.48904342538850554j), (0.3890430243704313+0.9212195857604787j)].\n",
      "12.23117j -61.06673j -0j (-0-0j) should be zero.\n"
     ]
    }
   ],
   "source": [
    "model = Model_Ductility()\n",
    "model.set_stiffness_matrix_cubic(C11_22_44_Cr_20)\n",
    "model.set_euler_rotation(ND=np.array([1,1,1]),RD=np.array([-1,-1,2]))\n",
    "model.stiffness_IEEE(rotate=True)\n",
    "model.compliance_tensor()\n",
    "model.compliance_tensor_plane_strain()\n",
    "model.appropriate_matrix()\n",
    "\n",
    "model.set_crack_plane(ck_normal)\n",
    "model.set_crack_front(ck_front)\n",
    "model.set_slip_direction(sl_dir)\n",
    "model.set_slip_plane(sp_normal)\n",
    "\n",
    "model.angles_phi_theta()"
   ]
  },
  {
   "cell_type": "code",
   "execution_count": null,
   "metadata": {},
   "outputs": [],
   "source": []
  },
  {
   "cell_type": "code",
   "execution_count": 2151,
   "metadata": {},
   "outputs": [
    {
     "name": "stdout",
     "output_type": "stream",
     "text": [
      "215.12846243980027\n",
      "276.0516026051532\n",
      "[312.67257171 269.96275816 191.23595515]\n"
     ]
    },
    {
     "data": {
      "text/plain": [
       "array([[289.36987139,  19.40711323, -15.13095035],\n",
       "       [ 19.40711323, 289.36987139, -15.13095035],\n",
       "       [-15.13095035, -15.13095035, 195.13154224]])"
      ]
     },
     "execution_count": 2151,
     "metadata": {},
     "output_type": "execute_result"
    }
   ],
   "source": [
    "model.calc_o(theta_usr=70,psi_usr=60)\n",
    "print(1/model.anisotropic_o)\n",
    "model.calc_o(theta_usr=70.5,psi_usr=0)\n",
    "print(1/model.anisotropic_o)\n",
    "print(np.linalg.eig(np.linalg.inv(model.Lambda_ij))[0])\n",
    "np.linalg.inv(model.Lambda_ij)"
   ]
  },
  {
   "cell_type": "code",
   "execution_count": 2138,
   "metadata": {},
   "outputs": [
    {
     "data": {
      "text/plain": [
       "(251.21245540933387, 251.21245540933393)"
      ]
     },
     "execution_count": 2138,
     "metadata": {},
     "output_type": "execute_result"
    }
   ],
   "source": [
    "1/model.Lambda_theta[1][1],1/model.Lambda_ij[1][1]"
   ]
  },
  {
   "cell_type": "code",
   "execution_count": 2139,
   "metadata": {},
   "outputs": [
    {
     "data": {
      "text/plain": [
       "(array([251.21245541, 251.21245541, 297.4       ]),\n",
       " array([[ 0.        ,  0.98228987,  0.        ],\n",
       "        [ 1.        , -0.1873676 ,  0.        ],\n",
       "        [ 0.        ,  0.        ,  1.        ]]))"
      ]
     },
     "execution_count": 2139,
     "metadata": {},
     "output_type": "execute_result"
    }
   ],
   "source": [
    "np.linalg.eig(np.linalg.inv(model.Lambda_ij))"
   ]
  },
  {
   "cell_type": "code",
   "execution_count": 2140,
   "metadata": {
    "scrolled": true
   },
   "outputs": [
    {
     "data": {
      "text/latex": [
       "$\\displaystyle \\left[\\begin{matrix}-0.49371 + 1.645 i & 0 & 0\\\\0 & 0.49371 + 1.645 i & 0\\\\0 & 0 & 2.0 i\\end{matrix}\\right]$"
      ],
      "text/plain": [
       "Matrix([\n",
       "[-0.49371 + 1.645*I,                 0,     0],\n",
       "[                 0, 0.49371 + 1.645*I,     0],\n",
       "[                 0,                 0, 2.0*I]])"
      ]
     },
     "execution_count": 2140,
     "metadata": {},
     "output_type": "execute_result"
    }
   ],
   "source": [
    "Matrix(np.round(np.dot(model.new_B.T,model.new_A)+np.dot(model.new_A.T,model.new_B),5))"
   ]
  },
  {
   "cell_type": "code",
   "execution_count": 2141,
   "metadata": {},
   "outputs": [
    {
     "data": {
      "text/latex": [
       "$\\displaystyle \\left[\\begin{matrix}0 & 0 & 0\\\\0 & 0 & 0\\\\0 & 0 & 0\\end{matrix}\\right]$"
      ],
      "text/plain": [
       "Matrix([\n",
       "[0, 0, 0],\n",
       "[0, 0, 0],\n",
       "[0, 0, 0]])"
      ]
     },
     "execution_count": 2141,
     "metadata": {},
     "output_type": "execute_result"
    }
   ],
   "source": [
    "Matrix(np.round(np.dot(model.new_B.T,np.conjugate(model.new_A))+np.dot(model.new_A.T,np.conjugate(model.new_B)),5))"
   ]
  },
  {
   "cell_type": "code",
   "execution_count": 2142,
   "metadata": {},
   "outputs": [
    {
     "data": {
      "text/latex": [
       "$\\displaystyle \\left[\\begin{matrix}0.172480964284287 + 0.685747998144772 i & -0.362324907703756 + 0.607223732455727 i & 0\\\\-0.172480964284287 + 0.685747998144772 i & -0.362324907703756 - 0.607223732455727 i & 0\\\\0 & 0 & 1.0 i\\end{matrix}\\right]$"
      ],
      "text/plain": [
       "Matrix([\n",
       "[ 0.172480964284287 + 0.685747998144772*I, -0.362324907703756 + 0.607223732455727*I,     0],\n",
       "[-0.172480964284287 + 0.685747998144772*I, -0.362324907703756 - 0.607223732455727*I,     0],\n",
       "[                                       0,                                        0, 1.0*I]])"
      ]
     },
     "execution_count": 2142,
     "metadata": {},
     "output_type": "execute_result"
    }
   ],
   "source": [
    "Matrix(model.B.T/np.array([np.linalg.norm(model.B.T[0]),np.linalg.norm(model.B.T[1]),np.linalg.norm(model.B.T[2])]))"
   ]
  },
  {
   "cell_type": "code",
   "execution_count": 2143,
   "metadata": {},
   "outputs": [
    {
     "data": {
      "text/plain": [
       "Index(['name', 'C11', 'C12', 'C44', 'o_70_0', 'o_70_60'], dtype='object')"
      ]
     },
     "execution_count": 2143,
     "metadata": {},
     "output_type": "execute_result"
    }
   ],
   "source": [
    "o_70_60 = []\n",
    "o_70_0 = []\n",
    "C_data = pd.read_csv('./data_anisotropic_o.csv',sep=',')\n",
    "C_data.columns"
   ]
  },
  {
   "cell_type": "code",
   "execution_count": 2146,
   "metadata": {},
   "outputs": [
    {
     "name": "stdout",
     "output_type": "stream",
     "text": [
      "Name: Al_1.\n",
      "3 non complex conjugate roots found for p values: [(-0.013744458534623395+1.4033610977009554j), (-0.0069782594512112625+0.7125066308595938j), (0.08369223004381568+0.9964916510590006j)].\n",
      "(-0+0.30228j) -0.48332j 0j (-0+0j) should be zero.\n",
      "[89.07604138 87.11713927 57.89859322]\n",
      "Name: Al_2.\n",
      "3 non complex conjugate roots found for p values: [(-0.022197844947099477+1.4843302979770798j), (-0.010072855217685408+0.6735538617545225j), (0.1160052918165562+0.9932485954032634j)].\n",
      "(-0+0.55972j) -1.02735j (-0-0j) -0j should be zero.\n",
      "[98.89792485 95.66216478 64.96478966]\n",
      "Name: Au.\n",
      "3 non complex conjugate roots found for p values: [(-0.09288253758393164+2.4767405207196247j), (-0.015120379545630723+0.40318942272096575j), (0.47511256848879047+0.87992502366053j)].\n",
      "7.09982j -15.09066j -0j (-0-0j) should be zero.\n",
      "[104.65262834  94.7174378   51.52559853]\n",
      "Name: Ag.\n",
      "3 non complex conjugate roots found for p values: [(-0.14258475793530098+2.18833595921016j), (-0.029648672958935154+0.4550364156619047j), (0.4254760939603844+0.9049696643911409j)].\n",
      "5.95042j -22.18687j -0j (-0-0j) should be zero.\n",
      "[123.4990663  108.00766942  69.46262349]\n",
      "Name: Cu.\n",
      "3 non complex conjugate roots found for p values: [(-0.15370575682433849+2.230999642297321j), (-0.03073509738906349+0.44611205655321473j), (0.4443106301933975+0.8958727944843208j)].\n",
      "(-0+8.55414j) -33.19067j 0j (-0+0j) should be zero.\n",
      "[163.71214915 142.15301701  90.94523153]\n",
      "Name: Pd.\n",
      "3 non complex conjugate roots found for p values: [(-0.13073398905191705+2.44124274399769j), (-0.021873731502571804+0.4084560465266709j), (0.48697060998044717+0.8734183562390198j)].\n",
      "10.90263j -29.81342j (-0+0j) 0j should be zero.\n",
      "[160.46355895 141.84354693  81.26191923]\n",
      "Name: Ni.\n",
      "3 non complex conjugate roots found for p values: [(-0.13042466172505254+1.9934068456443197j), (-0.03268230339456862+0.4995154018915392j), (0.36379247137439025+0.9314800254279817j)].\n",
      "(-0+9.4684j) -41.53584j (-0-0j) -0j should be zero.\n",
      "[269.44420117 236.05374409 165.82579137]\n",
      "Name: Cr_10.\n",
      "3 non complex conjugate roots found for p values: [(-0.12893920876622478+1.9581969163711568j), (-0.03348061171188774+0.5084693107688145j), (0.35313848214527177+0.9355710622011209j)].\n",
      "(-0+11.16251j) -51.26143j (-0-0j) -0j should be zero.\n",
      "[336.13013059 294.25905518 210.99492681]\n",
      "Name: Cr_20.\n",
      "3 non complex conjugate roots found for p values: [(-0.14940473476908891+2.033832961734017j), (-0.03592497743690901+0.48904342538850554j), (0.3890430243704313+0.9212195857604787j)].\n",
      "12.23117j -61.06673j -0j (-0-0j) should be zero.\n",
      "[312.67257171 269.96275816 191.23595515]\n",
      "Name: Cr_33.\n",
      "3 non complex conjugate roots found for p values: [(-0.1809399955489014+2.143159696552571j), (-0.039114779991994864+0.46329845297088257j), (0.43962392239954057+0.8981819452950737j)].\n",
      "13.71714j -76.30197j 0j (-0+0j) should be zero.\n",
      "[283.00619752 239.60266005 166.43294542]\n",
      "Name: Cr_40.\n",
      "3 non complex conjugate roots found for p values: [(-0.2000580588517354+2.205960097562563j), (-0.04077588911094202+0.4496193996765537j), (0.4678673127071067+0.8837987201281922j)].\n",
      "(-0+14.58752j) -85.78298j (-0-0j) -0j should be zero.\n",
      "[268.74557999 225.01685615 154.39519317]\n",
      "Name: Cr_50.\n",
      "3 non complex conjugate roots found for p values: [(-0.23737973319514738+2.3211313478984446j), (-0.04360391968764883+0.4263650629139592j), (0.5182148487257504+0.8552504724115314j)].\n",
      "16.37035j -105.69629j (-0+0j) 0j should be zero.\n",
      "[248.73061568 204.03390195 136.68567528]\n",
      "Name: Cr_60.\n",
      "3 non complex conjugate roots found for p values: [(-0.25652494913834845+2.384432186411063j), (-0.044602780638698+0.41458854632102665j), (0.5435930868409556+0.8393488880904768j)].\n",
      "17.34969j -115.31442j (-0+0j) 0j should be zero.\n",
      "[239.37284934 194.47161742 128.19551345]\n",
      "Name: Cr_70.\n",
      "3 non complex conjugate roots found for p values: [(-0.2687302984389816+2.42702693563263j), (-0.04506874280556486+0.40703654697515224j), (0.5597721919441974+0.8286465429397438j)].\n",
      "18.2903j (-0-122.97903j) -0j (-0-0j) should be zero.\n",
      "[237.21971665 191.58774442 124.81150302]\n",
      "Name: Cr_80.\n",
      "3 non complex conjugate roots found for p values: [(-0.270269873494586+2.4402893141809763j), (-0.04483531596542269+0.40482182136567446j), (0.5635398533791439+0.8260888775751754j)].\n",
      "19.08537j -126.90789j (-0-0j) -0j should be zero.\n",
      "[243.32933186 196.45101707 127.2960745 ]\n",
      "Name: Cr_90.\n",
      "3 non complex conjugate roots found for p values: [(-0.2626910572660925+2.4252019651360968j), (-0.04414522308021975+0.40755510629002095j), (0.5561473580040387+0.8310836998673043j)].\n",
      "19.77284j (-0-128.26015j) (-0-0j) -0j should be zero.\n",
      "[258.27915717 209.40328464 135.92846334]\n",
      "Name: Cr_100.\n",
      "3 non complex conjugate roots found for p values: [(-0.24971826291933932+2.391531609291658j), (-0.04319053103098253+0.4136322228705027j), (0.5414698311120459+0.8407201805568203j)].\n",
      "20.46066j -128.44534j 0j (-0+0j) should be zero.\n",
      "[281.57106268 229.88591492 150.18135523]\n"
     ]
    }
   ],
   "source": [
    "for i in range(len(C_data)):\n",
    "    print('Name: {}.'.format(C_data['name'][i]))\n",
    "    C11_12_44 = np.array([C_data['C11'][i],C_data['C12'][i],C_data['C44'][i]])\n",
    "    model = Model_Ductility()\n",
    "    model.set_stiffness_matrix_cubic(C11_12_44)\n",
    "    model.set_euler_rotation(ND=np.array([1,1,1]),RD=np.array([-1,-1,2]))\n",
    "    model.stiffness_IEEE(rotate=True)\n",
    "    model.compliance_tensor()\n",
    "    model.compliance_tensor_plane_strain()\n",
    "    model.appropriate_matrix()\n",
    "    model.set_crack_plane(ck_normal)\n",
    "    model.set_crack_front(ck_front)\n",
    "    model.set_slip_direction(sl_dir)\n",
    "    model.set_slip_plane(sp_normal)\n",
    "    model.angles_phi_theta()\n",
    "    # o_70_60\n",
    "    model.calc_o(theta_usr=70.5,psi_usr=60)\n",
    "    o_70_60.append(1/model.anisotropic_o)\n",
    "    # o_70_0\n",
    "    model.calc_o(theta_usr=70.5,psi_usr=0)\n",
    "    o_70_0.append(1/model.anisotropic_o)\n",
    "    print(np.linalg.eig(np.linalg.inv(model.Lambda_ij))[0])\n",
    "    np.linalg.inv(model.Lambda_ij)\n",
    "    "
   ]
  },
  {
   "cell_type": "code",
   "execution_count": 2145,
   "metadata": {},
   "outputs": [
    {
     "data": {
      "text/plain": [
       "<matplotlib.legend.Legend at 0x147a685d0>"
      ]
     },
     "execution_count": 2145,
     "metadata": {},
     "output_type": "execute_result"
    },
    {
     "data": {
      "image/png": "[encoded data removed]",
      "text/plain": [
       "<Figure size 432x288 with 1 Axes>"
      ]
     },
     "metadata": {
      "needs_background": "light"
     },
     "output_type": "display_data"
    }
   ],
   "source": [
    "plt.scatter(o_70_0,C_data['o_70_0'],label='o(70,60)')\n",
    "plt.scatter(o_70_60,C_data['o_70_60'],label='o(70,0)')\n",
    "plt.plot([50,350],[50,350])\n",
    "plt.xlabel('My results')\n",
    "plt.ylabel('Paper results')\n",
    "plt.legend()"
   ]
  },
  {
   "cell_type": "code",
   "execution_count": 1790,
   "metadata": {},
   "outputs": [],
   "source": [
    "ND = np.array([1,1,1])\n",
    "#ND = np.array([0,0,1])\n",
    "RD = np.array([-1,-1,2])\n",
    "TD = np.array([-1,1,0])\n",
    "\n",
    "n = ND/np.linalg.norm(ND)\n",
    "b = RD/np.linalg.norm(RD)\n",
    "t = np.cross(n,b)/np.linalg.norm(np.cross(n,b))\n",
    "\n",
    "Crystal_ij = np.array([b,t,n]).T"
   ]
  },
  {
   "cell_type": "code",
   "execution_count": 1791,
   "metadata": {},
   "outputs": [
    {
     "data": {
      "text/plain": [
       "(array([ 0.70710678, -0.70710678,  0.        ]),\n",
       " array([[-0.40824829,  0.70710678,  0.57735027],\n",
       "        [-0.40824829, -0.70710678,  0.57735027],\n",
       "        [ 0.81649658,  0.        ,  0.57735027]]))"
      ]
     },
     "execution_count": 1791,
     "metadata": {},
     "output_type": "execute_result"
    }
   ],
   "source": [
    "t,Crystal_ij"
   ]
  },
  {
   "cell_type": "code",
   "execution_count": 1770,
   "metadata": {},
   "outputs": [
    {
     "name": "stderr",
     "output_type": "stream",
     "text": [
      "/opt/anaconda3/lib/python3.7/site-packages/ipykernel_launcher.py:8: RuntimeWarning: divide by zero encountered in double_scalars\n",
      "  \n"
     ]
    },
    {
     "data": {
      "text/plain": [
       "(54.735610317245346, 45.0, -90.0)"
      ]
     },
     "execution_count": 1770,
     "metadata": {},
     "output_type": "execute_result"
    }
   ],
   "source": [
    "if np.abs(Crystal_ij[2][2]-1)<=1e-6:\n",
    "    Bunge_Phi = 0    \n",
    "    Bunge_psi1 = np.arctan(Crystal_ij[0][1]/Crystal_ij[0][0])/2\n",
    "    Bunge_psi2 = -Bunge_psi1\n",
    "else:\n",
    "    Bunge_Phi = np.arccos(Crystal_ij[2][2])\n",
    "    Bunge_psi2 = np.arctan((Crystal_ij[0][2]/np.sin(Bunge_Phi))/(Crystal_ij[1][2]/np.sin(Bunge_Phi)))\n",
    "    Bunge_psi1 = np.arctan((Crystal_ij[2][0]/np.sin(Bunge_Phi))/(-Crystal_ij[2][1]/np.sin(Bunge_Phi)))\n",
    "np.rad2deg(Bunge_Phi),np.rad2deg(Bunge_psi2),np.rad2deg(Bunge_psi1)"
   ]
  },
  {
   "cell_type": "code",
   "execution_count": 1771,
   "metadata": {},
   "outputs": [
    {
     "data": {
      "text/plain": [
       "90.0"
      ]
     },
     "execution_count": 1771,
     "metadata": {},
     "output_type": "execute_result"
    }
   ],
   "source": [
    "np.rad2deg(np.arccos(np.dot(t,sp_normal/np.linalg.norm(sp_normal))))"
   ]
  },
  {
   "cell_type": "code",
   "execution_count": 1947,
   "metadata": {},
   "outputs": [
    {
     "data": {
      "text/latex": [
       "$\\displaystyle \\left[\\begin{matrix}1.0 & 1.0 & 1.0\\\\-0.0493192518108334 + 0.153214017773719 i & -1.90370929842864 + 5.91401814861617 i & -0.681957966731014 - 0.731391366924782 i\\\\0.0583250660636737 - 0.127311643304113 i & -0.863957339627555 + 0.102571140063532 i & 4.39869374134611 - 10.1155391163207 i\\end{matrix}\\right]$"
      ],
      "text/plain": [
       "Matrix([\n",
       "[                                      1.0,                                      1.0,                                      1.0],\n",
       "[-0.0493192518108334 + 0.153214017773719*I,   -1.90370929842864 + 5.91401814861617*I, -0.681957966731014 - 0.731391366924782*I],\n",
       "[ 0.0583250660636737 - 0.127311643304113*I, -0.863957339627555 + 0.102571140063532*I,    4.39869374134611 - 10.1155391163207*I]])"
      ]
     },
     "execution_count": 1947,
     "metadata": {},
     "output_type": "execute_result"
    }
   ],
   "source": [
    "Matrix([[1.00000000000000, 1.00000000000000, 1.00000000000000], [-0.0493192518108334 + 0.153214017773719*I, -1.90370929842864 + 5.91401814861617*I, -0.681957966731014 - 0.731391366924782*I], [0.0583250660636737 - 0.127311643304113*I, -0.863957339627555 + 0.102571140063532*I, 4.39869374134611 - 10.1155391163207*I]])"
   ]
  },
  {
   "cell_type": "code",
   "execution_count": null,
   "metadata": {},
   "outputs": [],
   "source": []
  }
 ],
 "metadata": {
  "kernelspec": {
   "display_name": "Python 3",
   "language": "python",
   "name": "python3"
  },
  "language_info": {
   "codemirror_mode": {
    "name": "ipython",
    "version": 3
   },
   "file_extension": ".py",
   "mimetype": "text/x-python",
   "name": "python",
   "nbconvert_exporter": "python",
   "pygments_lexer": "ipython3",
   "version": "3.7.4"
  }
 },
 "nbformat": 4,
 "nbformat_minor": 2
}
