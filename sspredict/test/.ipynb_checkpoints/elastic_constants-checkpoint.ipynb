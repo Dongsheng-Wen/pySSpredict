{
 "cells": [
  {
   "cell_type": "code",
   "execution_count": 1,
   "metadata": {},
   "outputs": [],
   "source": [
    "import matplotlib.pyplot as plt\n",
    "import numpy as np\n",
    "import pandas as pd\n",
    "%matplotlib inline\n",
    "from matplotlib import rc, font_manager\n",
    "ticks_font = font_manager.FontProperties(family='serif', style='normal',\n",
    "                                         size=24, weight='normal', stretch='normal')"
   ]
  },
  {
   "cell_type": "code",
   "execution_count": 2,
   "metadata": {},
   "outputs": [],
   "source": [
    "def elastic_constants(C):\n",
    "    C11 = C[0]\n",
    "    C12 = C[1]\n",
    "    C44 = C[2]\n",
    "    \n",
    "    G = np.sqrt(0.5*C44*(C11-C12))\n",
    "    B = C11 + 2*C12\n",
    "    nu = (3*B - 2*G)/2/(3*B+G)\n",
    "    print(G,nu)"
   ]
  },
  {
   "cell_type": "code",
   "execution_count": 8,
   "metadata": {},
   "outputs": [
    {
     "name": "stdout",
     "output_type": "stream",
     "text": [
      "95.88430528506738 0.43170258329641154\n"
     ]
    }
   ],
   "source": [
    "# VEGARD\n",
    "elastic_constants([356,157,92.4])"
   ]
  },
  {
   "cell_type": "code",
   "execution_count": 6,
   "metadata": {},
   "outputs": [
    {
     "name": "stdout",
     "output_type": "stream",
     "text": [
      "15.527000000000001\n",
      "17.955000000000002\n",
      "17.988\n",
      "14.023000000000001\n",
      "15.807\n"
     ]
    }
   ],
   "source": [
    "print(16.155 - 0.628)\n",
    "print(16.155 + 1.8)\n",
    "print(16.155 + 1.833)\n",
    "print(16.155 - 2.132)\n",
    "print(16.155 - 0.348)"
   ]
  },
  {
   "cell_type": "code",
   "execution_count": null,
   "metadata": {},
   "outputs": [],
   "source": []
  },
  {
   "cell_type": "code",
   "execution_count": null,
   "metadata": {},
   "outputs": [],
   "source": []
  },
  {
   "cell_type": "code",
   "execution_count": 7,
   "metadata": {},
   "outputs": [
    {
     "name": "stdout",
     "output_type": "stream",
     "text": [
      "15.480999999999998\n",
      "17.628\n",
      "17.976999999999997\n",
      "14.822999999999999\n",
      "16.127\n"
     ]
    }
   ],
   "source": [
    "#EAM RANDOM\n",
    "print(16.307-0.826)\n",
    "print(16.307+1.321)\n",
    "print(16.307+1.67)\n",
    "print(16.307-1.484)\n",
    "print(16.307-0.180)"
   ]
  },
  {
   "cell_type": "code",
   "execution_count": 9,
   "metadata": {},
   "outputs": [
    {
     "name": "stdout",
     "output_type": "stream",
     "text": [
      "78.29840355971506 0.4400746461519355\n"
     ]
    }
   ],
   "source": [
    "elastic_constants([312.8,157.2,78.8])"
   ]
  },
  {
   "cell_type": "code",
   "execution_count": null,
   "metadata": {},
   "outputs": [],
   "source": []
  },
  {
   "cell_type": "code",
   "execution_count": 11,
   "metadata": {},
   "outputs": [
    {
     "name": "stdout",
     "output_type": "stream",
     "text": [
      "15.489\n",
      "17.608\n",
      "17.945\n",
      "14.858000000000002\n",
      "16.165000000000003\n"
     ]
    }
   ],
   "source": [
    "# EAM\n",
    "print(16.292-0.803)\n",
    "print(16.292+1.316)\n",
    "print(16.292+1.653)\n",
    "print(16.292-1.434)\n",
    "print(16.292-0.127)"
   ]
  },
  {
   "cell_type": "code",
   "execution_count": 12,
   "metadata": {},
   "outputs": [
    {
     "name": "stdout",
     "output_type": "stream",
     "text": [
      "81.2566920321028 0.4386821140953876\n"
     ]
    }
   ],
   "source": [
    "elastic_constants([317.9,158.8,83])"
   ]
  },
  {
   "cell_type": "code",
   "execution_count": null,
   "metadata": {},
   "outputs": [],
   "source": []
  }
 ],
 "metadata": {
  "kernelspec": {
   "display_name": "Python 3",
   "language": "python",
   "name": "python3"
  },
  "language_info": {
   "codemirror_mode": {
    "name": "ipython",
    "version": 3
   },
   "file_extension": ".py",
   "mimetype": "text/x-python",
   "name": "python",
   "nbconvert_exporter": "python",
   "pygments_lexer": "ipython3",
   "version": "3.7.4"
  }
 },
 "nbformat": 4,
 "nbformat_minor": 2
}
