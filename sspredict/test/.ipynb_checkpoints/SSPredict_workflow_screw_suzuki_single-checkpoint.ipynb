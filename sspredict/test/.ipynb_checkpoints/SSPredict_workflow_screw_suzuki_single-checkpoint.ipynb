{
 "cells": [
  {
   "cell_type": "code",
   "execution_count": 1,
   "metadata": {},
   "outputs": [],
   "source": [
    "import matplotlib.pyplot as plt\n",
    "import numpy as np\n",
    "import pandas as pd\n",
    "%matplotlib inline\n",
    "from matplotlib import rc, font_manager\n",
    "ticks_font = font_manager.FontProperties(family='serif', style='normal',\n",
    "                                         size=24, weight='normal', stretch='normal')\n",
    "import scipy.integrate as integrate\n",
    "import scipy.optimize as optimize\n",
    "from scipy import interpolate"
   ]
  },
  {
   "cell_type": "code",
   "execution_count": null,
   "metadata": {},
   "outputs": [],
   "source": []
  },
  {
   "cell_type": "code",
   "execution_count": null,
   "metadata": {},
   "outputs": [],
   "source": []
  },
  {
   "cell_type": "code",
   "execution_count": 2,
   "metadata": {},
   "outputs": [],
   "source": []
  },
  {
   "cell_type": "code",
   "execution_count": 119,
   "metadata": {},
   "outputs": [],
   "source": [
    "import os\n",
    "import json\n",
    "import scipy.optimize as optimize\n",
    "class read_Suzuki_model_RWASM_T:\n",
    "    \n",
    "    def __init__(self,fh):\n",
    "        if os.path.isfile(fh):\n",
    "            self.file = fh\n",
    "            self.data = json.load(open(fh))\n",
    "        else:\n",
    "            print('input file not in current directory')\n",
    "            quit()\n",
    "        \n",
    "        self.model = self.data[\"model\"]\n",
    "        self.name = self.data[\"material\"]\n",
    "        # properties\n",
    "        self.element_data = self.data['elements']\n",
    "        # adjustable scalers\n",
    "        self.adjustable_scalers = self.data['adjustables']\n",
    "        # exp conditions\n",
    "        self.experiment_conditions = self.data['conditions']\n",
    "        # output file\n",
    "        try: \n",
    "            self.savefilename = self.data['savefile']\n",
    "        except:\n",
    "            self.savefilename = self.data[\"material\"] + '_out'\n",
    "        "
   ]
  },
  {
   "cell_type": "code",
   "execution_count": 127,
   "metadata": {},
   "outputs": [],
   "source": [
    "class Suzuki_model_RWASM_T:\n",
    "    \n",
    "    def __init__(self,\n",
    "                element_data,\n",
    "                experiment_conditions,\n",
    "                adjustable_scalers):\n",
    "        \n",
    "        # \n",
    "        self.element_data = element_data\n",
    "        # conditions\n",
    "        self.strain_r = experiment_conditions['strain_r']\n",
    "        self.T_range = np.arange(experiment_conditions['temperature']['min'],\n",
    "                               experiment_conditions['temperature']['max']+experiment_conditions['temperature']['inc'],\n",
    "                               experiment_conditions['temperature']['inc'])\n",
    "        # constants\n",
    "        self.boltzmann_J = 1.380649e-23\n",
    "        self.boltzmann_eV = 8.617333262145e-5\n",
    "        self.J2eV = self.boltzmann_eV/self.boltzmann_J\n",
    "        self.eV2J = 1/self.J2eV\n",
    "        self.Debye = 5 * 10**(12) # Debye frequency /s\n",
    "        \n",
    "        #adjustables\n",
    "        self.rho = adjustable_scalers['dislocation_density']\n",
    "        self.tau_i_exponent = adjustable_scalers['tau_i_exponent']\n",
    "        self.trial_kappa_range = np.arange(adjustable_scalers['trial_kappa']['min'],\n",
    "                                          adjustable_scalers['trial_kappa']['max']+adjustable_scalers['trial_kappa']['inc'],\n",
    "                                          adjustable_scalers['trial_kappa']['inc'])\n",
    "        self.trial_tau_k = adjustable_scalers['trial_tau_k'] * 1e6\n",
    "        self.kink_width = adjustable_scalers['kink_width']\n",
    "\n",
    "        \n",
    "        \n",
    "    def L(self,kappa_i):\n",
    "        f = lambda x: np.exp(-x**2/2)/np.sqrt(2*np.pi)\n",
    "        y = integrate.quad(f,kappa_i,np.inf)\n",
    "        return self.b/(3*y[0]*self.c) \n",
    "    \n",
    "    def tau_y_optimize(self,x):\n",
    "        self.tau_j = lambda kappa_i: (self.E_int + self.E_vac)/(4*self.b*self.L(kappa_i))\n",
    "        \n",
    "        self.Delta_V = lambda x: 3 * x[1]**2 * self.E_w**2 * self.c / (2*x[0]**2*self.a_p*self.b**2) + \\\n",
    "                                     x[0]**2 * self.a_p**3 * self.b**4 * self.lambda_k**2 / (6*x[1]**2 * self.E_w**2 * self.c)\n",
    "        self.S = lambda x: 18 * x[1]**2 * self.E_w**2 * self.c *self.kT /(self.a_p**3 * self.b**4 * self.lambda_k**2) * \\\n",
    "                 np.log( (5*np.pi*self.kT)**2 * self.Debye * self.a_p * self.b /((self.G*self.b*self.Delta_V(x))**2 * self.strain_r) )\n",
    "        self.R = lambda kappa_i: 27 * kappa_i**4 * self.E_w**4 * self.c**2 / (self.a_p**4 * self.b**6 * self.lambda_k**2)\n",
    "        # x[0] = tau_k\n",
    "        # x[1] = kappa_i\n",
    "        #self.tau_k_opt_func = lambda x: x[0]**4 + x[0]*self.S(x) - self.R(x[1]) \n",
    "        self.tau_y_funcs = lambda x: (self.tau_j(x[1]) + x[0], x[0]**4 + x[0]*self.S(x) - self.R(x[1]))\n",
    "        self.res = optimize.root(self.tau_y_funcs, x)\n",
    "        self.tau_k_value = self.res.x[0]\n",
    "        self.tau_y_value = (self.res.x[0]) + self.tau_j(self.res.x[1])\n",
    "        self.tau_j_value = self.tau_j(self.res.x[1])\n",
    "        self.L_value = self.L(self.res.x[1])\n",
    "        \n",
    "    \n",
    "    def phenomelogical_model_tau_y(self): \n",
    "        # tau_y = ( sum( tau_y_i**(1/q) ) )**q\n",
    "        self.tau_y_tot = sum(self.tau_y_i**(1/self.tau_i_exponent))**self.tau_i_exponent\n",
    "        \n",
    "    def calculate(self):\n",
    "        tau_y_tot_T = []\n",
    "        for T in self.T_range:\n",
    "            self.T = T\n",
    "            self.kT = self.boltzmann_J * self.T\n",
    "            # record tau_y for every element\n",
    "            tau_y_i = []\n",
    "            \n",
    "            for element_symbol in self.element_data:\n",
    "                element_i = self.element_data[element_symbol]\n",
    "                #print(element_i)\n",
    "                # calculate the yield strength contribution for every element\n",
    "                # according to concentration\n",
    "                # setup properties for every element\n",
    "                self.E_f_v = element_i['E_f_v'] * self.eV2J #J\n",
    "                self.E_f_si = element_i['E_f_si'] * self.eV2J # J\n",
    "                self.a_0 = element_i['a']*1e-10#element_i['a_0'] * 10**(-10) # unit: m\n",
    "                self.E_w = element_i['E_w'] * self.eV2J#element_i['E_w'] * self.eV2J # J\n",
    "                self.c = element_i['c']\n",
    "                self.G = element_i['G'] * 10**9 # Pa\n",
    "                self.nu = element_i['nu']\n",
    "                self.b = self.a_0 * np.sqrt(3) / 2\n",
    "                self.a_p = self.a_0 * np.sqrt(2/3)\n",
    "                #self.E_vac = 0.6 * self.eV2J / 10**(-10) # test NbTiZr\n",
    "                #self.E_int = 0.9 * self.eV2J / 10**(-10) # test NbTiZr\n",
    "                self.E_vac = 0.707 * self.E_f_v  /self.b + self.G * self.b**2 / (np.pi*(1-self.nu)) * np.log(1.5)\n",
    "                self.E_int = 0.707 * self.E_f_si /self.b + self.G * self.b**2 / (np.pi*(1-self.nu)) * np.log(1.5)\n",
    "                self.lambda_k = self.b * self.kink_width\n",
    "                \n",
    "                # record the optimization results for post-processing\n",
    "                tau_k_list = []\n",
    "                tau_j_list = []\n",
    "                tau_y_list = []\n",
    "                optimized_kappa_list = []\n",
    "                \n",
    "                # start to optimize tau_k for every trial kappa\n",
    "                for trial_kappa_i in (self.trial_kappa_range):\n",
    "                    \n",
    "                    x_trial = [self.trial_tau_k, trial_kappa_i]\n",
    "                    self.tau_y_optimize(x_trial)\n",
    "                    tau_k_list.append(self.tau_k_value/1e6)\n",
    "                    tau_j_list.append(self.tau_j_value/1e6)\n",
    "                    tau_y_list.append(self.tau_y_value/1e6)\n",
    "                    optimized_kappa_list.append((self.res.x[1]))\n",
    "                \n",
    "                # optimize tau_y over kappa, this finds the true tau_y for each element\n",
    "                optimized_kappa_sort, tau_y_sort, tau_j_sort, tau_k_sort  = zip(*sorted(zip(optimized_kappa_list, tau_y_list, tau_j_list, tau_k_list)))\n",
    "                '''\n",
    "                # polyfit tau_y over kappa_i, then find minimum of the polyfit\n",
    "                # this is because the kappa_list and tau_y_list are discrete points and maybe noisy, \n",
    "                # need a smooth curve to find min\n",
    "                polyfit = np.polyfit(optimized_kappa_sort, tau_y_sort,9)\n",
    "                npfit = np.poly1d(polyfit)\n",
    "                guess_kappa = (self.trial_kappa_range[0]+self.trial_kappa_range[1])/2\n",
    "                optimized_kappa = optimize.fmin_slsqp(npfit,guess_kappa,\n",
    "                                                      bounds=([(self.trial_kappa_range[0],self.trial_kappa_range[-1])]))\n",
    "                if self.T == 300:\n",
    "                    plt.plot(optimized_kappa_sort, tau_y_sort)\n",
    "                    print('optimized_kappa:',optimized_kappa)\n",
    "                    plt.ylim(0,500)\n",
    "                    plt.plot(self.trial_kappa_range,npfit(self.trial_kappa_range))\n",
    "                # record tau_y for every element\n",
    "                tau_y_i.append(npfit(optimized_kappa[0]))''' # doesn't work very well, need a better way. np.polyfit gets weird shape\n",
    "                tau_y_i.append(min(tau_y_sort)) # just live with that...\n",
    "                index = tau_y_sort.index(min(tau_y_sort))\n",
    "                # tau_k_i, tau_j_i dont add up to tau_y_tot\n",
    "            self.tau_y_i = np.array(tau_y_i)\n",
    "            self.phenomelogical_model_tau_y()\n",
    "            tau_y_tot_T.append(self.tau_y_tot)\n",
    "        self.tau_y_tot_T = tau_y_tot_T\n",
    "        "
   ]
  },
  {
   "cell_type": "code",
   "execution_count": 122,
   "metadata": {},
   "outputs": [],
   "source": [
    "input_data = read_Suzuki_model_RWASM_T('../sample_input_TiNbZr_BCC_screw_suzuki.json')\n"
   ]
  },
  {
   "cell_type": "code",
   "execution_count": 123,
   "metadata": {},
   "outputs": [],
   "source": [
    "model = Suzuki_model_RWASM_T(input_data.element_data,\n",
    "                            input_data.experiment_conditions,\n",
    "                            input_data.adjustable_scalers)"
   ]
  },
  {
   "cell_type": "code",
   "execution_count": 125,
   "metadata": {},
   "outputs": [
    {
     "name": "stderr",
     "output_type": "stream",
     "text": [
      "/opt/anaconda3/lib/python3.7/site-packages/ipykernel_launcher.py:36: RuntimeWarning: divide by zero encountered in double_scalars\n"
     ]
    }
   ],
   "source": [
    "model.calculate()"
   ]
  },
  {
   "cell_type": "code",
   "execution_count": 128,
   "metadata": {},
   "outputs": [
    {
     "data": {
      "text/plain": [
       "[350.9592734514728,\n",
       " 281.52205642473587,\n",
       " 236.8273207875437,\n",
       " 205.42577361294695,\n",
       " 182.28804871809706,\n",
       " 163.79259614718515,\n",
       " 149.2448378255139,\n",
       " 137.30908431934876,\n",
       " 127.33680969305904,\n",
       " 118.83588341345987,\n",
       " 111.49238331037472,\n",
       " 105.10147922450443]"
      ]
     },
     "execution_count": 128,
     "metadata": {},
     "output_type": "execute_result"
    }
   ],
   "source": [
    "model.tau_y_tot_T"
   ]
  },
  {
   "cell_type": "code",
   "execution_count": 126,
   "metadata": {},
   "outputs": [
    {
     "data": {
      "text/plain": [
       "(0, 1200)"
      ]
     },
     "execution_count": 126,
     "metadata": {},
     "output_type": "execute_result"
    },
    {
     "data": {
      "image/png": "[encoded data removed]",
      "text/plain": [
       "<Figure size 432x288 with 1 Axes>"
      ]
     },
     "metadata": {
      "needs_background": "light"
     },
     "output_type": "display_data"
    }
   ],
   "source": [
    "paper_data = [\n",
    "1032.146606445312,\n",
    "622.820007324219,\n",
    "513.924377441406,\n",
    "434.880462646484,\n",
    "169.899871826172,\n",
    "]\n",
    "plt.plot([300,673,873,1073,1273],paper_data,'-s',label='paper')\n",
    "\n",
    "plt.plot(model.T_range,np.array(model.tau_y_tot_T)*3.07)\n",
    "plt.plot(model.T_range,np.array(model.tau_y_tot_T)*2.75)\n",
    "plt.ylim(0,1200)"
   ]
  },
  {
   "cell_type": "code",
   "execution_count": null,
   "metadata": {},
   "outputs": [],
   "source": []
  }
 ],
 "metadata": {
  "kernelspec": {
   "display_name": "Python 3",
   "language": "python",
   "name": "python3"
  },
  "language_info": {
   "codemirror_mode": {
    "name": "ipython",
    "version": 3
   },
   "file_extension": ".py",
   "mimetype": "text/x-python",
   "name": "python",
   "nbconvert_exporter": "python",
   "pygments_lexer": "ipython3",
   "version": "3.7.4"
  }
 },
 "nbformat": 4,
 "nbformat_minor": 2
}
