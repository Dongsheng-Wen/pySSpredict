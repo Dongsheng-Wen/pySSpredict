{
 "cells": [
  {
   "cell_type": "code",
   "execution_count": 13,
   "metadata": {},
   "outputs": [],
   "source": [
    "import matplotlib.pyplot as plt\n",
    "import numpy as np\n",
    "import pandas as pd\n",
    "%matplotlib inline\n",
    "from matplotlib import rc, font_manager\n",
    "ticks_font = font_manager.FontProperties(family='serif', style='normal',\n",
    "                                         size=24, weight='normal', stretch='normal')\n",
    "import scipy.integrate as integrate\n",
    "import scipy.optimize as optimize\n",
    "from scipy import interpolate\n",
    "import scipy.stats as stats"
   ]
  },
  {
   "cell_type": "code",
   "execution_count": null,
   "metadata": {},
   "outputs": [],
   "source": []
  },
  {
   "cell_type": "code",
   "execution_count": null,
   "metadata": {},
   "outputs": [],
   "source": []
  },
  {
   "cell_type": "code",
   "execution_count": null,
   "metadata": {},
   "outputs": [],
   "source": []
  },
  {
   "cell_type": "code",
   "execution_count": 14,
   "metadata": {},
   "outputs": [],
   "source": [
    "import os\n",
    "import json\n",
    "import scipy.optimize as optimize\n",
    "class read_json_Suzuki_model_RWASM_T:\n",
    "    \n",
    "    def __init__(self,fh):\n",
    "        if os.path.isfile(fh):\n",
    "            self.file = fh\n",
    "            self.data = json.load(open(fh))\n",
    "        else:\n",
    "            print('input file not in current directory')\n",
    "            quit()\n",
    "        \n",
    "        self.model = self.data[\"model\"]\n",
    "        self.name = self.data[\"material\"]\n",
    "        # properties\n",
    "        self.element_data = self.data['elements']\n",
    "        # compositions\n",
    "        self.elements_order = self.data['compositions']['element_order']\n",
    "        self.concentrations = self.data['compositions']['concentrations']\n",
    "        element_composition = {}\n",
    "        for i in range(len(self.elements_order)):\n",
    "            c_x = np.array(self.concentrations).transpose()[i]\n",
    "            c_x_T = (np.ones((len(self.temperature_range),len(c_x)))*np.array(c_x)).transpose().flatten()\n",
    "            element_composition[self.elements_order[i]] = c_x_T\n",
    "        self.element_composition = pd.DataFrame(data=element_composition)\n",
    "        # adjustable scalers\n",
    "        self.adjustable_scalers = self.data['adjustables']\n",
    "        # exp conditions\n",
    "        self.experiment_conditions = self.data['conditions']\n",
    "        # output file\n",
    "        try: \n",
    "            self.savefilename = self.data['savefile']\n",
    "        except:\n",
    "            self.savefilename = self.data[\"material\"] + '_out'\n",
    "        "
   ]
  },
  {
   "cell_type": "code",
   "execution_count": 296,
   "metadata": {},
   "outputs": [],
   "source": [
    "class Suzuki_model_RWASM_T:\n",
    "    \n",
    "    def __init__(self,\n",
    "                element_data,\n",
    "                experiment_conditions,\n",
    "                adjustable_scalers):\n",
    "        \n",
    "        # \n",
    "        self.element_data = element_data\n",
    "        # conditions\n",
    "        self.strain_r = experiment_conditions['strain_r']\n",
    "        self.T_range = np.arange(experiment_conditions['temperature']['min'],\n",
    "                               experiment_conditions['temperature']['max']+experiment_conditions['temperature']['inc'],\n",
    "                               experiment_conditions['temperature']['inc'])\n",
    "        # constants\n",
    "        self.boltzmann_J = 1.380649e-23\n",
    "        self.boltzmann_eV = 8.617333262145e-5\n",
    "        self.J2eV = self.boltzmann_eV/self.boltzmann_J\n",
    "        self.eV2J = 1/self.J2eV\n",
    "        self.Debye = 5 * 10**(12) # Debye frequency /s\n",
    "        \n",
    "        #adjustables\n",
    "        self.rho = adjustable_scalers['dislocation_density']\n",
    "        self.tau_i_exponent = adjustable_scalers['tau_i_exponent']\n",
    "        self.trial_kappa_range = np.arange(adjustable_scalers['trial_kappa']['min'],\n",
    "                                          adjustable_scalers['trial_kappa']['max']+adjustable_scalers['trial_kappa']['inc'],\n",
    "                                          adjustable_scalers['trial_kappa']['inc'])\n",
    "        self.trial_tau_k = adjustable_scalers['trial_tau_k'] * 1e6\n",
    "        self.kink_width = adjustable_scalers['kink_width']\n",
    "        \n",
    "    def L(self,kappa_i):\n",
    "        y = 1- stats.norm.cdf(kappa_i)\n",
    "        return self.b/(3*y*self.c) \n",
    "    \n",
    "    def tau_j(self,kappa_i):\n",
    "        return (self.E_int + self.E_vac)/(4*self.b*self.L(kappa_i))\n",
    "    \n",
    "    def tau_y_k_j(self,tau_k_trial,kappa_i_list):\n",
    "        \n",
    "        self.Delta_V = lambda tau_k_trial,kappa_i: 3 * kappa_i**2 * self.E_w**2 * self.c / (2*tau_k_trial**2*self.a_p*self.b**2) + \\\n",
    "                                     tau_k_trial**2 * self.a_p**3 * self.b**4 * self.lambda_k**2 / (6*kappa_i**2 * self.E_w**2 * self.c)\n",
    "        self.S = lambda tau_k_trial,kappa_i: 18 * kappa_i**2 * self.E_w**2 * self.c *self.kT /(self.a_p**3 * self.b**4 * self.lambda_k**2) * \\\n",
    "                 np.log( (5*np.pi*self.kT)**2 * self.Debye * self.a_p * self.b /((self.G*self.b*self.Delta_V(tau_k_trial,kappa_i))**2 * self.strain_r) )\n",
    "        self.R = lambda kappa_i: 27 * kappa_i**4 * self.E_w**4 * self.c**2 / (self.a_p**4 * self.b**6 * self.lambda_k**2)\n",
    "        # x[0] = tau_k_trial\n",
    "        # x[1] = kappa_i\n",
    "        self.tau_k_func = lambda tau_k_trial,kappa_i: tau_k_trial**4 + tau_k_trial*self.S(tau_k_trial,kappa_i) - self.R(kappa_i) \n",
    "        self.tau_k_kappa = []\n",
    "        self.tau_j_kappa = []\n",
    "        self.tau_y_kappa = []\n",
    "        for kappa_i in kappa_i_list:\n",
    "            self.res = optimize.root(self.tau_k_func, tau_k_trial, args=(kappa_i,))\n",
    "            self.tau_k_kappa.append(self.res.x[0])\n",
    "            self.tau_j_kappa.append(self.tau_j(kappa_i))\n",
    "            self.tau_y_kappa.append(self.res.x[0] + self.tau_j(kappa_i))\n",
    "        #print(self.tau_y_kappa)\n",
    "        \n",
    "    \n",
    "    def phenomelogical_model_tau_y(self): \n",
    "        # tau_y = ( sum( tau_y_i**(1/q) ) )**q\n",
    "        self.tau_y_tot = sum(self.tau_y_i**(1/self.tau_i_exponent))**self.tau_i_exponent\n",
    "        \n",
    "    def calculate(self):\n",
    "        tau_y_tot_T = []\n",
    "        tau_y_i_T_list = []\n",
    "        tau_k_i_T_list = []\n",
    "        tau_j_i_T_list = []\n",
    "        self.elements_kappa_i_convergence_record = pd.DataFrame(data={})\n",
    "        for element_symbol in self.element_data:\n",
    "            self.elements_kappa_i_convergence_record[element_symbol] = {}\n",
    "        for T in self.T_range:\n",
    "            self.T = T\n",
    "            self.kT = self.boltzmann_J * self.T\n",
    "            # record tau_y for every element\n",
    "            tau_y_i = []\n",
    "            tau_k_i = []\n",
    "            tau_j_i = []\n",
    "            for element_symbol in self.element_data:\n",
    "                element_i = self.element_data[element_symbol]\n",
    "                #print(element_i)\n",
    "                # calculate the yield strength contribution for every element\n",
    "                # according to concentration\n",
    "                # setup properties for every element\n",
    "                self.E_f_v = element_i['E_f_v'] * self.eV2J #J\n",
    "                self.E_f_si = element_i['E_f_si'] * self.eV2J # J\n",
    "                self.a_0 = element_i['a']*1e-10#element_i['a_0'] * 10**(-10) # unit: m\n",
    "                self.E_w = element_i['E_w'] * self.eV2J#element_i['E_w'] * self.eV2J # J\n",
    "                self.c = element_i['c']\n",
    "                self.G = element_i['G'] * 10**9 # Pa\n",
    "                self.nu = element_i['nu']\n",
    "                self.b = self.a_0 * np.sqrt(3) / 2\n",
    "                self.a_p = self.a_0 * np.sqrt(2/3)\n",
    "                #self.E_vac = 0.6 * self.eV2J / 10**(-10) # test NbTiZr\n",
    "                #self.E_int = 0.9 * self.eV2J / 10**(-10) # test NbTiZr\n",
    "                self.E_vac = 0.707 * self.E_f_v  /self.b + self.G * self.b**2 / (np.pi*(1-self.nu)) * np.log(1.5)\n",
    "                self.E_int = 0.707 * self.E_f_si /self.b + self.G * self.b**2 / (np.pi*(1-self.nu)) * np.log(1.5)\n",
    "                self.lambda_k = self.b * self.kink_width\n",
    "                \n",
    "                # record the optimization results for post-processing\n",
    "                tau_k_list = []\n",
    "                tau_j_list = []\n",
    "                tau_y_list = []\n",
    "                optimized_kappa_list = []\n",
    "                \n",
    "                # start to optimize tau_k for every trial kappa\n",
    "\n",
    "                self.tau_y_k_j(self.trial_tau_k, self.trial_kappa_range)\n",
    "                tau_k_list = np.array(self.tau_k_kappa)/1e6\n",
    "                tau_j_list = np.array(self.tau_j_kappa)/1e6\n",
    "                tau_y_list = np.array(self.tau_y_kappa)/1e6\n",
    "                kappa_list = self.trial_kappa_range\n",
    "                \n",
    "                # optimize tau_y over kappa, this finds the true tau_y for each element\n",
    "                kappa_sort, tau_y_sort, tau_j_sort, tau_k_sort  = zip(*sorted(zip(kappa_list, tau_y_list, tau_j_list, tau_k_list)))\n",
    "                ###\n",
    "                polyfit = np.polyfit(kappa_sort,tau_y_sort,4)\n",
    "                npfit = np.poly1d(polyfit)\n",
    "                guess_kappa = (self.trial_kappa_range[0]+self.trial_kappa_range[1])/2\n",
    "                res = optimize.fmin_slsqp(npfit,guess_kappa,\n",
    "                                          bounds=([(self.trial_kappa_range[0],self.trial_kappa_range[-1])]),\n",
    "                                          iprint=-1)\n",
    "                optimized_kappa = res[0]\n",
    "                tau_y_i.append(npfit(optimized_kappa))\n",
    "                tau_k_i.append(npfit(optimized_kappa)-(self.tau_j(optimized_kappa)))\n",
    "                tau_j_i.append(self.tau_j(optimized_kappa))\n",
    "                \n",
    "                # record for convergence check\n",
    "                self.elements_kappa_i_convergence_record[element_symbol]['kappa_'+str(self.T)] = None # strange thing here, only by setting None it records the first row of data\n",
    "                self.elements_kappa_i_convergence_record[element_symbol]['tau_y_'+str(self.T)] = None\n",
    "                self.elements_kappa_i_convergence_record[element_symbol]['kappa_'+str(self.T)] = kappa_sort\n",
    "                self.elements_kappa_i_convergence_record[element_symbol]['tau_y_'+str(self.T)] = tau_y_sort\n",
    "                # tau_k_i, tau_j_i dont add up to tau_y_tot\n",
    "            tau_y_i_T_list.append(tau_y_i)\n",
    "            tau_k_i_T_list.append(tau_k_i)\n",
    "            tau_j_i_T_list.append(tau_j_i)\n",
    "\n",
    "            self.tau_y_i = np.array(tau_y_i)\n",
    "            self.phenomelogical_model_tau_y()\n",
    "            tau_y_tot_T.append(self.tau_y_tot)\n",
    "        self.tau_y_tot_T = np.array(tau_y_tot_T)\n",
    "        self.tau_y_i_T_list = np.array(tau_y_i_T_list).transpose()\n",
    "        self.tau_k_i_T_list = np.array(tau_k_i_T_list).transpose()\n",
    "        self.tau_j_i_T_list = np.array(tau_j_i_T_list).transpose()\n",
    "    def writedata(self):\n",
    "        self.calc_data = pd.DataFrame(data=\n",
    "                                     {\n",
    "                                         \"T\": self.T_range,\n",
    "                                         \"tau_y\": np.round(self.tau_y_tot_T,2)\n",
    "                                     })\n",
    "        for i, element_symbol in zip(range(len(self.element_data)),self.element_data):\n",
    "            self.calc_data[\"tau_y_\"+str(element_symbol)] = np.round(self.tau_y_i_T_list[i],2)\n",
    "            self.calc_data[\"tau_k_\"+str(element_symbol)] = np.round(self.tau_k_i_T_list[i],2)\n",
    "            self.calc_data[\"tau_j_\"+str(element_symbol)] = np.round(self.tau_j_i_T_list[i],2)\n"
   ]
  },
  {
   "cell_type": "code",
   "execution_count": null,
   "metadata": {},
   "outputs": [],
   "source": []
  },
  {
   "cell_type": "code",
   "execution_count": null,
   "metadata": {},
   "outputs": [],
   "source": []
  },
  {
   "cell_type": "code",
   "execution_count": 298,
   "metadata": {},
   "outputs": [
    {
     "ename": "KeyError",
     "evalue": "'c'",
     "output_type": "error",
     "traceback": [
      "\u001b[0;31m---------------------------------------------------------------------------\u001b[0m",
      "\u001b[0;31mKeyError\u001b[0m                                  Traceback (most recent call last)",
      "\u001b[0;32m<ipython-input-298-099dee99ad25>\u001b[0m in \u001b[0;36m<module>\u001b[0;34m\u001b[0m\n\u001b[1;32m      4\u001b[0m                             \u001b[0minput_data\u001b[0m\u001b[0;34m.\u001b[0m\u001b[0mexperiment_conditions\u001b[0m\u001b[0;34m,\u001b[0m\u001b[0;34m\u001b[0m\u001b[0;34m\u001b[0m\u001b[0m\n\u001b[1;32m      5\u001b[0m                             input_data.adjustable_scalers)\n\u001b[0;32m----> 6\u001b[0;31m \u001b[0mmodel\u001b[0m\u001b[0;34m.\u001b[0m\u001b[0mcalculate\u001b[0m\u001b[0;34m(\u001b[0m\u001b[0;34m)\u001b[0m\u001b[0;34m\u001b[0m\u001b[0;34m\u001b[0m\u001b[0m\n\u001b[0m\u001b[1;32m      7\u001b[0m \u001b[0mmodel\u001b[0m\u001b[0;34m.\u001b[0m\u001b[0mwritedata\u001b[0m\u001b[0;34m(\u001b[0m\u001b[0;34m)\u001b[0m\u001b[0;34m\u001b[0m\u001b[0;34m\u001b[0m\u001b[0m\n",
      "\u001b[0;32m<ipython-input-296-75197220eecd>\u001b[0m in \u001b[0;36mcalculate\u001b[0;34m(self)\u001b[0m\n\u001b[1;32m     97\u001b[0m                 \u001b[0mself\u001b[0m\u001b[0;34m.\u001b[0m\u001b[0ma_0\u001b[0m \u001b[0;34m=\u001b[0m \u001b[0melement_i\u001b[0m\u001b[0;34m[\u001b[0m\u001b[0;34m'a'\u001b[0m\u001b[0;34m]\u001b[0m\u001b[0;34m*\u001b[0m\u001b[0;36m1e-10\u001b[0m\u001b[0;31m#element_i['a_0'] * 10**(-10) # unit: m\u001b[0m\u001b[0;34m\u001b[0m\u001b[0;34m\u001b[0m\u001b[0m\n\u001b[1;32m     98\u001b[0m                 \u001b[0mself\u001b[0m\u001b[0;34m.\u001b[0m\u001b[0mE_w\u001b[0m \u001b[0;34m=\u001b[0m \u001b[0melement_i\u001b[0m\u001b[0;34m[\u001b[0m\u001b[0;34m'E_w'\u001b[0m\u001b[0;34m]\u001b[0m \u001b[0;34m*\u001b[0m \u001b[0mself\u001b[0m\u001b[0;34m.\u001b[0m\u001b[0meV2J\u001b[0m\u001b[0;31m#element_i['E_w'] * self.eV2J # J\u001b[0m\u001b[0;34m\u001b[0m\u001b[0;34m\u001b[0m\u001b[0m\n\u001b[0;32m---> 99\u001b[0;31m                 \u001b[0mself\u001b[0m\u001b[0;34m.\u001b[0m\u001b[0mc\u001b[0m \u001b[0;34m=\u001b[0m \u001b[0melement_i\u001b[0m\u001b[0;34m[\u001b[0m\u001b[0;34m'c'\u001b[0m\u001b[0;34m]\u001b[0m\u001b[0;34m\u001b[0m\u001b[0;34m\u001b[0m\u001b[0m\n\u001b[0m\u001b[1;32m    100\u001b[0m                 \u001b[0mself\u001b[0m\u001b[0;34m.\u001b[0m\u001b[0mG\u001b[0m \u001b[0;34m=\u001b[0m \u001b[0melement_i\u001b[0m\u001b[0;34m[\u001b[0m\u001b[0;34m'G'\u001b[0m\u001b[0;34m]\u001b[0m \u001b[0;34m*\u001b[0m \u001b[0;36m10\u001b[0m\u001b[0;34m**\u001b[0m\u001b[0;36m9\u001b[0m \u001b[0;31m# Pa\u001b[0m\u001b[0;34m\u001b[0m\u001b[0;34m\u001b[0m\u001b[0m\n\u001b[1;32m    101\u001b[0m                 \u001b[0mself\u001b[0m\u001b[0;34m.\u001b[0m\u001b[0mnu\u001b[0m \u001b[0;34m=\u001b[0m \u001b[0melement_i\u001b[0m\u001b[0;34m[\u001b[0m\u001b[0;34m'nu'\u001b[0m\u001b[0;34m]\u001b[0m\u001b[0;34m\u001b[0m\u001b[0;34m\u001b[0m\u001b[0m\n",
      "\u001b[0;31mKeyError\u001b[0m: 'c'"
     ]
    }
   ],
   "source": [
    "input_data = read_json_Suzuki_model_RWASM_T('../sample_input_TiNbZr_BCC_screw_suzuki.json')\n",
    "\n",
    "model = Suzuki_model_RWASM_T(input_data.element_data,\n",
    "                            input_data.experiment_conditions,\n",
    "                            input_data.adjustable_scalers)\n",
    "model.calculate()\n",
    "model.writedata()"
   ]
  },
  {
   "cell_type": "code",
   "execution_count": null,
   "metadata": {},
   "outputs": [],
   "source": []
  },
  {
   "cell_type": "code",
   "execution_count": 295,
   "metadata": {},
   "outputs": [
    {
     "data": {
      "text/plain": [
       "(0, 1200)"
      ]
     },
     "execution_count": 295,
     "metadata": {},
     "output_type": "execute_result"
    },
    {
     "data": {
      "image/png": "[encoded data removed]",
      "text/plain": [
       "<Figure size 432x288 with 1 Axes>"
      ]
     },
     "metadata": {
      "needs_background": "light"
     },
     "output_type": "display_data"
    }
   ],
   "source": [
    "paper_data = [\n",
    "1032.146606445312,\n",
    "622.820007324219,\n",
    "513.924377441406,\n",
    "434.880462646484,\n",
    "169.899871826172,\n",
    "]\n",
    "plt.plot([300,673,873,1073,1273],paper_data,'-s',label='paper')\n",
    "\n",
    "plt.plot(model.T_range,np.array(model.tau_y_tot_T)*3.07)\n",
    "plt.plot(model.T_range,np.array(model.tau_y_tot_T)*2.75)\n",
    "plt.ylim(0,1200)"
   ]
  },
  {
   "cell_type": "code",
   "execution_count": 274,
   "metadata": {},
   "outputs": [
    {
     "data": {
      "text/html": [
       "<div>\n",
       "<style scoped>\n",
       "    .dataframe tbody tr th:only-of-type {\n",
       "        vertical-align: middle;\n",
       "    }\n",
       "\n",
       "    .dataframe tbody tr th {\n",
       "        vertical-align: top;\n",
       "    }\n",
       "\n",
       "    .dataframe thead th {\n",
       "        text-align: right;\n",
       "    }\n",
       "</style>\n",
       "<table border=\"1\" class=\"dataframe\">\n",
       "  <thead>\n",
       "    <tr style=\"text-align: right;\">\n",
       "      <th></th>\n",
       "      <th>T</th>\n",
       "      <th>tau_y</th>\n",
       "      <th>tau_y_Nb</th>\n",
       "      <th>tau_k_Nb</th>\n",
       "      <th>tau_j_Nb</th>\n",
       "      <th>tau_y_Ti</th>\n",
       "      <th>tau_k_Ti</th>\n",
       "      <th>tau_j_Ti</th>\n",
       "      <th>tau_y_Zr</th>\n",
       "      <th>tau_k_Zr</th>\n",
       "      <th>tau_j_Zr</th>\n",
       "    </tr>\n",
       "  </thead>\n",
       "  <tbody>\n",
       "    <tr>\n",
       "      <th>0</th>\n",
       "      <td>300</td>\n",
       "      <td>352.99</td>\n",
       "      <td>172.74</td>\n",
       "      <td>-31317508.80</td>\n",
       "      <td>31317681.54</td>\n",
       "      <td>58.30</td>\n",
       "      <td>-8418934.09</td>\n",
       "      <td>8418992.39</td>\n",
       "      <td>121.96</td>\n",
       "      <td>-22895799.60</td>\n",
       "      <td>22895921.56</td>\n",
       "    </tr>\n",
       "    <tr>\n",
       "      <th>1</th>\n",
       "      <td>500</td>\n",
       "      <td>239.84</td>\n",
       "      <td>117.74</td>\n",
       "      <td>-19664388.49</td>\n",
       "      <td>19664506.23</td>\n",
       "      <td>38.89</td>\n",
       "      <td>-3263441.69</td>\n",
       "      <td>3263480.58</td>\n",
       "      <td>83.21</td>\n",
       "      <td>-14683849.80</td>\n",
       "      <td>14683933.02</td>\n",
       "    </tr>\n",
       "    <tr>\n",
       "      <th>2</th>\n",
       "      <td>700</td>\n",
       "      <td>184.63</td>\n",
       "      <td>91.13</td>\n",
       "      <td>-13626641.38</td>\n",
       "      <td>13626732.51</td>\n",
       "      <td>28.97</td>\n",
       "      <td>-1630572.20</td>\n",
       "      <td>1630601.17</td>\n",
       "      <td>64.53</td>\n",
       "      <td>-10627463.19</td>\n",
       "      <td>10627527.72</td>\n",
       "    </tr>\n",
       "    <tr>\n",
       "      <th>3</th>\n",
       "      <td>900</td>\n",
       "      <td>151.28</td>\n",
       "      <td>75.02</td>\n",
       "      <td>-9618216.07</td>\n",
       "      <td>9618291.09</td>\n",
       "      <td>22.96</td>\n",
       "      <td>-1240883.03</td>\n",
       "      <td>1240905.99</td>\n",
       "      <td>53.30</td>\n",
       "      <td>-8072113.68</td>\n",
       "      <td>8072166.98</td>\n",
       "    </tr>\n",
       "    <tr>\n",
       "      <th>4</th>\n",
       "      <td>1100</td>\n",
       "      <td>128.58</td>\n",
       "      <td>63.94</td>\n",
       "      <td>-6566210.30</td>\n",
       "      <td>6566274.24</td>\n",
       "      <td>18.97</td>\n",
       "      <td>-1075109.53</td>\n",
       "      <td>1075128.50</td>\n",
       "      <td>45.67</td>\n",
       "      <td>-6218896.45</td>\n",
       "      <td>6218942.12</td>\n",
       "    </tr>\n",
       "    <tr>\n",
       "      <th>5</th>\n",
       "      <td>1300</td>\n",
       "      <td>111.86</td>\n",
       "      <td>55.66</td>\n",
       "      <td>-4335219.71</td>\n",
       "      <td>4335275.37</td>\n",
       "      <td>16.12</td>\n",
       "      <td>-982856.78</td>\n",
       "      <td>982872.90</td>\n",
       "      <td>40.07</td>\n",
       "      <td>-4742973.26</td>\n",
       "      <td>4743013.34</td>\n",
       "    </tr>\n",
       "    <tr>\n",
       "      <th>6</th>\n",
       "      <td>1500</td>\n",
       "      <td>98.87</td>\n",
       "      <td>49.16</td>\n",
       "      <td>-3116011.93</td>\n",
       "      <td>3116061.09</td>\n",
       "      <td>13.99</td>\n",
       "      <td>-923914.69</td>\n",
       "      <td>923928.67</td>\n",
       "      <td>35.73</td>\n",
       "      <td>-3521740.80</td>\n",
       "      <td>3521776.52</td>\n",
       "    </tr>\n",
       "  </tbody>\n",
       "</table>\n",
       "</div>"
      ],
      "text/plain": [
       "      T   tau_y  tau_y_Nb     tau_k_Nb     tau_j_Nb  tau_y_Ti    tau_k_Ti  \\\n",
       "0   300  352.99    172.74 -31317508.80  31317681.54     58.30 -8418934.09   \n",
       "1   500  239.84    117.74 -19664388.49  19664506.23     38.89 -3263441.69   \n",
       "2   700  184.63     91.13 -13626641.38  13626732.51     28.97 -1630572.20   \n",
       "3   900  151.28     75.02  -9618216.07   9618291.09     22.96 -1240883.03   \n",
       "4  1100  128.58     63.94  -6566210.30   6566274.24     18.97 -1075109.53   \n",
       "5  1300  111.86     55.66  -4335219.71   4335275.37     16.12  -982856.78   \n",
       "6  1500   98.87     49.16  -3116011.93   3116061.09     13.99  -923914.69   \n",
       "\n",
       "     tau_j_Ti  tau_y_Zr     tau_k_Zr     tau_j_Zr  \n",
       "0  8418992.39    121.96 -22895799.60  22895921.56  \n",
       "1  3263480.58     83.21 -14683849.80  14683933.02  \n",
       "2  1630601.17     64.53 -10627463.19  10627527.72  \n",
       "3  1240905.99     53.30  -8072113.68   8072166.98  \n",
       "4  1075128.50     45.67  -6218896.45   6218942.12  \n",
       "5   982872.90     40.07  -4742973.26   4743013.34  \n",
       "6   923928.67     35.73  -3521740.80   3521776.52  "
      ]
     },
     "execution_count": 274,
     "metadata": {},
     "output_type": "execute_result"
    }
   ],
   "source": [
    "model.calc_data"
   ]
  },
  {
   "cell_type": "code",
   "execution_count": 275,
   "metadata": {},
   "outputs": [
    {
     "data": {
      "text/plain": [
       "<matplotlib.lines.Line2D at 0x137ab5450>"
      ]
     },
     "execution_count": 275,
     "metadata": {},
     "output_type": "execute_result"
    },
    {
     "data": {
      "image/png": "[encoded data removed]",
      "text/plain": [
       "<Figure size 432x288 with 1 Axes>"
      ]
     },
     "metadata": {
      "needs_background": "light"
     },
     "output_type": "display_data"
    }
   ],
   "source": [
    "x = model.elements_kappa_i_convergence_record['Nb']['kappa_300']\n",
    "y = model.elements_kappa_i_convergence_record['Nb']['tau_y_300']\n",
    "\n",
    "plt.scatter(x,y)\n",
    "#plt.ylim(0,500)\n",
    "plt.axhline(min(y))"
   ]
  },
  {
   "cell_type": "code",
   "execution_count": 276,
   "metadata": {},
   "outputs": [
    {
     "data": {
      "text/plain": [
       "tau_y_300     (1002.7963064959441, 400.0525519821588, 199.74...\n",
       "kappa_300                        (1.5, 2.0, 2.5, 3.0, 3.5, 4.0)\n",
       "kappa_500                        (1.5, 2.0, 2.5, 3.0, 3.5, 4.0)\n",
       "tau_y_500     (986.6387111576939, 372.551267326332, 158.2651...\n",
       "kappa_700                        (1.5, 2.0, 2.5, 3.0, 3.5, 4.0)\n",
       "tau_y_700     (979.4799040704661, 360.35709457371473, 139.82...\n",
       "kappa_900                        (1.5, 2.0, 2.5, 3.0, 3.5, 4.0)\n",
       "tau_y_900     (975.4115548666172, 353.430670741139, 129.3480...\n",
       "kappa_1100                       (1.5, 2.0, 2.5, 3.0, 3.5, 4.0)\n",
       "tau_y_1100    (972.7767502727976, 348.9473376281844, 122.569...\n",
       "kappa_1300                       (1.5, 2.0, 2.5, 3.0, 3.5, 4.0)\n",
       "tau_y_1300    (970.9261670420253, 345.79996959158024, 117.81...\n",
       "kappa_1500                       (1.5, 2.0, 2.5, 3.0, 3.5, 4.0)\n",
       "tau_y_1500    (969.5523184063393, 343.4644202311275, 114.284...\n",
       "Name: Nb, dtype: object"
      ]
     },
     "execution_count": 276,
     "metadata": {},
     "output_type": "execute_result"
    }
   ],
   "source": [
    "model.elements_kappa_i_convergence_record['Nb']"
   ]
  },
  {
   "cell_type": "code",
   "execution_count": 277,
   "metadata": {},
   "outputs": [
    {
     "data": {
      "text/plain": [
       "{'tau_y_300': (1002.7963064959441,\n",
       "  400.0525519821588,\n",
       "  199.74675570484422,\n",
       "  174.01974690565837,\n",
       "  208.41596094955932,\n",
       "  261.84029020880877),\n",
       " 'kappa_300': (1.5, 2.0, 2.5, 3.0, 3.5, 4.0),\n",
       " 'kappa_500': (1.5, 2.0, 2.5, 3.0, 3.5, 4.0),\n",
       " 'tau_y_500': (986.6387111576939,\n",
       "  372.551267326332,\n",
       "  158.2651990579083,\n",
       "  116.15019165354414,\n",
       "  132.0480587829182,\n",
       "  165.2428424906762),\n",
       " 'kappa_700': (1.5, 2.0, 2.5, 3.0, 3.5, 4.0),\n",
       " 'tau_y_700': (979.4799040704661,\n",
       "  360.35709457371473,\n",
       "  139.82291829075095,\n",
       "  90.29180524778124,\n",
       "  97.65110180150738,\n",
       "  121.23558650976634),\n",
       " 'kappa_900': (1.5, 2.0, 2.5, 3.0, 3.5, 4.0),\n",
       " 'tau_y_900': (975.4115548666172,\n",
       "  353.430670741139,\n",
       "  129.34804125673517,\n",
       "  75.59860513642636,\n",
       "  78.08763468323951,\n",
       "  96.16702681518166),\n",
       " 'kappa_1100': (1.5, 2.0, 2.5, 3.0, 3.5, 4.0),\n",
       " 'tau_y_1100': (972.7767502727976,\n",
       "  348.9473376281844,\n",
       "  122.56999832808667,\n",
       "  66.09214217949625,\n",
       "  65.42928448393332,\n",
       "  79.94234728521018),\n",
       " 'kappa_1300': (1.5, 2.0, 2.5, 3.0, 3.5, 4.0),\n",
       " 'tau_y_1300': (970.9261670420253,\n",
       "  345.79996959158024,\n",
       "  117.8132704286299,\n",
       "  59.422057569696264,\n",
       "  56.54870987155487,\n",
       "  68.5599739481056),\n",
       " 'kappa_1500': (1.5, 2.0, 2.5, 3.0, 3.5, 4.0),\n",
       " 'tau_y_1500': (969.5523184063393,\n",
       "  343.4644202311275,\n",
       "  114.28454514334435,\n",
       "  54.47500530326945,\n",
       "  49.96317814177001,\n",
       "  60.11997532469682)}"
      ]
     },
     "execution_count": 277,
     "metadata": {},
     "output_type": "execute_result"
    }
   ],
   "source": [
    "model.elements_kappa_i_convergence_record['Nb'].to_dict()"
   ]
  },
  {
   "cell_type": "code",
   "execution_count": null,
   "metadata": {},
   "outputs": [],
   "source": []
  },
  {
   "cell_type": "code",
   "execution_count": 278,
   "metadata": {},
   "outputs": [],
   "source": [
    "x = np.array(model.elements_kappa_i_convergence_record['Nb']['kappa_300'])\n",
    "y = np.array(model.elements_kappa_i_convergence_record['Nb']['tau_y_300'])"
   ]
  },
  {
   "cell_type": "code",
   "execution_count": 279,
   "metadata": {},
   "outputs": [
    {
     "data": {
      "text/plain": [
       "174.01974690565837"
      ]
     },
     "execution_count": 279,
     "metadata": {},
     "output_type": "execute_result"
    }
   ],
   "source": [
    "y.min()"
   ]
  },
  {
   "cell_type": "code",
   "execution_count": null,
   "metadata": {},
   "outputs": [],
   "source": []
  },
  {
   "cell_type": "code",
   "execution_count": 280,
   "metadata": {},
   "outputs": [
    {
     "name": "stdout",
     "output_type": "stream",
     "text": [
      "Optimization terminated successfully    (Exit mode 0)\n",
      "            Current function value: [172.73632164]\n",
      "            Iterations: 5\n",
      "            Function evaluations: 11\n",
      "            Gradient evaluations: 5\n"
     ]
    }
   ],
   "source": [
    "polyfit = np.polyfit(x,y,4)\n",
    "npfit = np.poly1d(polyfit)\n",
    "guess_kappa = 3\n",
    "optimized_kappa = optimize.fmin_slsqp(npfit,guess_kappa,bounds=[(1,4)])"
   ]
  },
  {
   "cell_type": "code",
   "execution_count": 281,
   "metadata": {},
   "outputs": [
    {
     "data": {
      "text/plain": [
       "[<matplotlib.lines.Line2D at 0x137b82850>]"
      ]
     },
     "execution_count": 281,
     "metadata": {},
     "output_type": "execute_result"
    },
    {
     "data": {
      "image/png": "[encoded data removed]",
      "text/plain": [
       "<Figure size 432x288 with 1 Axes>"
      ]
     },
     "metadata": {
      "needs_background": "light"
     },
     "output_type": "display_data"
    }
   ],
   "source": [
    "x_t = np.linspace(1,4,100)\n",
    "plt.scatter(x,y)\n",
    "plt.plot(x_t,npfit(x_t))"
   ]
  },
  {
   "cell_type": "code",
   "execution_count": null,
   "metadata": {},
   "outputs": [],
   "source": []
  }
 ],
 "metadata": {
  "kernelspec": {
   "display_name": "Python 3",
   "language": "python",
   "name": "python3"
  },
  "language_info": {
   "codemirror_mode": {
    "name": "ipython",
    "version": 3
   },
   "file_extension": ".py",
   "mimetype": "text/x-python",
   "name": "python",
   "nbconvert_exporter": "python",
   "pygments_lexer": "ipython3",
   "version": "3.7.4"
  }
 },
 "nbformat": 4,
 "nbformat_minor": 2
}
