{
 "cells": [
  {
   "cell_type": "code",
   "execution_count": 2,
   "metadata": {},
   "outputs": [],
   "source": [
    "import matplotlib.pyplot as plt\n",
    "import numpy as np\n",
    "import pandas as pd\n",
    "%matplotlib inline\n",
    "from matplotlib import rc, font_manager\n",
    "ticks_font = font_manager.FontProperties(family='serif', style='normal',\n",
    "                                         size=24, weight='normal', stretch='normal')"
   ]
  },
  {
   "cell_type": "code",
   "execution_count": 3,
   "metadata": {},
   "outputs": [],
   "source": [
    "def elastic_constants(C):\n",
    "    C11 = C[0]\n",
    "    C12 = C[1]\n",
    "    C44 = C[2]\n",
    "    \n",
    "    G = np.sqrt(0.5*C44*(C11-C12))\n",
    "    B = C11 + 2*C12\n",
    "    nu = (3*B - 2*G)/2/(3*B+G)\n",
    "    print(G,nu)"
   ]
  },
  {
   "cell_type": "code",
   "execution_count": 8,
   "metadata": {},
   "outputs": [
    {
     "name": "stdout",
     "output_type": "stream",
     "text": [
      "95.67653839891993 0.43155128844625135\n"
     ]
    }
   ],
   "source": [
    "# VEGARD\n",
    "elastic_constants([355,156,92])"
   ]
  },
  {
   "cell_type": "code",
   "execution_count": 5,
   "metadata": {},
   "outputs": [
    {
     "name": "stdout",
     "output_type": "stream",
     "text": [
      "15.527000000000001\n",
      "17.955000000000002\n",
      "17.988\n",
      "14.023000000000001\n",
      "15.807\n"
     ]
    }
   ],
   "source": [
    "print(16.155 - 0.628)\n",
    "print(16.155 + 1.8)\n",
    "print(16.155 + 1.833)\n",
    "print(16.155 - 2.132)\n",
    "print(16.155 - 0.348)"
   ]
  },
  {
   "cell_type": "code",
   "execution_count": null,
   "metadata": {},
   "outputs": [],
   "source": []
  },
  {
   "cell_type": "code",
   "execution_count": null,
   "metadata": {},
   "outputs": [],
   "source": []
  },
  {
   "cell_type": "code",
   "execution_count": 6,
   "metadata": {},
   "outputs": [
    {
     "name": "stdout",
     "output_type": "stream",
     "text": [
      "15.480999999999998\n",
      "17.628\n",
      "17.976999999999997\n",
      "14.822999999999999\n",
      "16.127\n"
     ]
    }
   ],
   "source": [
    "#EAM RANDOM\n",
    "print(16.307-0.826)\n",
    "print(16.307+1.321)\n",
    "print(16.307+1.67)\n",
    "print(16.307-1.484)\n",
    "print(16.307-0.180)"
   ]
  },
  {
   "cell_type": "code",
   "execution_count": 7,
   "metadata": {},
   "outputs": [
    {
     "name": "stdout",
     "output_type": "stream",
     "text": [
      "77.74959806970065 0.44036844122598434\n"
     ]
    }
   ],
   "source": [
    "elastic_constants([312,157,78])"
   ]
  },
  {
   "cell_type": "code",
   "execution_count": null,
   "metadata": {},
   "outputs": [],
   "source": []
  },
  {
   "cell_type": "code",
   "execution_count": 11,
   "metadata": {},
   "outputs": [
    {
     "name": "stdout",
     "output_type": "stream",
     "text": [
      "15.489\n",
      "17.608\n",
      "17.945\n",
      "14.858000000000002\n",
      "16.165000000000003\n"
     ]
    }
   ],
   "source": [
    "# EAM\n",
    "print(16.292-0.803)\n",
    "print(16.292+1.316)\n",
    "print(16.292+1.653)\n",
    "print(16.292-1.434)\n",
    "print(16.292-0.127)"
   ]
  },
  {
   "cell_type": "code",
   "execution_count": 12,
   "metadata": {},
   "outputs": [
    {
     "name": "stdout",
     "output_type": "stream",
     "text": [
      "81.2566920321028 0.4386821140953876\n"
     ]
    }
   ],
   "source": [
    "elastic_constants([317.9,158.8,83])"
   ]
  },
  {
   "cell_type": "code",
   "execution_count": 10,
   "metadata": {},
   "outputs": [
    {
     "name": "stdout",
     "output_type": "stream",
     "text": [
      "15.443000000000001\n",
      "17.645\n",
      "17.970000000000002\n",
      "14.852\n",
      "16.066000000000003\n",
      "92.50283779430771 0.43326243696600203\n"
     ]
    }
   ],
   "source": [
    "# equimolar VEGARD ROM\n",
    "16.3993648\n",
    "print(16.399-0.956)\n",
    "print(16.399+1.246)\n",
    "print(16.399+1.571)\n",
    "print(16.399-1.547)\n",
    "print(16.399-0.333)\n",
    "elastic_constants([346.8,157.7,90.5])"
   ]
  },
  {
   "cell_type": "code",
   "execution_count": null,
   "metadata": {},
   "outputs": [],
   "source": []
  }
 ],
 "metadata": {
  "kernelspec": {
   "display_name": "Python 3",
   "language": "python",
   "name": "python3"
  },
  "language_info": {
   "codemirror_mode": {
    "name": "ipython",
    "version": 3
   },
   "file_extension": ".py",
   "mimetype": "text/x-python",
   "name": "python",
   "nbconvert_exporter": "python",
   "pygments_lexer": "ipython3",
   "version": "3.7.4"
  }
 },
 "nbformat": 4,
 "nbformat_minor": 2
}
