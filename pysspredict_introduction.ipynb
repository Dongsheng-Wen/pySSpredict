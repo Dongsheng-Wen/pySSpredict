{
 "cells": [
  {
   "cell_type": "markdown",
   "metadata": {},
   "source": [
    "# Introduction to pySSpredict\n",
    "\n",
    "**pySSpredict** is a **Py**thon-based tool for **S**olid-solution **S**trengthening **predict**ion for complex-concentrated alloys. It can be easily installed on the high-throughput computation resources and integrated with TC-Python for desiging high-temperature high-strength structural materials. \n",
    "\n",
    "In the following tutorials, you will learn how to use pySSpredict.\n",
    "\n",
    " * **Get started** Click on the links below to begin each tutorial.\n",
    "\n",
    " * **Important** To exit individual tutorials and return to this page, use File -> Close and Halt. \"Terminate Session\" (top right) will kill your entire Jupyter session.\n",
    "\n",
    "\n",
    "### [Simple reproducing data from published literatures](bin/reproduce_data.ipynb)\n",
    "- Setup alloy systems\n",
    "- Define input data\n",
    "- Select model and set parameters for a model\n",
    "- Organize data into Pandas dataframes and plot\n",
    "\n",
    "\n",
    "### [Ternary system calculations](bin/pySSpredict_ternary_workflow.ipynb)\n",
    "- Perform calculations for ternary (or pseudo-ternary) alloy systems\n",
    "- Organize data and visualize data with python-ternary\n",
    "\n",
    "\n",
    "### [High-throughput calculations](bin/HTP_workflow.ipynb)\n",
    "- Setup high-throughput calculations \n",
    "- Organize data in Pandas dataframes\n",
    "\n",
    "\n",
    "### [Coupled with TC-python](bin/sspredict_tcpython_workflow.ipynb)\n",
    "- Interaced with ThermoCalc-python (**NOTE**: This notebook cannot be run on nanohub.)\n",
    "\n"
   ]
  },
  {
   "cell_type": "code",
   "execution_count": null,
   "metadata": {},
   "outputs": [],
   "source": []
  }
 ],
 "metadata": {
  "kernelspec": {
   "display_name": "Python 3 (ipykernel)",
   "language": "python",
   "name": "python3"
  },
  "language_info": {
   "codemirror_mode": {
    "name": "ipython",
    "version": 3
   },
   "file_extension": ".py",
   "mimetype": "text/x-python",
   "name": "python",
   "nbconvert_exporter": "python",
   "pygments_lexer": "ipython3",
   "version": "3.7.12"
  }
 },
 "nbformat": 4,
 "nbformat_minor": 2
}
